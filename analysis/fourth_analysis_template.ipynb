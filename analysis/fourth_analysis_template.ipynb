{
 "cells": [
  {
   "cell_type": "markdown",
   "id": "protected-doctrine",
   "metadata": {},
   "source": [
    "# A fourth template: with a better train/validation/test split\n",
    "\n",
    "*This notebook differs from the third in more rigorously separating cross-validation from testing. We only use predictions on a held-out test set for the final analysis, but repeat the train/validation versus test split five times, so we can make predictions on the whole corpus. The changes start in the section 'Separate train and validation from final test set.' Everything up to there remains the same.*\n",
    "\n",
    "For a first test, let's consider the problem of author gender. We know our data model of gender is imperfect (limited for the most part to m/f), and we don't imagine a predictive model trained on this boundary will tell us very much about gender directly; it's almost certainly, to some degree, a proxy for genre. But it's a tricky boundary to model and thus a good place to start. We're in no danger of getting 100% accuracy!\n",
    "\n",
    "Our ultimate goal in this experiment, and other experiments based on this template, is to figure out:\n",
    "\n",
    "1. What kinds of *historical questions* are really distorted by the errors in digital libraries? Our working hypothesis is that certain boundaries (like genre and date) are likely to be more sensitive than others (like e.g. gender), because the errors are in practice not distributed randomly.\n",
    "\n",
    "2. What kinds of *errors* are most likely to produce distortion? I'm acting on the hypothesis (or hunch) that paratext is at least as big a problem as the better-studied problem of OCR error. For instance, the paratext in works of fiction is often from a different genre, and composed at a different time, than the original work. So it's very likely to distort conclusions.\n",
    "\n",
    "### Imports"
   ]
  },
  {
   "cell_type": "code",
   "execution_count": 1,
   "id": "magnetic-developer",
   "metadata": {},
   "outputs": [],
   "source": [
    "import pandas as pd\n",
    "import numpy as np\n",
    "import os, random\n",
    "from matplotlib import pyplot as plt\n",
    "from scipy.stats import rankdata\n",
    "from scipy.stats import pearsonr\n",
    "import statsmodels.api as sm\n",
    "from sklearn.model_selection import cross_validate\n",
    "from sklearn.feature_extraction.text import CountVectorizer\n",
    "from sklearn.linear_model import LogisticRegression\n",
    "from sklearn.preprocessing import StandardScaler\n",
    "from sklearn.model_selection import cross_validate\n",
    "from sklearn.model_selection import GroupKFold\n",
    "from sklearn.model_selection import cross_val_predict\n",
    "from sklearn.pipeline import Pipeline"
   ]
  },
  {
   "cell_type": "markdown",
   "id": "streaming-minutes",
   "metadata": {},
   "source": [
    "### Volume metadata\n",
    "\n",
    "This metadata file is in the GitHub repo. It has one row for each clean volume. \n",
    "\n",
    "Not all of these volumes have been trimmed and chunked; we will rely on the Box folders for a list of the chunks actually available to model. But then we will use this list in order to get features like genre, gender, and date."
   ]
  },
  {
   "cell_type": "code",
   "execution_count": 2,
   "id": "chemical-invention",
   "metadata": {},
   "outputs": [],
   "source": [
    "volmeta = pd.read_csv('../metadata/updatedvolumemetadata.tsv', sep = '\\t')"
   ]
  },
  {
   "cell_type": "code",
   "execution_count": 3,
   "id": "common-companion",
   "metadata": {},
   "outputs": [
    {
     "data": {
      "text/html": [
       "<div>\n",
       "<style scoped>\n",
       "    .dataframe tbody tr th:only-of-type {\n",
       "        vertical-align: middle;\n",
       "    }\n",
       "\n",
       "    .dataframe tbody tr th {\n",
       "        vertical-align: top;\n",
       "    }\n",
       "\n",
       "    .dataframe thead th {\n",
       "        text-align: right;\n",
       "    }\n",
       "</style>\n",
       "<table border=\"1\" class=\"dataframe\">\n",
       "  <thead>\n",
       "    <tr style=\"text-align: right;\">\n",
       "      <th></th>\n",
       "      <th>docid</th>\n",
       "      <th>author</th>\n",
       "      <th>authordate</th>\n",
       "      <th>title</th>\n",
       "      <th>latestcomp</th>\n",
       "      <th>hathidate</th>\n",
       "      <th>imprint</th>\n",
       "      <th>gutenstring</th>\n",
       "      <th>enumcron</th>\n",
       "      <th>gbindex</th>\n",
       "      <th>...</th>\n",
       "      <th>contents</th>\n",
       "      <th>instances</th>\n",
       "      <th>genre</th>\n",
       "      <th>audience</th>\n",
       "      <th>authgender</th>\n",
       "      <th>multiplehtids</th>\n",
       "      <th>comments</th>\n",
       "      <th>coder</th>\n",
       "      <th>Folder</th>\n",
       "      <th>Trimmed</th>\n",
       "    </tr>\n",
       "  </thead>\n",
       "  <tbody>\n",
       "    <tr>\n",
       "      <th>0</th>\n",
       "      <td>loc.ark+=13960=t5p851b8s</td>\n",
       "      <td>Reid, Stuart J.</td>\n",
       "      <td>NaN</td>\n",
       "      <td>Lord John Russell</td>\n",
       "      <td>1895</td>\n",
       "      <td>NaN</td>\n",
       "      <td>New York;Harper &amp; brothers;1</td>\n",
       "      <td>Reid, Stuart J. | Lord John Russell</td>\n",
       "      <td>&lt;blank&gt;</td>\n",
       "      <td>27553</td>\n",
       "      <td>...</td>\n",
       "      <td>NaN</td>\n",
       "      <td>NaN</td>\n",
       "      <td>bio</td>\n",
       "      <td>NaN</td>\n",
       "      <td>u</td>\n",
       "      <td>NaN</td>\n",
       "      <td>NaN</td>\n",
       "      <td>morgan</td>\n",
       "      <td>gutenbiotrimmed</td>\n",
       "      <td>Trimmed</td>\n",
       "    </tr>\n",
       "    <tr>\n",
       "      <th>1</th>\n",
       "      <td>hvd.32044070870779</td>\n",
       "      <td>Smiles, Samuel,</td>\n",
       "      <td>NaN</td>\n",
       "      <td>Lives of the engineers</td>\n",
       "      <td>1879</td>\n",
       "      <td>NaN</td>\n",
       "      <td>London;J. Murray;1874-1877.</td>\n",
       "      <td>Smiles, Samuel | Lives of the Engineers</td>\n",
       "      <td>v. 5</td>\n",
       "      <td>27710</td>\n",
       "      <td>...</td>\n",
       "      <td>NaN</td>\n",
       "      <td>NaN</td>\n",
       "      <td>bio | short</td>\n",
       "      <td>NaN</td>\n",
       "      <td>m</td>\n",
       "      <td>NaN</td>\n",
       "      <td>2 people, mixed together (not one per chapter)</td>\n",
       "      <td>morgan</td>\n",
       "      <td>gutenbiotrimmed</td>\n",
       "      <td>Trimmed</td>\n",
       "    </tr>\n",
       "    <tr>\n",
       "      <th>2</th>\n",
       "      <td>mdp.39015005892362</td>\n",
       "      <td>Cruttwell, Maud.</td>\n",
       "      <td>NaN</td>\n",
       "      <td>Luca Signorelli</td>\n",
       "      <td>1899</td>\n",
       "      <td>NaN</td>\n",
       "      <td>London;G. Bell &amp; sons;1899.</td>\n",
       "      <td>Cruttwell, Maud | Luca Signorelli</td>\n",
       "      <td>&lt;blank&gt;</td>\n",
       "      <td>27759</td>\n",
       "      <td>...</td>\n",
       "      <td>NaN</td>\n",
       "      <td>NaN</td>\n",
       "      <td>bio</td>\n",
       "      <td>NaN</td>\n",
       "      <td>f</td>\n",
       "      <td>NaN</td>\n",
       "      <td>NaN</td>\n",
       "      <td>morgan</td>\n",
       "      <td>gutenbiotrimmed</td>\n",
       "      <td>Trimmed</td>\n",
       "    </tr>\n",
       "    <tr>\n",
       "      <th>3</th>\n",
       "      <td>mdp.39015051108531</td>\n",
       "      <td>Bettany, George Thomas,</td>\n",
       "      <td>NaN</td>\n",
       "      <td>Life of Charles Darwin</td>\n",
       "      <td>1887</td>\n",
       "      <td>NaN</td>\n",
       "      <td>London;W. Scott;1887.</td>\n",
       "      <td>Bettany, George Thomas | Life of Charles Darwin</td>\n",
       "      <td>&lt;blank&gt;</td>\n",
       "      <td>28380</td>\n",
       "      <td>...</td>\n",
       "      <td>NaN</td>\n",
       "      <td>NaN</td>\n",
       "      <td>bio</td>\n",
       "      <td>NaN</td>\n",
       "      <td>m</td>\n",
       "      <td>NaN</td>\n",
       "      <td>NaN</td>\n",
       "      <td>morgan</td>\n",
       "      <td>gutenbiotrimmed</td>\n",
       "      <td>Trimmed</td>\n",
       "    </tr>\n",
       "    <tr>\n",
       "      <th>4</th>\n",
       "      <td>loc.ark+=13960=t6b27z54n</td>\n",
       "      <td>Gay, Sydney Howard,</td>\n",
       "      <td>NaN</td>\n",
       "      <td>James Madison</td>\n",
       "      <td>1889</td>\n",
       "      <td>NaN</td>\n",
       "      <td>Boston;New York;Houghton, Mi</td>\n",
       "      <td>Gay, Sydney Howard | James Madison</td>\n",
       "      <td>&lt;blank&gt;</td>\n",
       "      <td>28992</td>\n",
       "      <td>...</td>\n",
       "      <td>NaN</td>\n",
       "      <td>NaN</td>\n",
       "      <td>bio</td>\n",
       "      <td>NaN</td>\n",
       "      <td>u</td>\n",
       "      <td>NaN</td>\n",
       "      <td>NaN</td>\n",
       "      <td>morgan</td>\n",
       "      <td>gutenbiotrimmed</td>\n",
       "      <td>Trimmed</td>\n",
       "    </tr>\n",
       "  </tbody>\n",
       "</table>\n",
       "<p>5 rows × 24 columns</p>\n",
       "</div>"
      ],
      "text/plain": [
       "                      docid                   author authordate  \\\n",
       "0  loc.ark+=13960=t5p851b8s          Reid, Stuart J.        NaN   \n",
       "1        hvd.32044070870779          Smiles, Samuel,        NaN   \n",
       "2        mdp.39015005892362         Cruttwell, Maud.        NaN   \n",
       "3        mdp.39015051108531  Bettany, George Thomas,        NaN   \n",
       "4  loc.ark+=13960=t6b27z54n      Gay, Sydney Howard,        NaN   \n",
       "\n",
       "                    title  latestcomp  hathidate  \\\n",
       "0       Lord John Russell        1895        NaN   \n",
       "1  Lives of the engineers        1879        NaN   \n",
       "2         Luca Signorelli        1899        NaN   \n",
       "3  Life of Charles Darwin        1887        NaN   \n",
       "4           James Madison        1889        NaN   \n",
       "\n",
       "                        imprint  \\\n",
       "0  New York;Harper & brothers;1   \n",
       "1   London;J. Murray;1874-1877.   \n",
       "2   London;G. Bell & sons;1899.   \n",
       "3         London;W. Scott;1887.   \n",
       "4  Boston;New York;Houghton, Mi   \n",
       "\n",
       "                                       gutenstring enumcron gbindex  ...  \\\n",
       "0              Reid, Stuart J. | Lord John Russell  <blank>   27553  ...   \n",
       "1          Smiles, Samuel | Lives of the Engineers     v. 5   27710  ...   \n",
       "2                Cruttwell, Maud | Luca Signorelli  <blank>   27759  ...   \n",
       "3  Bettany, George Thomas | Life of Charles Darwin  <blank>   28380  ...   \n",
       "4               Gay, Sydney Howard | James Madison  <blank>   28992  ...   \n",
       "\n",
       "   contents  instances        genre audience authgender  multiplehtids  \\\n",
       "0       NaN        NaN          bio      NaN          u            NaN   \n",
       "1       NaN        NaN  bio | short      NaN          m            NaN   \n",
       "2       NaN        NaN          bio      NaN          f            NaN   \n",
       "3       NaN        NaN          bio      NaN          m            NaN   \n",
       "4       NaN        NaN          bio      NaN          u            NaN   \n",
       "\n",
       "                                         comments   coder           Folder  \\\n",
       "0                                             NaN  morgan  gutenbiotrimmed   \n",
       "1  2 people, mixed together (not one per chapter)  morgan  gutenbiotrimmed   \n",
       "2                                             NaN  morgan  gutenbiotrimmed   \n",
       "3                                             NaN  morgan  gutenbiotrimmed   \n",
       "4                                             NaN  morgan  gutenbiotrimmed   \n",
       "\n",
       "   Trimmed  \n",
       "0  Trimmed  \n",
       "1  Trimmed  \n",
       "2  Trimmed  \n",
       "3  Trimmed  \n",
       "4  Trimmed  \n",
       "\n",
       "[5 rows x 24 columns]"
      ]
     },
     "execution_count": 3,
     "metadata": {},
     "output_type": "execute_result"
    }
   ],
   "source": [
    "volmeta.head()"
   ]
  },
  {
   "cell_type": "markdown",
   "id": "photographic-jacket",
   "metadata": {},
   "source": [
    "Here's a function we can use to generate a simpler genre column for modeling the biography / fiction boundary."
   ]
  },
  {
   "cell_type": "code",
   "execution_count": 4,
   "id": "inner-printer",
   "metadata": {},
   "outputs": [
    {
     "name": "stdout",
     "output_type": "stream",
     "text": [
      "anomaly dutch\n"
     ]
    }
   ],
   "source": [
    "def simplify_genre(genrestring):\n",
    "    genres = [x.strip() for x in genrestring.split('|')]\n",
    "    if 'bio' in genres:\n",
    "        return 'bio'\n",
    "    elif 'fic' in genres:\n",
    "        return 'fic'\n",
    "    else:\n",
    "        print('anomaly', genrestring)\n",
    "        return float('nan')\n",
    "\n",
    "volmeta['simplegenre'] = volmeta['genre'].apply(simplify_genre)"
   ]
  },
  {
   "cell_type": "markdown",
   "id": "thermal-museum",
   "metadata": {},
   "source": [
    "### Works we have actually trimmed and chunked so far\n",
    "\n",
    "The Box folders ```cleannarratives``` and ```dirtynarratives``` store processed texts.\n",
    "\n",
    "The ```cleannarratives``` folder consists of Gutenberg texts, manually trimmed and then automatically chunked to contain ~80,000 characters each.\n",
    "\n",
    "The ```dirtynarratives``` folder contains Hathi texts that have *not* been trimmed. The only clean-up done on these so far is that running headers have been removed. They've also been chunked to contain ~80,000 characters each, but the boundaries are not aligned with ```cleannarratives.```\n",
    "\n",
    "Note that the number of files will not be the same in these two folders, and the number of chunks for each volume will not be the same. They are chunked independently."
   ]
  },
  {
   "cell_type": "code",
   "execution_count": 5,
   "id": "relative-hardwood",
   "metadata": {},
   "outputs": [],
   "source": [
    "cleanfiles = [x for x in os.listdir('/Users/tunder/Box Sync/NEHproject/cleannarratives/')\n",
    "              if x.endswith('.txt')]\n",
    "dirtyfiles = [x for x in os.listdir('/Users/tunder/Box Sync/NEHproject/dirtynarratives/')\n",
    "               if x.endswith('.txt')]"
   ]
  },
  {
   "cell_type": "code",
   "execution_count": 6,
   "id": "supreme-breeding",
   "metadata": {},
   "outputs": [
    {
     "name": "stdout",
     "output_type": "stream",
     "text": [
      "We have 2489 clean chunks, and\n",
      "2610  dirty ones.\n"
     ]
    }
   ],
   "source": [
    "print(\"We have \" + str(len(cleanfiles)) + \" clean chunks, and\")\n",
    "print(str(len(dirtyfiles)), \" dirty ones.\")"
   ]
  },
  {
   "cell_type": "markdown",
   "id": "adult-thinking",
   "metadata": {},
   "source": [
    "What is actually in these data objects?"
   ]
  },
  {
   "cell_type": "code",
   "execution_count": 7,
   "id": "broadband-brand",
   "metadata": {},
   "outputs": [
    {
     "data": {
      "text/plain": [
       "'36965_3.txt'"
      ]
     },
     "execution_count": 7,
     "metadata": {},
     "output_type": "execute_result"
    }
   ],
   "source": [
    "cleanfiles[0]"
   ]
  },
  {
   "cell_type": "markdown",
   "id": "happy-antigua",
   "metadata": {},
   "source": [
    "How many *volumes* have we trimmed and chunked so far?"
   ]
  },
  {
   "cell_type": "code",
   "execution_count": 8,
   "id": "large-sixth",
   "metadata": {},
   "outputs": [],
   "source": [
    "def get_gbindex(filename):\n",
    "    return filename.split('_')[0]\n",
    "\n",
    "gbdict = dict()\n",
    "\n",
    "for filename in cleanfiles:\n",
    "    gbindex = get_gbindex(filename)\n",
    "    if gbindex not in gbdict:\n",
    "        gbdict[gbindex] = []\n",
    "    gbdict[gbindex].append(filename)\n",
    "\n",
    "gbset = set(gbdict.keys())"
   ]
  },
  {
   "cell_type": "code",
   "execution_count": 9,
   "id": "minute-transaction",
   "metadata": {},
   "outputs": [
    {
     "name": "stdout",
     "output_type": "stream",
     "text": [
      "We have 423 separate clean volumes that have been chunked.\n"
     ]
    }
   ],
   "source": [
    "print(\"We have \" + str(len(gbset)) + \" separate clean volumes that have been chunked.\")"
   ]
  },
  {
   "cell_type": "markdown",
   "id": "under-macedonia",
   "metadata": {},
   "source": [
    "Let's create a dataframe with just the volumes we're actually using."
   ]
  },
  {
   "cell_type": "code",
   "execution_count": 10,
   "id": "divine-moment",
   "metadata": {},
   "outputs": [
    {
     "data": {
      "text/plain": [
       "(423, 25)"
      ]
     },
     "execution_count": 10,
     "metadata": {},
     "output_type": "execute_result"
    }
   ],
   "source": [
    "ourtitles = volmeta.loc[volmeta['gbindex'].isin(gbset), : ]\n",
    "ourtitles.shape"
   ]
  },
  {
   "cell_type": "markdown",
   "id": "discrete-respondent",
   "metadata": {},
   "source": [
    "### Balancing the distribution of classes across time\n",
    "\n",
    "Language change is very easy to model, so if you try to model the boundary between two categories that happen to be distributed differently across time (in your collection), you're very likely to get a model of language change. That's a problem if you want to study the categorical difference in itself, separated from confounding issues of chronology that might just be selection bias.\n",
    "\n",
    "Here we're distinguishing books written by men from those written by women. And although we don't really care about the model in its own right (since we're interested in the consequences of OCR distortion), it's still important to know what we're modeling, because OCR distortion could have *different* effects on different kinds of boundaries (e.g. chronological or demographic). \n",
    "\n",
    "So we need to be careful to balance the classes across time. At a minimum, we should require the median date for both categories to be roughly the same. A more ambitious approach would match the full distribution. But for right now let's keep it simple.\n",
    "\n",
    "Also, in order to keep things simple, let's select both classes to be the same size. So we'll match the size of the smaller class."
   ]
  },
  {
   "cell_type": "code",
   "execution_count": 11,
   "id": "antique-ireland",
   "metadata": {},
   "outputs": [
    {
     "name": "stdout",
     "output_type": "stream",
     "text": [
      "The smaller class has  139  volumes.\n"
     ]
    }
   ],
   "source": [
    "indexes_f = ourtitles.loc[ourtitles.authgender == 'f', : ].index.tolist()\n",
    "indexes_m = ourtitles.loc[ourtitles.authgender == 'm', : ].index.tolist()\n",
    "print('The smaller class has ', len(indexes_f), ' volumes.')"
   ]
  },
  {
   "cell_type": "markdown",
   "id": "desirable-belgium",
   "metadata": {},
   "source": [
    "The following function selects a matching number of volumes while keeping the median date similar in both categories."
   ]
  },
  {
   "cell_type": "code",
   "execution_count": 12,
   "id": "constitutional-combination",
   "metadata": {},
   "outputs": [],
   "source": [
    "def match_medians(smaller_indexes, larger_indexes, metadata):\n",
    "    '''\n",
    "    smaller_indexes = indexes of metadata for the smaller class\n",
    "    larger_indexes = indexes of metadata for the larger class\n",
    "    '''\n",
    "    selected_from_large = []\n",
    "    smaller_median = np.median(metadata.loc[smaller_indexes, 'latestcomp'])\n",
    "    \n",
    "    largerdf = metadata.loc[larger_indexes, : ]\n",
    "    above_median = largerdf.loc[largerdf['latestcomp'] >= smaller_median, : ].index.tolist()\n",
    "    below_median = largerdf.loc[largerdf['latestcomp'] <= smaller_median, : ].index.tolist()\n",
    "    \n",
    "    for i in range(len(smaller_indexes)):\n",
    "        if len(selected_from_large) > 0:\n",
    "            larger_median = np.median(metadata.loc[selected_from_large, 'latestcomp'])\n",
    "        else:\n",
    "            larger_median = smaller_median\n",
    "        \n",
    "        if larger_median >= smaller_median and len(below_median) > 0:\n",
    "            selected = random.sample(below_median, 1)[0]\n",
    "            below_median.pop(below_median.index(selected))\n",
    "            selected_from_large.append(selected)\n",
    "        elif larger_median <= smaller_median and len(above_median) > 0:\n",
    "            selected = random.sample(above_median, 1)[0]\n",
    "            above_median.pop(above_median.index(selected))\n",
    "            selected_from_large.append(selected)\n",
    "        else:\n",
    "            # we have no more items that won't distort the median\n",
    "            break\n",
    "\n",
    "    return selected_from_large, smaller_median, larger_median\n",
    "\n",
    "selected_m, median_f, median_m = match_medians(indexes_f, indexes_m, ourtitles)  "
   ]
  },
  {
   "cell_type": "code",
   "execution_count": 13,
   "id": "headed-assessment",
   "metadata": {},
   "outputs": [
    {
     "name": "stdout",
     "output_type": "stream",
     "text": [
      "1890.0 1889.5 139\n"
     ]
    }
   ],
   "source": [
    "print(median_f, median_m, len(selected_m))"
   ]
  },
  {
   "cell_type": "code",
   "execution_count": 14,
   "id": "spanish-morris",
   "metadata": {},
   "outputs": [
    {
     "data": {
      "text/plain": [
       "278"
      ]
     },
     "execution_count": 14,
     "metadata": {},
     "output_type": "execute_result"
    }
   ],
   "source": [
    "all_selected_vols = indexes_f + selected_m\n",
    "len(all_selected_vols)"
   ]
  },
  {
   "cell_type": "markdown",
   "id": "liberal-headquarters",
   "metadata": {},
   "source": [
    "We've gathered the actual indexes of rows in ```ourtitles.``` Now let's convert those to Gutenberg indexes (or other clean-volume identifiers, in cases where volumes are drawn from ECCO, etc.)"
   ]
  },
  {
   "cell_type": "code",
   "execution_count": 15,
   "id": "prime-manitoba",
   "metadata": {},
   "outputs": [],
   "source": [
    "selected_gbindexes = ourtitles.loc[all_selected_vols, 'gbindex']"
   ]
  },
  {
   "cell_type": "markdown",
   "id": "initial-authority",
   "metadata": {},
   "source": [
    "### Merging chunk and volume\n",
    "\n",
    "So far we've been operating at the volume level. But we will need chunk-level metadata in order to actually model the files.\n",
    "\n",
    "Let's create dataframes that have a row for each chunk and merge those dataframes with the information in volmeta."
   ]
  },
  {
   "cell_type": "code",
   "execution_count": 16,
   "id": "danish-operation",
   "metadata": {},
   "outputs": [],
   "source": [
    "def create_chunkframe(filelist, volmeta):\n",
    "    \n",
    "    chunkids = []\n",
    "    gbindices = []\n",
    "    \n",
    "    for filename in filelist:\n",
    "        chunkids.append(filename.replace('.txt', ''))\n",
    "        gbindices.append(get_gbindex(filename))\n",
    "    \n",
    "    df = pd.DataFrame({'chunkid': chunkids, 'gbindex': gbindices})\n",
    "    \n",
    "    chunkmeta = df.merge(volmeta, how = 'inner', on = 'gbindex')\n",
    "    \n",
    "    return chunkmeta"
   ]
  },
  {
   "cell_type": "code",
   "execution_count": 17,
   "id": "twelve-myanmar",
   "metadata": {},
   "outputs": [
    {
     "data": {
      "text/plain": [
       "(2489, 26)"
      ]
     },
     "execution_count": 17,
     "metadata": {},
     "output_type": "execute_result"
    }
   ],
   "source": [
    "cleanmeta = create_chunkframe(cleanfiles, ourtitles)\n",
    "cleanmeta.shape"
   ]
  },
  {
   "cell_type": "code",
   "execution_count": 18,
   "id": "another-german",
   "metadata": {},
   "outputs": [
    {
     "data": {
      "text/plain": [
       "(2610, 26)"
      ]
     },
     "execution_count": 18,
     "metadata": {},
     "output_type": "execute_result"
    }
   ],
   "source": [
    "dirtymeta = create_chunkframe(dirtyfiles, ourtitles)\n",
    "dirtymeta.shape"
   ]
  },
  {
   "cell_type": "markdown",
   "id": "generic-cross",
   "metadata": {},
   "source": [
    "Now we select the subsets of those dataframes with Gutenberg indexes that were selected by the match_medians function."
   ]
  },
  {
   "cell_type": "code",
   "execution_count": 19,
   "id": "complicated-tourism",
   "metadata": {},
   "outputs": [
    {
     "data": {
      "text/plain": [
       "(1537, 26)"
      ]
     },
     "execution_count": 19,
     "metadata": {},
     "output_type": "execute_result"
    }
   ],
   "source": [
    "cleanmodelmeta = cleanmeta.loc[cleanmeta['gbindex'].isin(selected_gbindexes), : ]\n",
    "cleanmodelmeta.shape"
   ]
  },
  {
   "cell_type": "code",
   "execution_count": 20,
   "id": "golden-landscape",
   "metadata": {},
   "outputs": [
    {
     "data": {
      "text/plain": [
       "(1619, 26)"
      ]
     },
     "execution_count": 20,
     "metadata": {},
     "output_type": "execute_result"
    }
   ],
   "source": [
    "dirtymodelmeta = dirtymeta.loc[dirtymeta['gbindex'].isin(selected_gbindexes), : ]\n",
    "dirtymodelmeta.shape"
   ]
  },
  {
   "cell_type": "markdown",
   "id": "exciting-sheep",
   "metadata": {},
   "source": [
    "### Term-document matrices for clean and dirty narratives \n"
   ]
  },
  {
   "cell_type": "code",
   "execution_count": 21,
   "id": "stupid-hazard",
   "metadata": {},
   "outputs": [],
   "source": [
    "clean_rootdir = '/Users/tunder/Box Sync/NEHproject/cleannarratives/'\n",
    "\n",
    "clean_paths = []\n",
    "\n",
    "for chunk_id in cleanmodelmeta['chunkid']:\n",
    "    clean_paths.append(clean_rootdir + chunk_id + '.txt')\n",
    "    "
   ]
  },
  {
   "cell_type": "code",
   "execution_count": 22,
   "id": "packed-industry",
   "metadata": {},
   "outputs": [
    {
     "data": {
      "text/html": [
       "<div>\n",
       "<style scoped>\n",
       "    .dataframe tbody tr th:only-of-type {\n",
       "        vertical-align: middle;\n",
       "    }\n",
       "\n",
       "    .dataframe tbody tr th {\n",
       "        vertical-align: top;\n",
       "    }\n",
       "\n",
       "    .dataframe thead th {\n",
       "        text-align: right;\n",
       "    }\n",
       "</style>\n",
       "<table border=\"1\" class=\"dataframe\">\n",
       "  <thead>\n",
       "    <tr style=\"text-align: right;\">\n",
       "      <th></th>\n",
       "      <th>000</th>\n",
       "      <th>10</th>\n",
       "      <th>100</th>\n",
       "      <th>10th</th>\n",
       "      <th>11</th>\n",
       "      <th>11th</th>\n",
       "      <th>12</th>\n",
       "      <th>120</th>\n",
       "      <th>12th</th>\n",
       "      <th>13</th>\n",
       "      <th>...</th>\n",
       "      <th>youth</th>\n",
       "      <th>youthful</th>\n",
       "      <th>youths</th>\n",
       "      <th>zeal</th>\n",
       "      <th>zealous</th>\n",
       "      <th>zenith</th>\n",
       "      <th>zest</th>\n",
       "      <th>zigzag</th>\n",
       "      <th>zone</th>\n",
       "      <th>æsthetic</th>\n",
       "    </tr>\n",
       "    <tr>\n",
       "      <th>chunkid</th>\n",
       "      <th></th>\n",
       "      <th></th>\n",
       "      <th></th>\n",
       "      <th></th>\n",
       "      <th></th>\n",
       "      <th></th>\n",
       "      <th></th>\n",
       "      <th></th>\n",
       "      <th></th>\n",
       "      <th></th>\n",
       "      <th></th>\n",
       "      <th></th>\n",
       "      <th></th>\n",
       "      <th></th>\n",
       "      <th></th>\n",
       "      <th></th>\n",
       "      <th></th>\n",
       "      <th></th>\n",
       "      <th></th>\n",
       "      <th></th>\n",
       "      <th></th>\n",
       "    </tr>\n",
       "  </thead>\n",
       "  <tbody>\n",
       "    <tr>\n",
       "      <th>36965_3</th>\n",
       "      <td>0</td>\n",
       "      <td>1</td>\n",
       "      <td>0</td>\n",
       "      <td>0</td>\n",
       "      <td>0</td>\n",
       "      <td>0</td>\n",
       "      <td>0</td>\n",
       "      <td>0</td>\n",
       "      <td>0</td>\n",
       "      <td>0</td>\n",
       "      <td>...</td>\n",
       "      <td>1</td>\n",
       "      <td>0</td>\n",
       "      <td>0</td>\n",
       "      <td>0</td>\n",
       "      <td>0</td>\n",
       "      <td>0</td>\n",
       "      <td>0</td>\n",
       "      <td>0</td>\n",
       "      <td>0</td>\n",
       "      <td>0</td>\n",
       "    </tr>\n",
       "    <tr>\n",
       "      <th>36965_2</th>\n",
       "      <td>0</td>\n",
       "      <td>2</td>\n",
       "      <td>0</td>\n",
       "      <td>0</td>\n",
       "      <td>2</td>\n",
       "      <td>0</td>\n",
       "      <td>2</td>\n",
       "      <td>0</td>\n",
       "      <td>1</td>\n",
       "      <td>2</td>\n",
       "      <td>...</td>\n",
       "      <td>0</td>\n",
       "      <td>0</td>\n",
       "      <td>0</td>\n",
       "      <td>1</td>\n",
       "      <td>0</td>\n",
       "      <td>0</td>\n",
       "      <td>0</td>\n",
       "      <td>0</td>\n",
       "      <td>0</td>\n",
       "      <td>0</td>\n",
       "    </tr>\n",
       "    <tr>\n",
       "      <th>36965_0</th>\n",
       "      <td>0</td>\n",
       "      <td>0</td>\n",
       "      <td>0</td>\n",
       "      <td>0</td>\n",
       "      <td>0</td>\n",
       "      <td>0</td>\n",
       "      <td>0</td>\n",
       "      <td>0</td>\n",
       "      <td>1</td>\n",
       "      <td>0</td>\n",
       "      <td>...</td>\n",
       "      <td>9</td>\n",
       "      <td>2</td>\n",
       "      <td>0</td>\n",
       "      <td>0</td>\n",
       "      <td>0</td>\n",
       "      <td>0</td>\n",
       "      <td>0</td>\n",
       "      <td>0</td>\n",
       "      <td>0</td>\n",
       "      <td>0</td>\n",
       "    </tr>\n",
       "    <tr>\n",
       "      <th>36965_1</th>\n",
       "      <td>0</td>\n",
       "      <td>0</td>\n",
       "      <td>0</td>\n",
       "      <td>0</td>\n",
       "      <td>0</td>\n",
       "      <td>0</td>\n",
       "      <td>0</td>\n",
       "      <td>0</td>\n",
       "      <td>0</td>\n",
       "      <td>0</td>\n",
       "      <td>...</td>\n",
       "      <td>3</td>\n",
       "      <td>1</td>\n",
       "      <td>0</td>\n",
       "      <td>0</td>\n",
       "      <td>0</td>\n",
       "      <td>0</td>\n",
       "      <td>0</td>\n",
       "      <td>0</td>\n",
       "      <td>0</td>\n",
       "      <td>0</td>\n",
       "    </tr>\n",
       "    <tr>\n",
       "      <th>36965_4</th>\n",
       "      <td>0</td>\n",
       "      <td>2</td>\n",
       "      <td>0</td>\n",
       "      <td>1</td>\n",
       "      <td>1</td>\n",
       "      <td>0</td>\n",
       "      <td>0</td>\n",
       "      <td>0</td>\n",
       "      <td>0</td>\n",
       "      <td>0</td>\n",
       "      <td>...</td>\n",
       "      <td>5</td>\n",
       "      <td>0</td>\n",
       "      <td>0</td>\n",
       "      <td>0</td>\n",
       "      <td>0</td>\n",
       "      <td>0</td>\n",
       "      <td>0</td>\n",
       "      <td>0</td>\n",
       "      <td>0</td>\n",
       "      <td>0</td>\n",
       "    </tr>\n",
       "  </tbody>\n",
       "</table>\n",
       "<p>5 rows × 17436 columns</p>\n",
       "</div>"
      ],
      "text/plain": [
       "         000  10  100  10th  11  11th  12  120  12th  13  ...  youth  \\\n",
       "chunkid                                                   ...          \n",
       "36965_3    0   1    0     0   0     0   0    0     0   0  ...      1   \n",
       "36965_2    0   2    0     0   2     0   2    0     1   2  ...      0   \n",
       "36965_0    0   0    0     0   0     0   0    0     1   0  ...      9   \n",
       "36965_1    0   0    0     0   0     0   0    0     0   0  ...      3   \n",
       "36965_4    0   2    0     1   1     0   0    0     0   0  ...      5   \n",
       "\n",
       "         youthful  youths  zeal  zealous  zenith  zest  zigzag  zone  æsthetic  \n",
       "chunkid                                                                         \n",
       "36965_3         0       0     0        0       0     0       0     0         0  \n",
       "36965_2         0       0     1        0       0     0       0     0         0  \n",
       "36965_0         2       0     0        0       0     0       0     0         0  \n",
       "36965_1         1       0     0        0       0     0       0     0         0  \n",
       "36965_4         0       0     0        0       0     0       0     0         0  \n",
       "\n",
       "[5 rows x 17436 columns]"
      ]
     },
     "execution_count": 22,
     "metadata": {},
     "output_type": "execute_result"
    }
   ],
   "source": [
    "clean_model_chunk_ids = cleanmodelmeta['chunkid']\n",
    "\n",
    "vectorizer = CountVectorizer(input = 'filename', min_df = .02)\n",
    "sparse_clean_counts = vectorizer.fit_transform(clean_paths) # the vectorizer produces something\n",
    "                                                               # called a 'sparse matrix'; we need to\n",
    "                                                               # unpack it\n",
    "clean_wordcounts = pd.DataFrame(sparse_clean_counts.toarray(), index = clean_model_chunk_ids, \n",
    "                            columns = vectorizer.get_feature_names())\n",
    "clean_wordcounts.head()"
   ]
  },
  {
   "cell_type": "code",
   "execution_count": 23,
   "id": "american-palestine",
   "metadata": {},
   "outputs": [
    {
     "data": {
      "text/html": [
       "<div>\n",
       "<style scoped>\n",
       "    .dataframe tbody tr th:only-of-type {\n",
       "        vertical-align: middle;\n",
       "    }\n",
       "\n",
       "    .dataframe tbody tr th {\n",
       "        vertical-align: top;\n",
       "    }\n",
       "\n",
       "    .dataframe thead th {\n",
       "        text-align: right;\n",
       "    }\n",
       "</style>\n",
       "<table border=\"1\" class=\"dataframe\">\n",
       "  <thead>\n",
       "    <tr style=\"text-align: right;\">\n",
       "      <th></th>\n",
       "      <th>00</th>\n",
       "      <th>000</th>\n",
       "      <th>01</th>\n",
       "      <th>10</th>\n",
       "      <th>100</th>\n",
       "      <th>101</th>\n",
       "      <th>102</th>\n",
       "      <th>103</th>\n",
       "      <th>104</th>\n",
       "      <th>105</th>\n",
       "      <th>...</th>\n",
       "      <th>ſurpriſed</th>\n",
       "      <th>ſuſpect</th>\n",
       "      <th>ſuſpected</th>\n",
       "      <th>ſuſpicion</th>\n",
       "      <th>ſwear</th>\n",
       "      <th>ſweet</th>\n",
       "      <th>ſword</th>\n",
       "      <th>ſº</th>\n",
       "      <th>ﬁnd</th>\n",
       "      <th>ﬁrst</th>\n",
       "    </tr>\n",
       "    <tr>\n",
       "      <th>chunkid</th>\n",
       "      <th></th>\n",
       "      <th></th>\n",
       "      <th></th>\n",
       "      <th></th>\n",
       "      <th></th>\n",
       "      <th></th>\n",
       "      <th></th>\n",
       "      <th></th>\n",
       "      <th></th>\n",
       "      <th></th>\n",
       "      <th></th>\n",
       "      <th></th>\n",
       "      <th></th>\n",
       "      <th></th>\n",
       "      <th></th>\n",
       "      <th></th>\n",
       "      <th></th>\n",
       "      <th></th>\n",
       "      <th></th>\n",
       "      <th></th>\n",
       "      <th></th>\n",
       "    </tr>\n",
       "  </thead>\n",
       "  <tbody>\n",
       "    <tr>\n",
       "      <th>36965_3</th>\n",
       "      <td>0</td>\n",
       "      <td>0</td>\n",
       "      <td>0</td>\n",
       "      <td>1</td>\n",
       "      <td>0</td>\n",
       "      <td>0</td>\n",
       "      <td>0</td>\n",
       "      <td>0</td>\n",
       "      <td>0</td>\n",
       "      <td>0</td>\n",
       "      <td>...</td>\n",
       "      <td>0</td>\n",
       "      <td>0</td>\n",
       "      <td>0</td>\n",
       "      <td>0</td>\n",
       "      <td>0</td>\n",
       "      <td>0</td>\n",
       "      <td>0</td>\n",
       "      <td>0</td>\n",
       "      <td>0</td>\n",
       "      <td>0</td>\n",
       "    </tr>\n",
       "    <tr>\n",
       "      <th>36965_2</th>\n",
       "      <td>0</td>\n",
       "      <td>0</td>\n",
       "      <td>0</td>\n",
       "      <td>0</td>\n",
       "      <td>0</td>\n",
       "      <td>0</td>\n",
       "      <td>0</td>\n",
       "      <td>0</td>\n",
       "      <td>0</td>\n",
       "      <td>0</td>\n",
       "      <td>...</td>\n",
       "      <td>0</td>\n",
       "      <td>0</td>\n",
       "      <td>0</td>\n",
       "      <td>0</td>\n",
       "      <td>0</td>\n",
       "      <td>0</td>\n",
       "      <td>0</td>\n",
       "      <td>0</td>\n",
       "      <td>0</td>\n",
       "      <td>0</td>\n",
       "    </tr>\n",
       "    <tr>\n",
       "      <th>36965_0</th>\n",
       "      <td>0</td>\n",
       "      <td>0</td>\n",
       "      <td>0</td>\n",
       "      <td>0</td>\n",
       "      <td>1</td>\n",
       "      <td>0</td>\n",
       "      <td>0</td>\n",
       "      <td>0</td>\n",
       "      <td>0</td>\n",
       "      <td>0</td>\n",
       "      <td>...</td>\n",
       "      <td>0</td>\n",
       "      <td>0</td>\n",
       "      <td>0</td>\n",
       "      <td>0</td>\n",
       "      <td>0</td>\n",
       "      <td>0</td>\n",
       "      <td>0</td>\n",
       "      <td>0</td>\n",
       "      <td>0</td>\n",
       "      <td>0</td>\n",
       "    </tr>\n",
       "    <tr>\n",
       "      <th>36965_1</th>\n",
       "      <td>0</td>\n",
       "      <td>0</td>\n",
       "      <td>0</td>\n",
       "      <td>0</td>\n",
       "      <td>0</td>\n",
       "      <td>0</td>\n",
       "      <td>0</td>\n",
       "      <td>0</td>\n",
       "      <td>0</td>\n",
       "      <td>0</td>\n",
       "      <td>...</td>\n",
       "      <td>0</td>\n",
       "      <td>0</td>\n",
       "      <td>0</td>\n",
       "      <td>0</td>\n",
       "      <td>0</td>\n",
       "      <td>0</td>\n",
       "      <td>0</td>\n",
       "      <td>0</td>\n",
       "      <td>0</td>\n",
       "      <td>0</td>\n",
       "    </tr>\n",
       "    <tr>\n",
       "      <th>36965_4</th>\n",
       "      <td>3</td>\n",
       "      <td>0</td>\n",
       "      <td>0</td>\n",
       "      <td>1</td>\n",
       "      <td>0</td>\n",
       "      <td>0</td>\n",
       "      <td>0</td>\n",
       "      <td>0</td>\n",
       "      <td>0</td>\n",
       "      <td>0</td>\n",
       "      <td>...</td>\n",
       "      <td>0</td>\n",
       "      <td>0</td>\n",
       "      <td>0</td>\n",
       "      <td>0</td>\n",
       "      <td>0</td>\n",
       "      <td>0</td>\n",
       "      <td>0</td>\n",
       "      <td>0</td>\n",
       "      <td>0</td>\n",
       "      <td>0</td>\n",
       "    </tr>\n",
       "  </tbody>\n",
       "</table>\n",
       "<p>5 rows × 19839 columns</p>\n",
       "</div>"
      ],
      "text/plain": [
       "         00  000  01  10  100  101  102  103  104  105  ...  ſurpriſed  \\\n",
       "chunkid                                                 ...              \n",
       "36965_3   0    0   0   1    0    0    0    0    0    0  ...          0   \n",
       "36965_2   0    0   0   0    0    0    0    0    0    0  ...          0   \n",
       "36965_0   0    0   0   0    1    0    0    0    0    0  ...          0   \n",
       "36965_1   0    0   0   0    0    0    0    0    0    0  ...          0   \n",
       "36965_4   3    0   0   1    0    0    0    0    0    0  ...          0   \n",
       "\n",
       "         ſuſpect  ſuſpected  ſuſpicion  ſwear  ſweet  ſword  ſº  ﬁnd  ﬁrst  \n",
       "chunkid                                                                     \n",
       "36965_3        0          0          0      0      0      0   0    0     0  \n",
       "36965_2        0          0          0      0      0      0   0    0     0  \n",
       "36965_0        0          0          0      0      0      0   0    0     0  \n",
       "36965_1        0          0          0      0      0      0   0    0     0  \n",
       "36965_4        0          0          0      0      0      0   0    0     0  \n",
       "\n",
       "[5 rows x 19839 columns]"
      ]
     },
     "execution_count": 23,
     "metadata": {},
     "output_type": "execute_result"
    }
   ],
   "source": [
    "dirty_rootdir = '/Users/tunder/Box Sync/NEHproject/dirtynarratives/'\n",
    "\n",
    "dirty_paths = []\n",
    "\n",
    "for chunk_id in dirtymodelmeta['chunkid']:\n",
    "    dirty_paths.append(dirty_rootdir + chunk_id + '.txt')\n",
    "\n",
    "dirty_model_chunk_ids = dirtymodelmeta['chunkid']\n",
    "    \n",
    "vectorizer = CountVectorizer(input = 'filename', min_df = .02)\n",
    "sparse_dirty_counts = vectorizer.fit_transform(dirty_paths) # the vectorizer produces something\n",
    "                                                               # called a 'sparse matrix'; we need to\n",
    "                                                               # unpack it\n",
    "dirty_wordcounts = pd.DataFrame(sparse_dirty_counts.toarray(), index = dirty_model_chunk_ids, \n",
    "                            columns = vectorizer.get_feature_names())\n",
    "dirty_wordcounts.head()"
   ]
  },
  {
   "cell_type": "markdown",
   "id": "unique-insulation",
   "metadata": {},
   "source": [
    "### Turn wordcounts into normalized frequencies"
   ]
  },
  {
   "cell_type": "code",
   "execution_count": 24,
   "id": "affiliated-split",
   "metadata": {},
   "outputs": [],
   "source": [
    "clean_rowsums = clean_wordcounts.sum(axis = 'columns')\n",
    "clean_freqs = clean_wordcounts.divide(clean_rowsums, axis = 'rows')"
   ]
  },
  {
   "cell_type": "code",
   "execution_count": 25,
   "id": "right-superintendent",
   "metadata": {},
   "outputs": [],
   "source": [
    "dirty_rowsums = dirty_wordcounts.sum(axis = 'columns')\n",
    "dirty_freqs = dirty_wordcounts.divide(dirty_rowsums, axis = 'rows')"
   ]
  },
  {
   "cell_type": "code",
   "execution_count": 26,
   "id": "victorian-subscriber",
   "metadata": {},
   "outputs": [
    {
     "data": {
      "text/html": [
       "<div>\n",
       "<style scoped>\n",
       "    .dataframe tbody tr th:only-of-type {\n",
       "        vertical-align: middle;\n",
       "    }\n",
       "\n",
       "    .dataframe tbody tr th {\n",
       "        vertical-align: top;\n",
       "    }\n",
       "\n",
       "    .dataframe thead th {\n",
       "        text-align: right;\n",
       "    }\n",
       "</style>\n",
       "<table border=\"1\" class=\"dataframe\">\n",
       "  <thead>\n",
       "    <tr style=\"text-align: right;\">\n",
       "      <th></th>\n",
       "      <th>00</th>\n",
       "      <th>000</th>\n",
       "      <th>01</th>\n",
       "      <th>10</th>\n",
       "      <th>100</th>\n",
       "      <th>101</th>\n",
       "      <th>102</th>\n",
       "      <th>103</th>\n",
       "      <th>104</th>\n",
       "      <th>105</th>\n",
       "      <th>...</th>\n",
       "      <th>ſurpriſed</th>\n",
       "      <th>ſuſpect</th>\n",
       "      <th>ſuſpected</th>\n",
       "      <th>ſuſpicion</th>\n",
       "      <th>ſwear</th>\n",
       "      <th>ſweet</th>\n",
       "      <th>ſword</th>\n",
       "      <th>ſº</th>\n",
       "      <th>ﬁnd</th>\n",
       "      <th>ﬁrst</th>\n",
       "    </tr>\n",
       "    <tr>\n",
       "      <th>chunkid</th>\n",
       "      <th></th>\n",
       "      <th></th>\n",
       "      <th></th>\n",
       "      <th></th>\n",
       "      <th></th>\n",
       "      <th></th>\n",
       "      <th></th>\n",
       "      <th></th>\n",
       "      <th></th>\n",
       "      <th></th>\n",
       "      <th></th>\n",
       "      <th></th>\n",
       "      <th></th>\n",
       "      <th></th>\n",
       "      <th></th>\n",
       "      <th></th>\n",
       "      <th></th>\n",
       "      <th></th>\n",
       "      <th></th>\n",
       "      <th></th>\n",
       "      <th></th>\n",
       "    </tr>\n",
       "  </thead>\n",
       "  <tbody>\n",
       "    <tr>\n",
       "      <th>36965_3</th>\n",
       "      <td>0.000000</td>\n",
       "      <td>0.0</td>\n",
       "      <td>0.0</td>\n",
       "      <td>0.000074</td>\n",
       "      <td>0.000000</td>\n",
       "      <td>0.0</td>\n",
       "      <td>0.0</td>\n",
       "      <td>0.0</td>\n",
       "      <td>0.0</td>\n",
       "      <td>0.0</td>\n",
       "      <td>...</td>\n",
       "      <td>0.0</td>\n",
       "      <td>0.0</td>\n",
       "      <td>0.0</td>\n",
       "      <td>0.0</td>\n",
       "      <td>0.0</td>\n",
       "      <td>0.0</td>\n",
       "      <td>0.0</td>\n",
       "      <td>0.0</td>\n",
       "      <td>0.0</td>\n",
       "      <td>0.0</td>\n",
       "    </tr>\n",
       "    <tr>\n",
       "      <th>36965_2</th>\n",
       "      <td>0.000000</td>\n",
       "      <td>0.0</td>\n",
       "      <td>0.0</td>\n",
       "      <td>0.000000</td>\n",
       "      <td>0.000000</td>\n",
       "      <td>0.0</td>\n",
       "      <td>0.0</td>\n",
       "      <td>0.0</td>\n",
       "      <td>0.0</td>\n",
       "      <td>0.0</td>\n",
       "      <td>...</td>\n",
       "      <td>0.0</td>\n",
       "      <td>0.0</td>\n",
       "      <td>0.0</td>\n",
       "      <td>0.0</td>\n",
       "      <td>0.0</td>\n",
       "      <td>0.0</td>\n",
       "      <td>0.0</td>\n",
       "      <td>0.0</td>\n",
       "      <td>0.0</td>\n",
       "      <td>0.0</td>\n",
       "    </tr>\n",
       "    <tr>\n",
       "      <th>36965_0</th>\n",
       "      <td>0.000000</td>\n",
       "      <td>0.0</td>\n",
       "      <td>0.0</td>\n",
       "      <td>0.000000</td>\n",
       "      <td>0.000073</td>\n",
       "      <td>0.0</td>\n",
       "      <td>0.0</td>\n",
       "      <td>0.0</td>\n",
       "      <td>0.0</td>\n",
       "      <td>0.0</td>\n",
       "      <td>...</td>\n",
       "      <td>0.0</td>\n",
       "      <td>0.0</td>\n",
       "      <td>0.0</td>\n",
       "      <td>0.0</td>\n",
       "      <td>0.0</td>\n",
       "      <td>0.0</td>\n",
       "      <td>0.0</td>\n",
       "      <td>0.0</td>\n",
       "      <td>0.0</td>\n",
       "      <td>0.0</td>\n",
       "    </tr>\n",
       "    <tr>\n",
       "      <th>36965_1</th>\n",
       "      <td>0.000000</td>\n",
       "      <td>0.0</td>\n",
       "      <td>0.0</td>\n",
       "      <td>0.000000</td>\n",
       "      <td>0.000000</td>\n",
       "      <td>0.0</td>\n",
       "      <td>0.0</td>\n",
       "      <td>0.0</td>\n",
       "      <td>0.0</td>\n",
       "      <td>0.0</td>\n",
       "      <td>...</td>\n",
       "      <td>0.0</td>\n",
       "      <td>0.0</td>\n",
       "      <td>0.0</td>\n",
       "      <td>0.0</td>\n",
       "      <td>0.0</td>\n",
       "      <td>0.0</td>\n",
       "      <td>0.0</td>\n",
       "      <td>0.0</td>\n",
       "      <td>0.0</td>\n",
       "      <td>0.0</td>\n",
       "    </tr>\n",
       "    <tr>\n",
       "      <th>36965_4</th>\n",
       "      <td>0.000216</td>\n",
       "      <td>0.0</td>\n",
       "      <td>0.0</td>\n",
       "      <td>0.000072</td>\n",
       "      <td>0.000000</td>\n",
       "      <td>0.0</td>\n",
       "      <td>0.0</td>\n",
       "      <td>0.0</td>\n",
       "      <td>0.0</td>\n",
       "      <td>0.0</td>\n",
       "      <td>...</td>\n",
       "      <td>0.0</td>\n",
       "      <td>0.0</td>\n",
       "      <td>0.0</td>\n",
       "      <td>0.0</td>\n",
       "      <td>0.0</td>\n",
       "      <td>0.0</td>\n",
       "      <td>0.0</td>\n",
       "      <td>0.0</td>\n",
       "      <td>0.0</td>\n",
       "      <td>0.0</td>\n",
       "    </tr>\n",
       "  </tbody>\n",
       "</table>\n",
       "<p>5 rows × 19839 columns</p>\n",
       "</div>"
      ],
      "text/plain": [
       "               00  000   01        10       100  101  102  103  104  105  ...  \\\n",
       "chunkid                                                                   ...   \n",
       "36965_3  0.000000  0.0  0.0  0.000074  0.000000  0.0  0.0  0.0  0.0  0.0  ...   \n",
       "36965_2  0.000000  0.0  0.0  0.000000  0.000000  0.0  0.0  0.0  0.0  0.0  ...   \n",
       "36965_0  0.000000  0.0  0.0  0.000000  0.000073  0.0  0.0  0.0  0.0  0.0  ...   \n",
       "36965_1  0.000000  0.0  0.0  0.000000  0.000000  0.0  0.0  0.0  0.0  0.0  ...   \n",
       "36965_4  0.000216  0.0  0.0  0.000072  0.000000  0.0  0.0  0.0  0.0  0.0  ...   \n",
       "\n",
       "         ſurpriſed  ſuſpect  ſuſpected  ſuſpicion  ſwear  ſweet  ſword   ſº  \\\n",
       "chunkid                                                                       \n",
       "36965_3        0.0      0.0        0.0        0.0    0.0    0.0    0.0  0.0   \n",
       "36965_2        0.0      0.0        0.0        0.0    0.0    0.0    0.0  0.0   \n",
       "36965_0        0.0      0.0        0.0        0.0    0.0    0.0    0.0  0.0   \n",
       "36965_1        0.0      0.0        0.0        0.0    0.0    0.0    0.0  0.0   \n",
       "36965_4        0.0      0.0        0.0        0.0    0.0    0.0    0.0  0.0   \n",
       "\n",
       "         ﬁnd  ﬁrst  \n",
       "chunkid             \n",
       "36965_3  0.0   0.0  \n",
       "36965_2  0.0   0.0  \n",
       "36965_0  0.0   0.0  \n",
       "36965_1  0.0   0.0  \n",
       "36965_4  0.0   0.0  \n",
       "\n",
       "[5 rows x 19839 columns]"
      ]
     },
     "execution_count": 26,
     "metadata": {},
     "output_type": "execute_result"
    }
   ],
   "source": [
    "dirty_freqs.head()"
   ]
  },
  {
   "cell_type": "markdown",
   "id": "liable-favorite",
   "metadata": {},
   "source": [
    "Notice the eighteenth-century long S's!"
   ]
  },
  {
   "cell_type": "markdown",
   "id": "incorporate-vegetation",
   "metadata": {},
   "source": [
    "### Separate train & validation from final test set\n",
    "\n",
    "**Here is where I begin to change the procedure from the third notebook.** Originally we created a single 3/4, 1/4 split: we optimized parameters on the 3/4 (training/validation) set, and then confirmed accuracy using those optimized parameters on the 1/4 (final test) set. In the new version we will repeat a 4/5, 1/5 split five times so we can test on all of our data.\n",
    "\n",
    "This will arguably provide us a slightly more accurate estimate.\n",
    "\n",
    "I don't know whether I've always aligned the terms \"train,\" \"validation,\" and \"test\" with the way I'm using them here; it's a confused topic, but I think this is the most common way of using them: https://machinelearningmastery.com/difference-test-validation-datasets/"
   ]
  },
  {
   "cell_type": "code",
   "execution_count": 47,
   "id": "cardiac-warren",
   "metadata": {},
   "outputs": [
    {
     "data": {
      "text/plain": [
       "[46, 46, 46, 45, 45]"
      ]
     },
     "execution_count": 47,
     "metadata": {},
     "output_type": "execute_result"
    }
   ],
   "source": [
    "# First we create five lists of authors, to be held out in different iterations.\n",
    "\n",
    "selected_authors = list(set(volmeta.loc[volmeta['gbindex'].isin(selected_gbindexes), 'author']))\n",
    "random.shuffle(selected_authors)\n",
    "\n",
    "fivetestsets = np.array_split(selected_authors, 5)  # this numpy function takes care of the split\n",
    "testlengths = [len(x) for x in fivetestsets]\n",
    "testlengths"
   ]
  },
  {
   "cell_type": "code",
   "execution_count": 29,
   "id": "southwest-training",
   "metadata": {},
   "outputs": [],
   "source": [
    "# Now we define a function that will return training and testing data (normalized frequencies)\n",
    "# given a list of authors in a particular test set (any one of the five we just created).\n",
    "\n",
    "def clean_and_dirty_freqs(atestset, cleanmodelmeta, dirtymodelmeta, clean_freqs, dirty_freqs):\n",
    "    \n",
    "    cleantrain = cleanmodelmeta.loc[~cleanmodelmeta['author'].isin(atestset), : ]\n",
    "    cleantest = cleanmodelmeta.loc[cleanmodelmeta['author'].isin(atestset), : ]\n",
    "    cleantrain_freqs = clean_freqs.loc[cleantrain.chunkid]\n",
    "    cleantest_freqs = clean_freqs.loc[cleantest.chunkid]\n",
    "\n",
    "    dirtytrain = dirtymodelmeta.loc[~dirtymodelmeta['author'].isin(atestset), : ]\n",
    "    dirtytest = dirtymodelmeta.loc[dirtymodelmeta['author'].isin(atestset), : ]\n",
    "    dirtytrain_freqs = dirty_freqs.loc[dirtytrain.chunkid]\n",
    "    dirtytest_freqs = dirty_freqs.loc[dirtytest.chunkid]\n",
    "    \n",
    "    return cleantrain, cleantest, cleantrain_freqs, cleantest_freqs, dirtytrain, dirtytest, dirtytrain_freqs, dirtytest_freqs"
   ]
  },
  {
   "cell_type": "markdown",
   "id": "mediterranean-highlight",
   "metadata": {},
   "source": [
    "Let's test the function."
   ]
  },
  {
   "cell_type": "code",
   "execution_count": 32,
   "id": "lovely-contributor",
   "metadata": {},
   "outputs": [
    {
     "name": "stdout",
     "output_type": "stream",
     "text": [
      "Clean training set:  (1207, 26)\n",
      "Clean test set:  (330, 26)\n",
      "Hathi training set:  (1267, 26)\n",
      "Hathi testing set:  (352, 26)\n"
     ]
    }
   ],
   "source": [
    "cleantrain, cleantest, cleantrain_freqs, cleantest_freqs, dirtytrain, dirtytest, dirtytrain_freqs, dirtytest_freqs = clean_and_dirty_freqs(fivetestsets[0],\n",
    "                                                                                cleanmodelmeta, dirtymodelmeta, \n",
    "                                                                                 clean_freqs, dirty_freqs)\n",
    "\n",
    "print('Clean training set: ', cleantrain.shape)\n",
    "print('Clean test set: ', cleantest.shape)\n",
    "print('Hathi training set: ', dirtytrain.shape)\n",
    "print('Hathi testing set: ', dirtytest.shape)"
   ]
  },
  {
   "cell_type": "markdown",
   "id": "entertaining-egypt",
   "metadata": {},
   "source": [
    "### Let's produce a model for the clean counts\n",
    "\n",
    "In the third version of this notebook, you manually ran the grid search until you were confident that the range of parameters you were testing had \"surrounded\" the optimal value. In other words, we don't (usually) want the optimal parameters to be right at the edge of the space we're testing. That might imply there are even better parameters just slightly outside our scope! We want to find a place where, whichever direction you move, you're going to do worse. (Date prediction is an exception here because the real limit is just that we don't want to bother with a gigantic 100,000 feature model that would take forever to train.)\n",
    "\n",
    "We are now going to try to *automate* that process. But it would be hard to automate the judgment about whether optimal values are \"surrounded.\" So you should still apply your own judgment to ensure that parameter scope is sufficient to ensure that they are, and edit the code if necessary to ensure it.\n",
    "\n",
    "We have five different training sets. In each pass across a training set, we're going to do a grid search for the best model. The outer loop will select the number of features. The inner loop will select the regularization constant.\n"
   ]
  },
  {
   "cell_type": "code",
   "execution_count": 35,
   "id": "checked-dressing",
   "metadata": {},
   "outputs": [],
   "source": [
    "def get_doc_freqs(X, y):\n",
    "    return np.count_nonzero(X, axis=0)  \n",
    "\n",
    "docfreqs = []\n",
    "for col in clean_wordcounts.columns:\n",
    "    docfreqs.append((sum(clean_wordcounts[col] > 0), col))\n",
    "docfreqs.sort()"
   ]
  },
  {
   "cell_type": "code",
   "execution_count": 48,
   "id": "chief-disposal",
   "metadata": {},
   "outputs": [
    {
     "name": "stdout",
     "output_type": "stream",
     "text": [
      "1000\n",
      "1500\n",
      "2000\n",
      "2500\n",
      "3000\n",
      "3500\n",
      "4000\n",
      "4500\n",
      "5000\n",
      "5500\n",
      "6000\n",
      "7000\n"
     ]
    },
    {
     "data": {
      "image/png": "[encoded data removed]",
      "text/plain": [
       "<Figure size 432x432 with 1 Axes>"
      ]
     },
     "metadata": {
      "needs_background": "light"
     },
     "output_type": "display_data"
    },
    {
     "name": "stdout",
     "output_type": "stream",
     "text": [
      "(4000, 3000)\n",
      "0.7970588235294118\n",
      "1000\n",
      "1500\n",
      "2000\n",
      "2500\n",
      "3000\n",
      "3500\n",
      "4000\n",
      "4500\n",
      "5000\n",
      "5500\n",
      "6000\n",
      "7000\n"
     ]
    },
    {
     "data": {
      "image/png": "[encoded data removed]",
      "text/plain": [
       "<Figure size 432x432 with 1 Axes>"
      ]
     },
     "metadata": {
      "needs_background": "light"
     },
     "output_type": "display_data"
    },
    {
     "name": "stdout",
     "output_type": "stream",
     "text": [
      "(4000, 1000)\n",
      "0.7593220338983051\n",
      "1000\n",
      "1500\n",
      "2000\n",
      "2500\n",
      "3000\n",
      "3500\n",
      "4000\n",
      "4500\n",
      "5000\n",
      "5500\n",
      "6000\n",
      "7000\n"
     ]
    },
    {
     "data": {
      "image/png": "[encoded data removed]",
      "text/plain": [
       "<Figure size 432x432 with 1 Axes>"
      ]
     },
     "metadata": {
      "needs_background": "light"
     },
     "output_type": "display_data"
    },
    {
     "name": "stdout",
     "output_type": "stream",
     "text": [
      "(4000, 1000)\n",
      "0.7523510971786834\n",
      "1000\n",
      "1500\n",
      "2000\n",
      "2500\n",
      "3000\n",
      "3500\n",
      "4000\n",
      "4500\n",
      "5000\n",
      "5500\n",
      "6000\n",
      "7000\n"
     ]
    },
    {
     "data": {
      "image/png": "[encoded data removed]",
      "text/plain": [
       "<Figure size 432x432 with 1 Axes>"
      ]
     },
     "metadata": {
      "needs_background": "light"
     },
     "output_type": "display_data"
    },
    {
     "name": "stdout",
     "output_type": "stream",
     "text": [
      "(4000, 0.1)\n",
      "0.815068493150685\n",
      "1000\n",
      "1500\n",
      "2000\n",
      "2500\n",
      "3000\n",
      "3500\n",
      "4000\n",
      "4500\n",
      "5000\n",
      "5500\n",
      "6000\n",
      "7000\n"
     ]
    },
    {
     "data": {
      "image/png": "[encoded data removed]",
      "text/plain": [
       "<Figure size 432x432 with 1 Axes>"
      ]
     },
     "metadata": {
      "needs_background": "light"
     },
     "output_type": "display_data"
    },
    {
     "name": "stdout",
     "output_type": "stream",
     "text": [
      "(4000, 3000)\n",
      "0.6941580756013745\n"
     ]
    }
   ],
   "source": [
    "clean_chunkids = []\n",
    "clean_predictions = []\n",
    "clean_probabilities = []\n",
    "\n",
    "for testset in fivetestsets:\n",
    "    cleantrain, cleantest, cleantrain_freqs, cleantest_freqs, na1, na2, na3, na4 = clean_and_dirty_freqs(testset,\n",
    "                                                                                cleanmodelmeta, dirtymodelmeta, \n",
    "                                                                                 clean_freqs, dirty_freqs)\n",
    "    # Note that I give the dirty sets variable names that begin NA (not applicable)\n",
    "    # because we're not using them right now \n",
    "    \n",
    "    resultarray = []\n",
    "    resultlist = []\n",
    "    paramlist = []\n",
    "\n",
    "    featureoptions = [1000, 1500, 2000, 2500, 3000, 3500, 4000, 4500, 5000, 5500, 6000, 7000]\n",
    "    c_options = [10000, 3000, 1000, 500, 100, 10, 1, .1, .01, .001, .0001]\n",
    "\n",
    "    for featurecount in featureoptions:\n",
    "        print(featurecount)\n",
    "        docfreqs = []\n",
    "        for col in cleantrain_freqs.columns:\n",
    "            docfreqs.append((sum(cleantrain_freqs[col] > 0), col))\n",
    "        docfreqs.sort()\n",
    "        features = [x[1] for x in docfreqs[-featurecount : ]] # because sorted in ascending order\n",
    "\n",
    "        model_features = cleantrain_freqs.loc[ : , features]\n",
    "\n",
    "        resultrow = []\n",
    "\n",
    "        for c_param in c_options:\n",
    "            logreg = LogisticRegression(C = c_param, max_iter = 2000)\n",
    "            scaler = StandardScaler()\n",
    "            # feature_selector = SelectKBest(get_doc_freqs, k = featurecount)\n",
    "            pipe = Pipeline([\n",
    "                # ('fkb', feature_selector),\n",
    "                ('sc', scaler),\n",
    "                ('lr', logreg)\n",
    "            ])    \n",
    "            grouper = GroupKFold(n_splits = 10)\n",
    "            cv_results = cross_validate(estimator = pipe, \n",
    "                                        X = model_features,\n",
    "                                        y = cleantrain['authgender'], \n",
    "                                        groups = cleantrain['author'], \n",
    "                                        cv = grouper)\n",
    "            mean_score = np.mean(cv_results['test_score'])\n",
    "            resultrow.append(mean_score)\n",
    "            resultlist.append(mean_score)\n",
    "            paramlist.append((featurecount, c_param))\n",
    "\n",
    "        resultarray.append(resultrow)\n",
    "    \n",
    "    # Let's visualize the grid search for this model pass.\n",
    "    \n",
    "    resultarray = np.array(resultarray)\n",
    "    thearrayshape = resultarray.shape\n",
    "    resarray = rankdata(resultarray).reshape(thearrayshape)\n",
    "    \n",
    "    fig, ax = plt.subplots(figsize=(6,6))\n",
    "\n",
    "    ax.imshow(resarray, cmap='hot', aspect = 'auto')\n",
    "    plt.yticks(ticks = [x for x in range(len(featureoptions))], labels = featureoptions)\n",
    "    thexlabels = [str(x) for x in c_options]\n",
    "    thexlabels[0] = '10^4'\n",
    "    plt.xticks(ticks = [x for x in range(len(c_options))], labels = thexlabels)\n",
    "    plt.show()\n",
    "    \n",
    "    # now find best parameters for this model pass\n",
    "    \n",
    "    bestrun = resultlist.index(max(resultlist))\n",
    "    bestparams = paramlist[bestrun]\n",
    "    print(bestparams)\n",
    "    \n",
    "    best_featurecount, best_c_param = bestparams\n",
    "    \n",
    "    # apply those parameters to create an optimal model\n",
    "    \n",
    "    features = [x[1] for x in docfreqs[-best_featurecount: ]] # negative because sorted ascending\n",
    "\n",
    "    train_features = cleantrain_freqs.loc[ : , features]  \n",
    "\n",
    "    scaler = StandardScaler()\n",
    "    train_features = scaler.fit_transform(train_features)\n",
    "\n",
    "    bestmodel = LogisticRegression(C = best_c_param, max_iter = 2000)\n",
    "\n",
    "    ## NOW APPLY THE SAME SCALER AND MODEL TO TEST SET\n",
    "\n",
    "    bestmodel = LogisticRegression(C = .001, max_iter = 2000)\n",
    "    bestmodel.fit(train_features, cleantrain['authgender'])\n",
    "\n",
    "    test_features = cleantest_freqs.loc[ : , features] \n",
    "    test_features = scaler.transform(test_features) # Note this is the same scaler we fit\n",
    "                                                    # to train features; we DON'T fit a new one to the\n",
    "                                                    # test features. We deliberately blind ourselves to that\n",
    "                                                    # information.\n",
    "\n",
    "    these_predictions = bestmodel.predict(test_features)\n",
    "    these_probabilities = bestmodel.predict_proba(test_features)\n",
    "    clean_predictions.extend(these_predictions)\n",
    "    clean_probabilities.extend(these_probabilities)\n",
    "    clean_chunkids.extend(cleantest.chunkid.tolist())\n",
    "    \n",
    "    accuracy = sum(these_predictions == cleantest['authgender']) / len(cleantest['authgender'])\n",
    "    print(accuracy)\n",
    "     "
   ]
  },
  {
   "cell_type": "markdown",
   "id": "talented-fusion",
   "metadata": {},
   "source": [
    "### put cleanmodelmeta in the right order to correspond to this"
   ]
  },
  {
   "cell_type": "code",
   "execution_count": 49,
   "id": "personalized-hamilton",
   "metadata": {},
   "outputs": [
    {
     "name": "stdout",
     "output_type": "stream",
     "text": [
      "(1537, 25)\n"
     ]
    },
    {
     "data": {
      "text/plain": [
       "(1537, 26)"
      ]
     },
     "execution_count": 49,
     "metadata": {},
     "output_type": "execute_result"
    }
   ],
   "source": [
    "cleanmodelmeta.set_index('chunkid', inplace = True)\n",
    "print(cleanmodelmeta.shape)\n",
    "cleanmodelmeta = cleanmodelmeta.loc[clean_chunkids, : ]\n",
    "cleanmodelmeta.reset_index(inplace = True)\n",
    "cleanmodelmeta.shape"
   ]
  },
  {
   "cell_type": "markdown",
   "id": "parallel-attitude",
   "metadata": {},
   "source": [
    "### Assess overall accuracy"
   ]
  },
  {
   "cell_type": "code",
   "execution_count": 50,
   "id": "upset-seller",
   "metadata": {},
   "outputs": [
    {
     "name": "stdout",
     "output_type": "stream",
     "text": [
      "0.7644762524398179\n"
     ]
    }
   ],
   "source": [
    "clean_predictions =  [item for sublist in clean_predictions for item in sublist]\n",
    "accuracy = sum(clean_predictions == cleanmodelmeta['authgender']) / len(cleanmodelmeta['authgender'])\n",
    "print(accuracy)"
   ]
  },
  {
   "cell_type": "markdown",
   "id": "unsigned-english",
   "metadata": {},
   "source": [
    "This is lower than we were getting before for this task, and I want to double-check to make sure I'm doing this right. But it *is* possible that we were getting a lucky bounce before."
   ]
  },
  {
   "cell_type": "markdown",
   "id": "norwegian-apache",
   "metadata": {},
   "source": [
    "### Now a model for the dirty counts"
   ]
  },
  {
   "cell_type": "code",
   "execution_count": 53,
   "id": "matched-hepatitis",
   "metadata": {},
   "outputs": [
    {
     "name": "stdout",
     "output_type": "stream",
     "text": [
      "1000\n",
      "1500\n",
      "2000\n",
      "2500\n",
      "3000\n",
      "3500\n",
      "4000\n",
      "4500\n",
      "5000\n",
      "5500\n",
      "6000\n",
      "6500\n",
      "7000\n"
     ]
    },
    {
     "data": {
      "image/png": "[encoded data removed]",
      "text/plain": [
       "<Figure size 432x432 with 1 Axes>"
      ]
     },
     "metadata": {
      "needs_background": "light"
     },
     "output_type": "display_data"
    },
    {
     "name": "stdout",
     "output_type": "stream",
     "text": [
      "(2500, 3000)\n",
      "0.7683923705722071\n",
      "1000\n",
      "1500\n",
      "2000\n",
      "2500\n",
      "3000\n",
      "3500\n",
      "4000\n",
      "4500\n",
      "5000\n",
      "5500\n",
      "6000\n",
      "6500\n",
      "7000\n"
     ]
    },
    {
     "data": {
      "image/png": "[encoded data removed]",
      "text/plain": [
       "<Figure size 432x432 with 1 Axes>"
      ]
     },
     "metadata": {
      "needs_background": "light"
     },
     "output_type": "display_data"
    },
    {
     "name": "stdout",
     "output_type": "stream",
     "text": [
      "(3500, 3000)\n",
      "0.7305194805194806\n",
      "1000\n",
      "1500\n",
      "2000\n",
      "2500\n",
      "3000\n",
      "3500\n",
      "4000\n",
      "4500\n",
      "5000\n",
      "5500\n",
      "6000\n",
      "6500\n",
      "7000\n"
     ]
    },
    {
     "data": {
      "image/png": "[encoded data removed]",
      "text/plain": [
       "<Figure size 432x432 with 1 Axes>"
      ]
     },
     "metadata": {
      "needs_background": "light"
     },
     "output_type": "display_data"
    },
    {
     "name": "stdout",
     "output_type": "stream",
     "text": [
      "(4000, 3000)\n",
      "0.7617647058823529\n",
      "1000\n",
      "1500\n",
      "2000\n",
      "2500\n",
      "3000\n",
      "3500\n",
      "4000\n",
      "4500\n",
      "5000\n",
      "5500\n",
      "6000\n",
      "6500\n",
      "7000\n"
     ]
    },
    {
     "data": {
      "image/png": "[encoded data removed]",
      "text/plain": [
       "<Figure size 432x432 with 1 Axes>"
      ]
     },
     "metadata": {
      "needs_background": "light"
     },
     "output_type": "display_data"
    },
    {
     "name": "stdout",
     "output_type": "stream",
     "text": [
      "(4500, 100)\n",
      "0.8327868852459016\n",
      "1000\n",
      "1500\n",
      "2000\n",
      "2500\n",
      "3000\n",
      "3500\n",
      "4000\n",
      "4500\n",
      "5000\n",
      "5500\n",
      "6000\n",
      "6500\n",
      "7000\n"
     ]
    },
    {
     "data": {
      "image/png": "[encoded data removed]",
      "text/plain": [
       "<Figure size 432x432 with 1 Axes>"
      ]
     },
     "metadata": {
      "needs_background": "light"
     },
     "output_type": "display_data"
    },
    {
     "name": "stdout",
     "output_type": "stream",
     "text": [
      "(3500, 0.01)\n",
      "0.6454849498327759\n"
     ]
    }
   ],
   "source": [
    "featureoptions = [1000, 1500, 2000, 2500, 3000, 3500, 4000, 4500, 5000, 5500, 6000, 6500, 7000]\n",
    "c_options = [100000, 10000, 3000, 1000, 500, 100, 10, 1, .1, .01, .001, .0001]\n",
    "\n",
    "dirty_chunkids = []\n",
    "dirty_predictions = []\n",
    "dirty_probabilities = []\n",
    "\n",
    "for testset in fivetestsets:\n",
    "    na1, na2, na3, na4, dirtytrain, dirtytest, dirtytrain_freqs, dirtytest_freqs = clean_and_dirty_freqs(testset, cleanmodelmeta, \n",
    "                                                                                                        dirtymodelmeta, clean_freqs, \n",
    "                                                                                                        dirty_freqs)\n",
    "    # Note that I give the dirty sets variable names that begin NA (not applicable)\n",
    "    # because we're not using them right now \n",
    "    \n",
    "    resultarray = []\n",
    "    resultlist = []\n",
    "    paramlist = []\n",
    "\n",
    "    for featurecount in featureoptions:\n",
    "        print(featurecount)\n",
    "        docfreqs = []\n",
    "        for col in dirtytrain_freqs.columns:\n",
    "            docfreqs.append((sum(dirtytrain_freqs[col] > 0), col))\n",
    "        docfreqs.sort()\n",
    "        features = [x[1] for x in docfreqs[-featurecount : ]] # because sorted in ascending order\n",
    "\n",
    "        model_features = dirtytrain_freqs.loc[ : , features]\n",
    "\n",
    "        resultrow = []\n",
    "\n",
    "        for c_param in c_options:\n",
    "            logreg = LogisticRegression(C = c_param, max_iter = 2000)\n",
    "            scaler = StandardScaler()\n",
    "            # feature_selector = SelectKBest(get_doc_freqs, k = featurecount)\n",
    "            pipe = Pipeline([\n",
    "                # ('fkb', feature_selector),\n",
    "                ('sc', scaler),\n",
    "                ('lr', logreg)\n",
    "            ])    \n",
    "            grouper = GroupKFold(n_splits = 10)\n",
    "            cv_results = cross_validate(estimator = pipe, \n",
    "                                        X = model_features,\n",
    "                                        y = dirtytrain['authgender'], \n",
    "                                        groups = dirtytrain['author'], \n",
    "                                        cv = grouper)\n",
    "            mean_score = np.mean(cv_results['test_score'])\n",
    "            resultrow.append(mean_score)\n",
    "            resultlist.append(mean_score)\n",
    "            paramlist.append((featurecount, c_param))\n",
    "\n",
    "        resultarray.append(resultrow)\n",
    "    \n",
    "    # Let's visualize the grid search for this model pass.\n",
    "    \n",
    "    resultarray = np.array(resultarray)\n",
    "    thearrayshape = resultarray.shape\n",
    "    resarray = rankdata(resultarray).reshape(thearrayshape)\n",
    "    \n",
    "    fig, ax = plt.subplots(figsize=(6,6))\n",
    "\n",
    "    ax.imshow(resarray, cmap='hot', aspect = 'auto')\n",
    "    plt.yticks(ticks = [x for x in range(len(featureoptions))], labels = featureoptions)\n",
    "    thexlabels = [str(x) for x in c_options]\n",
    "    thexlabels[0] = '10^4'\n",
    "    plt.xticks(ticks = [x for x in range(len(c_options))], labels = thexlabels)\n",
    "    plt.show()\n",
    "    \n",
    "    # now find best parameters for this model pass\n",
    "    \n",
    "    bestrun = resultlist.index(max(resultlist))\n",
    "    bestparams = paramlist[bestrun]\n",
    "    print(bestparams)\n",
    "    \n",
    "    best_featurecount, best_c_param = bestparams\n",
    "    \n",
    "    # apply those parameters to create an optimal model\n",
    "    for col in dirtytrain_freqs.columns:\n",
    "        docfreqs.append((sum(dirtytrain_freqs[col] > 0), col))\n",
    "        docfreqs.sort()\n",
    "        \n",
    "    features = [x[1] for x in docfreqs[-best_featurecount: ]] # negative because sorted ascending\n",
    "\n",
    "    train_features = dirtytrain_freqs.loc[ : , features]  \n",
    "\n",
    "    scaler = StandardScaler()\n",
    "    train_features = scaler.fit_transform(train_features)\n",
    "\n",
    "    bestmodel = LogisticRegression(C = best_c_param, max_iter = 2000)\n",
    "\n",
    "    ## NOW APPLY THE SAME SCALER AND MODEL TO TEST SET\n",
    "\n",
    "    bestmodel = LogisticRegression(C = .001, max_iter = 2000)\n",
    "    bestmodel.fit(train_features, dirtytrain['authgender'])\n",
    "    \n",
    "    test_features = dirtytest_freqs.loc[ : , features] \n",
    "    test_features = scaler.transform(test_features) # Note this is the same scaler we fit\n",
    "                                                    # to train features; we DON'T fit a new one to the\n",
    "                                                    # test features. We deliberately blind ourselves to that\n",
    "                                                    # information.\n",
    "\n",
    "    these_predictions = bestmodel.predict(test_features)\n",
    "    these_probabilities = bestmodel.predict_proba(test_features)\n",
    "    dirty_predictions.extend(these_predictions)\n",
    "    dirty_probabilities.extend(these_probabilities)\n",
    "    dirty_chunkids.extend(dirtytest.chunkid.tolist())\n",
    "    \n",
    "    accuracy = sum(these_predictions == dirtytest['authgender']) / len(dirtytest['authgender'])\n",
    "    print(accuracy)"
   ]
  },
  {
   "cell_type": "markdown",
   "id": "genuine-korea",
   "metadata": {},
   "source": [
    "### Put dirtymodelmeta in right order to correspond to this"
   ]
  },
  {
   "cell_type": "code",
   "execution_count": 54,
   "id": "adolescent-clearing",
   "metadata": {},
   "outputs": [
    {
     "name": "stdout",
     "output_type": "stream",
     "text": [
      "(1619, 25)\n"
     ]
    },
    {
     "data": {
      "text/plain": [
       "(1619, 26)"
      ]
     },
     "execution_count": 54,
     "metadata": {},
     "output_type": "execute_result"
    }
   ],
   "source": [
    "dirtymodelmeta.set_index('chunkid', inplace = True)\n",
    "print(dirtymodelmeta.shape)\n",
    "dirtymodelmeta = dirtymodelmeta.loc[dirty_chunkids, : ]\n",
    "dirtymodelmeta.reset_index(inplace = True)\n",
    "dirtymodelmeta.shape"
   ]
  },
  {
   "cell_type": "markdown",
   "id": "alive-noise",
   "metadata": {},
   "source": [
    "### Assess accuracy"
   ]
  },
  {
   "cell_type": "code",
   "execution_count": 55,
   "id": "important-telescope",
   "metadata": {},
   "outputs": [
    {
     "name": "stdout",
     "output_type": "stream",
     "text": [
      "0.7492279184681903\n"
     ]
    }
   ],
   "source": [
    "dirty_accuracy = sum(dirty_predictions == dirtymodelmeta['authgender']) / len(dirtymodelmeta['authgender'])\n",
    "print(dirty_accuracy)"
   ]
  },
  {
   "cell_type": "markdown",
   "id": "disciplinary-painting",
   "metadata": {},
   "source": [
    "Slightly lower. Seems in keeping with what we've seen."
   ]
  },
  {
   "cell_type": "markdown",
   "id": "false-celebration",
   "metadata": {},
   "source": [
    "### The actual fun stuff: what creates the error?\n",
    "\n",
    "This changes only very slightly from the version in the ```third_analysis_template```. We no longer have to concatenate the test probabilities with the cross-validation probabilities. It's now all test. So the lines of code constructing ```clean_probabilities``` and ```dirty_probabilities``` are different. Otherwise the same.\n",
    "\n",
    "However, the results are pretty different. If this isn't just an error, it means that it mattered and was worthwhile to construct a more careful distinction between train-validation and test.\n",
    "\n",
    "I've saved the prediction probabilities from cross-validation on the training set (and from prediction on test), so that we can measure error for each chunk and try to diagnose the sources of error.\n",
    "\n",
    "Our strategy here involves three measurements.\n",
    "\n",
    "1. The \"divergence from clean\": how much does prediction error on a dirty chunk exceed (or fall below) the average error for clean chunks of this volume. Note that we cannot create a chunk-to-chunk mapping, since Hathi has not been trimmed.\n",
    "\n",
    "2. The \"worderrors\" for the chunk: how many words in the Hathi chunk were not found *either* in the Gutenberg text or in a simple dictionary of 10,000 common English words? This is not exactly the same as word-error-rate, but it's a close approximation that we can use for the moment.\n",
    "\n",
    "3. The \"passagefails\" for the chunk. What fraction of 20-character segments in the Hathi chunk could be found with fuzzy matching in (the whole) Gutenberg volume. We accepted difflib similarity scores of > 0.78 as a a match. This is **in effect** a measurement of the amount of text in the chunk that is substantially *different from* the Gutenberg text, because it's a table of contents, or introduction, or notes -- or a different translation!\n",
    "\n",
    "The question we're trying to answer: does accuracy fall mostly because of OCR errors, or because of paratext? As you'll see, it's difficult to answer with these corpora. This evidence casts some light, but we will also need more experiments with multiple corpora.\n",
    "\n",
    "We start by constructing vectors for real y and predicted $\\widehat{y}$ — for both models."
   ]
  },
  {
   "cell_type": "code",
   "execution_count": 61,
   "id": "surprising-lewis",
   "metadata": {},
   "outputs": [],
   "source": [
    "dirty_y = dirtymodelmeta['authgender'].map({'f': 1, 'm': 0})  # we already put this in train-test order\n",
    "                                                            # so it will match the next line\n",
    "dirty_probabilities = [x[0] for x in dirty_probabilities]\n",
    "# The line above has changed; we don't need to concatenate test and train anymore,\n",
    "# because we've tested on everything. But we do need to take probabilities for the\n",
    "# first class."
   ]
  },
  {
   "cell_type": "markdown",
   "id": "particular-palace",
   "metadata": {},
   "source": [
    "We can reason about two kinds of error. \n",
    "\n",
    "Directional error: did this chunk appear more negative or positive than it was in the real y vector.\n",
    "\n",
    "Absolute error: how far was this chunk from the real value in either direction."
   ]
  },
  {
   "cell_type": "code",
   "execution_count": 62,
   "id": "reliable-essex",
   "metadata": {},
   "outputs": [],
   "source": [
    "dirty_error = dirty_y - dirty_probabilities\n",
    "dirty_absolute_error = np.abs(dirty_error)"
   ]
  },
  {
   "cell_type": "markdown",
   "id": "northern-plenty",
   "metadata": {},
   "source": [
    "Repeat the above steps for the clean model."
   ]
  },
  {
   "cell_type": "code",
   "execution_count": 63,
   "id": "capital-bosnia",
   "metadata": {},
   "outputs": [],
   "source": [
    "clean_y = cleanmodelmeta['authgender'].map({'f': 1, 'm': 0})\n",
    "\n",
    "clean_probabilities = [x[0] for x in clean_probabilities]"
   ]
  },
  {
   "cell_type": "code",
   "execution_count": 64,
   "id": "imported-parcel",
   "metadata": {},
   "outputs": [],
   "source": [
    "clean_error = clean_y - clean_probabilities\n",
    "clean_absolute_error = np.abs(clean_error)"
   ]
  },
  {
   "cell_type": "markdown",
   "id": "brilliant-aberdeen",
   "metadata": {},
   "source": [
    "#### Create mean values for clean volumes\n",
    "\n",
    "We create a dataframe and then groupby / average on Gutenberg indexes."
   ]
  },
  {
   "cell_type": "code",
   "execution_count": 65,
   "id": "surgical-steel",
   "metadata": {},
   "outputs": [],
   "source": [
    "clean_gbi = [get_gbindex(x) for x in cleanmodelmeta['chunkid']]\n",
    "clean_df = pd.DataFrame({'chunkid': cleanmodelmeta['chunkid'], 'gbindex': clean_gbi,\n",
    "                         'clean_error': clean_error, 'clean_abs_error': clean_absolute_error})"
   ]
  },
  {
   "cell_type": "code",
   "execution_count": 66,
   "id": "enclosed-pocket",
   "metadata": {},
   "outputs": [],
   "source": [
    "meandf = clean_df.groupby('gbindex').mean()"
   ]
  },
  {
   "cell_type": "code",
   "execution_count": 67,
   "id": "obvious-honey",
   "metadata": {},
   "outputs": [
    {
     "data": {
      "text/html": [
       "<div>\n",
       "<style scoped>\n",
       "    .dataframe tbody tr th:only-of-type {\n",
       "        vertical-align: middle;\n",
       "    }\n",
       "\n",
       "    .dataframe tbody tr th {\n",
       "        vertical-align: top;\n",
       "    }\n",
       "\n",
       "    .dataframe thead th {\n",
       "        text-align: right;\n",
       "    }\n",
       "</style>\n",
       "<table border=\"1\" class=\"dataframe\">\n",
       "  <thead>\n",
       "    <tr style=\"text-align: right;\">\n",
       "      <th></th>\n",
       "      <th>clean_error</th>\n",
       "      <th>clean_abs_error</th>\n",
       "    </tr>\n",
       "    <tr>\n",
       "      <th>gbindex</th>\n",
       "      <th></th>\n",
       "      <th></th>\n",
       "    </tr>\n",
       "  </thead>\n",
       "  <tbody>\n",
       "    <tr>\n",
       "      <th>6702</th>\n",
       "      <td>-0.790398</td>\n",
       "      <td>0.790398</td>\n",
       "    </tr>\n",
       "    <tr>\n",
       "      <th>51299</th>\n",
       "      <td>0.604256</td>\n",
       "      <td>0.604256</td>\n",
       "    </tr>\n",
       "    <tr>\n",
       "      <th>34667</th>\n",
       "      <td>-0.061289</td>\n",
       "      <td>0.061289</td>\n",
       "    </tr>\n",
       "    <tr>\n",
       "      <th>44791</th>\n",
       "      <td>0.510814</td>\n",
       "      <td>0.510814</td>\n",
       "    </tr>\n",
       "    <tr>\n",
       "      <th>34476</th>\n",
       "      <td>-0.292841</td>\n",
       "      <td>0.292841</td>\n",
       "    </tr>\n",
       "    <tr>\n",
       "      <th>SherFHNfic</th>\n",
       "      <td>0.438387</td>\n",
       "      <td>0.438387</td>\n",
       "    </tr>\n",
       "    <tr>\n",
       "      <th>45925</th>\n",
       "      <td>0.381855</td>\n",
       "      <td>0.381855</td>\n",
       "    </tr>\n",
       "    <tr>\n",
       "      <th>41953</th>\n",
       "      <td>-0.040576</td>\n",
       "      <td>0.040576</td>\n",
       "    </tr>\n",
       "    <tr>\n",
       "      <th>40385</th>\n",
       "      <td>0.139249</td>\n",
       "      <td>0.139249</td>\n",
       "    </tr>\n",
       "    <tr>\n",
       "      <th>43423</th>\n",
       "      <td>-0.461751</td>\n",
       "      <td>0.461751</td>\n",
       "    </tr>\n",
       "  </tbody>\n",
       "</table>\n",
       "</div>"
      ],
      "text/plain": [
       "            clean_error  clean_abs_error\n",
       "gbindex                                 \n",
       "6702          -0.790398         0.790398\n",
       "51299          0.604256         0.604256\n",
       "34667         -0.061289         0.061289\n",
       "44791          0.510814         0.510814\n",
       "34476         -0.292841         0.292841\n",
       "SherFHNfic     0.438387         0.438387\n",
       "45925          0.381855         0.381855\n",
       "41953         -0.040576         0.040576\n",
       "40385          0.139249         0.139249\n",
       "43423         -0.461751         0.461751"
      ]
     },
     "execution_count": 67,
     "metadata": {},
     "output_type": "execute_result"
    }
   ],
   "source": [
    "meandf.sample(10)"
   ]
  },
  {
   "cell_type": "code",
   "execution_count": 68,
   "id": "multiple-copyright",
   "metadata": {},
   "outputs": [],
   "source": [
    "dirty_gbi = [get_gbindex(x) for x in dirtymodelmeta['chunkid']]\n",
    "dirty_df = pd.DataFrame({'chunkid': list(dirtymodelmeta['chunkid']), 'gbindex': dirty_gbi,\n",
    "                         'dirty_error': dirty_error, 'dirty_abs_error': dirty_absolute_error})"
   ]
  },
  {
   "cell_type": "code",
   "execution_count": 69,
   "id": "seeing-cameroon",
   "metadata": {},
   "outputs": [
    {
     "data": {
      "text/html": [
       "<div>\n",
       "<style scoped>\n",
       "    .dataframe tbody tr th:only-of-type {\n",
       "        vertical-align: middle;\n",
       "    }\n",
       "\n",
       "    .dataframe tbody tr th {\n",
       "        vertical-align: top;\n",
       "    }\n",
       "\n",
       "    .dataframe thead th {\n",
       "        text-align: right;\n",
       "    }\n",
       "</style>\n",
       "<table border=\"1\" class=\"dataframe\">\n",
       "  <thead>\n",
       "    <tr style=\"text-align: right;\">\n",
       "      <th></th>\n",
       "      <th>chunkid</th>\n",
       "      <th>gbindex</th>\n",
       "      <th>dirty_error</th>\n",
       "      <th>dirty_abs_error</th>\n",
       "    </tr>\n",
       "  </thead>\n",
       "  <tbody>\n",
       "    <tr>\n",
       "      <th>419</th>\n",
       "      <td>29854_2</td>\n",
       "      <td>29854</td>\n",
       "      <td>0.611467</td>\n",
       "      <td>0.611467</td>\n",
       "    </tr>\n",
       "    <tr>\n",
       "      <th>1408</th>\n",
       "      <td>30312_21</td>\n",
       "      <td>30312</td>\n",
       "      <td>-0.746952</td>\n",
       "      <td>0.746952</td>\n",
       "    </tr>\n",
       "    <tr>\n",
       "      <th>1355</th>\n",
       "      <td>3891_16</td>\n",
       "      <td>3891</td>\n",
       "      <td>0.836236</td>\n",
       "      <td>0.836236</td>\n",
       "    </tr>\n",
       "    <tr>\n",
       "      <th>331</th>\n",
       "      <td>LennCFQfic_2</td>\n",
       "      <td>LennCFQfic</td>\n",
       "      <td>0.260246</td>\n",
       "      <td>0.260246</td>\n",
       "    </tr>\n",
       "    <tr>\n",
       "      <th>916</th>\n",
       "      <td>1880_2</td>\n",
       "      <td>1880</td>\n",
       "      <td>-0.038564</td>\n",
       "      <td>0.038564</td>\n",
       "    </tr>\n",
       "  </tbody>\n",
       "</table>\n",
       "</div>"
      ],
      "text/plain": [
       "           chunkid     gbindex  dirty_error  dirty_abs_error\n",
       "419        29854_2       29854     0.611467         0.611467\n",
       "1408      30312_21       30312    -0.746952         0.746952\n",
       "1355       3891_16        3891     0.836236         0.836236\n",
       "331   LennCFQfic_2  LennCFQfic     0.260246         0.260246\n",
       "916         1880_2        1880    -0.038564         0.038564"
      ]
     },
     "execution_count": 69,
     "metadata": {},
     "output_type": "execute_result"
    }
   ],
   "source": [
    "dirty_df.sample(5)"
   ]
  },
  {
   "cell_type": "code",
   "execution_count": 70,
   "id": "based-minutes",
   "metadata": {},
   "outputs": [
    {
     "data": {
      "text/html": [
       "<div>\n",
       "<style scoped>\n",
       "    .dataframe tbody tr th:only-of-type {\n",
       "        vertical-align: middle;\n",
       "    }\n",
       "\n",
       "    .dataframe tbody tr th {\n",
       "        vertical-align: top;\n",
       "    }\n",
       "\n",
       "    .dataframe thead th {\n",
       "        text-align: right;\n",
       "    }\n",
       "</style>\n",
       "<table border=\"1\" class=\"dataframe\">\n",
       "  <thead>\n",
       "    <tr style=\"text-align: right;\">\n",
       "      <th></th>\n",
       "      <th>chunkid</th>\n",
       "      <th>gbindex</th>\n",
       "      <th>dirty_error</th>\n",
       "      <th>dirty_abs_error</th>\n",
       "      <th>clean_error</th>\n",
       "      <th>clean_abs_error</th>\n",
       "      <th>error_divergence</th>\n",
       "      <th>divergence_of_abs_error</th>\n",
       "    </tr>\n",
       "  </thead>\n",
       "  <tbody>\n",
       "    <tr>\n",
       "      <th>1109</th>\n",
       "      <td>12259_1</td>\n",
       "      <td>12259</td>\n",
       "      <td>-0.442225</td>\n",
       "      <td>0.442225</td>\n",
       "      <td>-0.362558</td>\n",
       "      <td>0.362558</td>\n",
       "      <td>-0.079667</td>\n",
       "      <td>0.079667</td>\n",
       "    </tr>\n",
       "    <tr>\n",
       "      <th>377</th>\n",
       "      <td>31473_2</td>\n",
       "      <td>31473</td>\n",
       "      <td>0.008440</td>\n",
       "      <td>0.008440</td>\n",
       "      <td>0.091774</td>\n",
       "      <td>0.091774</td>\n",
       "      <td>-0.083334</td>\n",
       "      <td>-0.083334</td>\n",
       "    </tr>\n",
       "    <tr>\n",
       "      <th>332</th>\n",
       "      <td>LennCFQfic_0</td>\n",
       "      <td>LennCFQfic</td>\n",
       "      <td>0.304611</td>\n",
       "      <td>0.304611</td>\n",
       "      <td>0.169648</td>\n",
       "      <td>0.169648</td>\n",
       "      <td>0.134963</td>\n",
       "      <td>0.134963</td>\n",
       "    </tr>\n",
       "    <tr>\n",
       "      <th>844</th>\n",
       "      <td>41988_0</td>\n",
       "      <td>41988</td>\n",
       "      <td>-0.498933</td>\n",
       "      <td>0.498933</td>\n",
       "      <td>-0.550814</td>\n",
       "      <td>0.550814</td>\n",
       "      <td>0.051881</td>\n",
       "      <td>-0.051881</td>\n",
       "    </tr>\n",
       "    <tr>\n",
       "      <th>1007</th>\n",
       "      <td>50129_1</td>\n",
       "      <td>50129</td>\n",
       "      <td>0.874670</td>\n",
       "      <td>0.874670</td>\n",
       "      <td>0.726207</td>\n",
       "      <td>0.726207</td>\n",
       "      <td>0.148463</td>\n",
       "      <td>0.148463</td>\n",
       "    </tr>\n",
       "    <tr>\n",
       "      <th>892</th>\n",
       "      <td>38447_4</td>\n",
       "      <td>38447</td>\n",
       "      <td>-0.285224</td>\n",
       "      <td>0.285224</td>\n",
       "      <td>-0.250575</td>\n",
       "      <td>0.250575</td>\n",
       "      <td>-0.034650</td>\n",
       "      <td>0.034650</td>\n",
       "    </tr>\n",
       "    <tr>\n",
       "      <th>34</th>\n",
       "      <td>12669_3</td>\n",
       "      <td>12669</td>\n",
       "      <td>0.113844</td>\n",
       "      <td>0.113844</td>\n",
       "      <td>0.185100</td>\n",
       "      <td>0.185100</td>\n",
       "      <td>-0.071255</td>\n",
       "      <td>-0.071255</td>\n",
       "    </tr>\n",
       "    <tr>\n",
       "      <th>1459</th>\n",
       "      <td>48108_0</td>\n",
       "      <td>48108</td>\n",
       "      <td>-0.184451</td>\n",
       "      <td>0.184451</td>\n",
       "      <td>-0.069752</td>\n",
       "      <td>0.069752</td>\n",
       "      <td>-0.114698</td>\n",
       "      <td>0.114698</td>\n",
       "    </tr>\n",
       "    <tr>\n",
       "      <th>1197</th>\n",
       "      <td>40525_0</td>\n",
       "      <td>40525</td>\n",
       "      <td>0.161653</td>\n",
       "      <td>0.161653</td>\n",
       "      <td>0.069998</td>\n",
       "      <td>0.069998</td>\n",
       "      <td>0.091655</td>\n",
       "      <td>0.091655</td>\n",
       "    </tr>\n",
       "    <tr>\n",
       "      <th>1113</th>\n",
       "      <td>54218_9</td>\n",
       "      <td>54218</td>\n",
       "      <td>0.073235</td>\n",
       "      <td>0.073235</td>\n",
       "      <td>0.198986</td>\n",
       "      <td>0.198986</td>\n",
       "      <td>-0.125751</td>\n",
       "      <td>-0.125751</td>\n",
       "    </tr>\n",
       "  </tbody>\n",
       "</table>\n",
       "</div>"
      ],
      "text/plain": [
       "           chunkid     gbindex  dirty_error  dirty_abs_error  clean_error  \\\n",
       "1109       12259_1       12259    -0.442225         0.442225    -0.362558   \n",
       "377        31473_2       31473     0.008440         0.008440     0.091774   \n",
       "332   LennCFQfic_0  LennCFQfic     0.304611         0.304611     0.169648   \n",
       "844        41988_0       41988    -0.498933         0.498933    -0.550814   \n",
       "1007       50129_1       50129     0.874670         0.874670     0.726207   \n",
       "892        38447_4       38447    -0.285224         0.285224    -0.250575   \n",
       "34         12669_3       12669     0.113844         0.113844     0.185100   \n",
       "1459       48108_0       48108    -0.184451         0.184451    -0.069752   \n",
       "1197       40525_0       40525     0.161653         0.161653     0.069998   \n",
       "1113       54218_9       54218     0.073235         0.073235     0.198986   \n",
       "\n",
       "      clean_abs_error  error_divergence  divergence_of_abs_error  \n",
       "1109         0.362558         -0.079667                 0.079667  \n",
       "377          0.091774         -0.083334                -0.083334  \n",
       "332          0.169648          0.134963                 0.134963  \n",
       "844          0.550814          0.051881                -0.051881  \n",
       "1007         0.726207          0.148463                 0.148463  \n",
       "892          0.250575         -0.034650                 0.034650  \n",
       "34           0.185100         -0.071255                -0.071255  \n",
       "1459         0.069752         -0.114698                 0.114698  \n",
       "1197         0.069998          0.091655                 0.091655  \n",
       "1113         0.198986         -0.125751                -0.125751  "
      ]
     },
     "execution_count": 70,
     "metadata": {},
     "output_type": "execute_result"
    }
   ],
   "source": [
    "dirty_df = dirty_df.merge(meandf, on = 'gbindex')\n",
    "dirty_df['error_divergence'] = dirty_df['dirty_error'] - dirty_df['clean_error']\n",
    "dirty_df['divergence_of_abs_error'] = dirty_df['dirty_abs_error'] - dirty_df['clean_abs_error']\n",
    "dirty_df.sample(10)"
   ]
  },
  {
   "cell_type": "code",
   "execution_count": 71,
   "id": "massive-peripheral",
   "metadata": {},
   "outputs": [],
   "source": [
    "error0 = pd.read_csv('../chunkmismatch/hathinocorrerrs0.tsv', sep = '\\t')\n",
    "error1 = pd.read_csv('../chunkmismatch/hathinocorrerrs1.tsv', sep = '\\t')\n",
    "error2 = pd.read_csv('../chunkmismatch/hathinocorrerrs2.tsv', sep = '\\t')\n",
    "error3 = pd.read_csv('../chunkmismatch/hathinocorrerrs3.tsv', sep = '\\t')\n",
    "error4 = pd.read_csv('../chunkmismatch/hathinocorrerrs4.tsv', sep = '\\t')\n",
    "#error5 = pd.read_csv('/Users/tunder/work/gh_align/hathichunkerrs5.tsv', sep = '\\t')\n",
    "chunkerrors = pd.concat([error0, error1, error2, error3, error4], ignore_index = True)"
   ]
  },
  {
   "cell_type": "code",
   "execution_count": 74,
   "id": "hourly-sound",
   "metadata": {},
   "outputs": [
    {
     "data": {
      "text/plain": [
       "(2624, 10)"
      ]
     },
     "execution_count": 74,
     "metadata": {},
     "output_type": "execute_result"
    }
   ],
   "source": [
    "chunkerrors = chunkerrors.merge(dirty_df, on = 'chunkid', how = 'left')\n",
    "chunkerrors.shape"
   ]
  },
  {
   "cell_type": "code",
   "execution_count": 75,
   "id": "national-fitness",
   "metadata": {},
   "outputs": [
    {
     "data": {
      "text/plain": [
       "(1619, 10)"
      ]
     },
     "execution_count": 75,
     "metadata": {},
     "output_type": "execute_result"
    }
   ],
   "source": [
    "chunkerrors.dropna(inplace=True)\n",
    "chunkerrors.shape"
   ]
  },
  {
   "cell_type": "code",
   "execution_count": 77,
   "id": "editorial-midwest",
   "metadata": {},
   "outputs": [
    {
     "data": {
      "text/plain": [
       "(-0.027491094161007056, 0.2689394348069629)"
      ]
     },
     "execution_count": 77,
     "metadata": {},
     "output_type": "execute_result"
    }
   ],
   "source": [
    "pearsonr(chunkerrors['passagefails'], chunkerrors['error_divergence'])"
   ]
  },
  {
   "cell_type": "code",
   "execution_count": 78,
   "id": "living-avatar",
   "metadata": {},
   "outputs": [
    {
     "data": {
      "text/plain": [
       "(0.10927889979298915, 1.0488944031233694e-05)"
      ]
     },
     "execution_count": 78,
     "metadata": {},
     "output_type": "execute_result"
    }
   ],
   "source": [
    "pearsonr(chunkerrors['passagefails'], chunkerrors['divergence_of_abs_error'])"
   ]
  },
  {
   "cell_type": "code",
   "execution_count": 79,
   "id": "ordinary-boxing",
   "metadata": {},
   "outputs": [
    {
     "data": {
      "text/plain": [
       "(-0.08418068608829499, 0.0006974877725422217)"
      ]
     },
     "execution_count": 79,
     "metadata": {},
     "output_type": "execute_result"
    }
   ],
   "source": [
    "pearsonr(chunkerrors['worderrors'], chunkerrors['error_divergence'])"
   ]
  },
  {
   "cell_type": "code",
   "execution_count": 80,
   "id": "medium-doctor",
   "metadata": {},
   "outputs": [
    {
     "data": {
      "text/plain": [
       "(0.05411146333184751, 0.02946672066133878)"
      ]
     },
     "execution_count": 80,
     "metadata": {},
     "output_type": "execute_result"
    }
   ],
   "source": [
    "pearsonr(chunkerrors['worderrors'], chunkerrors['divergence_of_abs_error'])"
   ]
  },
  {
   "cell_type": "markdown",
   "id": "clear-summary",
   "metadata": {},
   "source": [
    "The sheer amount of error (```divergence_of_abs_error```) correlates positively in this version with both paratext and OCR. (In the previous notebook it had no significant correlation with OCR)\n",
    "\n",
    "The *direction* of change (```error_divergence```) has in this version a correlation only with OCR errors, which I believe make a text seem more masculine. It had a connection to paratext previously, but does not in this version.\n",
    "\n",
    "But all of these relationships are fairly weak. The strongest correlation is .1, which is not huge.\n",
    "\n",
    "We can also reason about the absolute value of the difference between clean and dirty. In other words, we could decide not to care whether error was increased or decreased, or which direction the prediction moved, and instead care only about how *different* the prediction is."
   ]
  },
  {
   "cell_type": "code",
   "execution_count": 81,
   "id": "champion-canada",
   "metadata": {},
   "outputs": [
    {
     "data": {
      "text/plain": [
       "(0.20918147257212225, 1.8230747907023677e-17)"
      ]
     },
     "execution_count": 81,
     "metadata": {},
     "output_type": "execute_result"
    }
   ],
   "source": [
    "pearsonr(chunkerrors['passagefails'], np.abs(chunkerrors['error_divergence']))"
   ]
  },
  {
   "cell_type": "code",
   "execution_count": 82,
   "id": "organized-bandwidth",
   "metadata": {},
   "outputs": [
    {
     "data": {
      "text/plain": [
       "(0.0699108802880843, 0.004888948557236747)"
      ]
     },
     "execution_count": 82,
     "metadata": {},
     "output_type": "execute_result"
    }
   ],
   "source": [
    "pearsonr(chunkerrors['worderrors'], np.abs(chunkerrors['error_divergence']))"
   ]
  },
  {
   "cell_type": "markdown",
   "id": "loving-mississippi",
   "metadata": {},
   "source": [
    "That won't change if we substitute ```divergence_of_abs_error```.\n",
    "\n",
    "Finally, we want to think about the correlation of our predictors."
   ]
  },
  {
   "cell_type": "code",
   "execution_count": 83,
   "id": "activated-terrace",
   "metadata": {},
   "outputs": [
    {
     "data": {
      "text/plain": [
       "(0.10538394404900697, 2.1484832666855055e-05)"
      ]
     },
     "execution_count": 83,
     "metadata": {},
     "output_type": "execute_result"
    }
   ],
   "source": [
    "pearsonr(chunkerrors['passagefails'], chunkerrors['worderrors'])"
   ]
  },
  {
   "cell_type": "markdown",
   "id": "academic-lying",
   "metadata": {},
   "source": [
    "**NOTE**: That's not a high correlation. There's not a huge danger of collinearity now.\n",
    "\n",
    "## Interpretation"
   ]
  },
  {
   "cell_type": "code",
   "execution_count": 84,
   "id": "tracked-tulsa",
   "metadata": {},
   "outputs": [
    {
     "name": "stdout",
     "output_type": "stream",
     "text": [
      "                               OLS Regression Results                              \n",
      "===================================================================================\n",
      "Dep. Variable:     divergence_of_abs_error   R-squared:                       0.014\n",
      "Model:                                 OLS   Adj. R-squared:                  0.013\n",
      "Method:                      Least Squares   F-statistic:                     11.29\n",
      "Date:                     Wed, 30 Jun 2021   Prob (F-statistic):           1.36e-05\n",
      "Time:                             00:04:46   Log-Likelihood:                 705.44\n",
      "No. Observations:                     1619   AIC:                            -1405.\n",
      "Df Residuals:                         1616   BIC:                            -1389.\n",
      "Df Model:                                2                                         \n",
      "Covariance Type:                 nonrobust                                         \n",
      "================================================================================\n",
      "                   coef    std err          t      P>|t|      [0.025      0.975]\n",
      "--------------------------------------------------------------------------------\n",
      "const           -0.0007      0.005     -0.152      0.879      -0.010       0.009\n",
      "passagefails     0.0730      0.017      4.216      0.000       0.039       0.107\n",
      "worderrors       0.1549      0.089      1.734      0.083      -0.020       0.330\n",
      "==============================================================================\n",
      "Omnibus:                       99.844   Durbin-Watson:                   1.608\n",
      "Prob(Omnibus):                  0.000   Jarque-Bera (JB):              186.308\n",
      "Skew:                           0.438   Prob(JB):                     3.50e-41\n",
      "Kurtosis:                       4.412   Cond. No.                         23.1\n",
      "==============================================================================\n",
      "\n",
      "Notes:\n",
      "[1] Standard Errors assume that the covariance matrix of the errors is correctly specified.\n"
     ]
    }
   ],
   "source": [
    "y = chunkerrors['divergence_of_abs_error']\n",
    "X = sm.add_constant(chunkerrors.loc[ : , ['passagefails', 'worderrors']])\n",
    "\n",
    "model = sm.OLS(y, X)\n",
    "results = model.fit()\n",
    "print(results.summary())"
   ]
  },
  {
   "cell_type": "markdown",
   "id": "involved-invalid",
   "metadata": {},
   "source": [
    "So, in short, when we consider both the gross inclusion of text that's not in Gutenberg (```passagefails```) and OCR quality, as measured by spelling errors in individual words (```worderrors```), only the former appears to be significantly distorting for the absolute amount of error. This result remains the same from the previous notebook.\n",
    "\n",
    "When we consider change directionally, only OCR has a significant association. This is a change from the previous notebooks, where these two factors appeared to be pushing in opposite directions."
   ]
  },
  {
   "cell_type": "code",
   "execution_count": 85,
   "id": "honey-notification",
   "metadata": {},
   "outputs": [
    {
     "name": "stdout",
     "output_type": "stream",
     "text": [
      "                            OLS Regression Results                            \n",
      "==============================================================================\n",
      "Dep. Variable:       error_divergence   R-squared:                       0.007\n",
      "Model:                            OLS   Adj. R-squared:                  0.006\n",
      "Method:                 Least Squares   F-statistic:                     6.054\n",
      "Date:                Wed, 30 Jun 2021   Prob (F-statistic):            0.00240\n",
      "Time:                        00:05:03   Log-Likelihood:                 697.92\n",
      "No. Observations:                1619   AIC:                            -1390.\n",
      "Df Residuals:                    1616   BIC:                            -1374.\n",
      "Df Model:                           2                                         \n",
      "Covariance Type:            nonrobust                                         \n",
      "================================================================================\n",
      "                   coef    std err          t      P>|t|      [0.025      0.975]\n",
      "--------------------------------------------------------------------------------\n",
      "const            0.0028      0.005      0.580      0.562      -0.007       0.012\n",
      "passagefails    -0.0131      0.017     -0.756      0.450      -0.047       0.021\n",
      "worderrors      -0.2960      0.090     -3.298      0.001      -0.472      -0.120\n",
      "==============================================================================\n",
      "Omnibus:                       71.611   Durbin-Watson:                   1.598\n",
      "Prob(Omnibus):                  0.000   Jarque-Bera (JB):              222.266\n",
      "Skew:                          -0.081   Prob(JB):                     5.44e-49\n",
      "Kurtosis:                       4.808   Cond. No.                         23.1\n",
      "==============================================================================\n",
      "\n",
      "Notes:\n",
      "[1] Standard Errors assume that the covariance matrix of the errors is correctly specified.\n"
     ]
    }
   ],
   "source": [
    "y = chunkerrors['error_divergence']\n",
    "X = sm.add_constant(chunkerrors.loc[ : , ['passagefails', 'worderrors']])\n",
    "\n",
    "model = sm.OLS(y, X)\n",
    "results = model.fit()\n",
    "print(results.summary())"
   ]
  },
  {
   "cell_type": "markdown",
   "id": "identified-aspect",
   "metadata": {},
   "source": [
    "For this problem (gender prediction), none of the effects are really huge. Practically speaking, for downstream conclusions, none of the errors are a big thing to worry about. That may not hold equally true for genre and date prediction."
   ]
  }
 ],
 "metadata": {
  "kernelspec": {
   "display_name": "Python 3",
   "language": "python",
   "name": "python3"
  },
  "language_info": {
   "codemirror_mode": {
    "name": "ipython",
    "version": 3
   },
   "file_extension": ".py",
   "mimetype": "text/x-python",
   "name": "python",
   "nbconvert_exporter": "python",
   "pygments_lexer": "ipython3",
   "version": "3.7.6"
  }
 },
 "nbformat": 4,
 "nbformat_minor": 5
}
