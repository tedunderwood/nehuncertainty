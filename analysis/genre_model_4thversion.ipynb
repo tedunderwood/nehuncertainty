{
 "cells": [
  {
   "cell_type": "code",
   "execution_count": 1,
   "metadata": {},
   "outputs": [],
   "source": [
    "import pandas as pd\n",
    "import numpy as np\n",
    "import os, random\n",
    "from matplotlib import pyplot as plt\n",
    "from scipy.stats import rankdata\n",
    "from scipy.stats import pearsonr\n",
    "import statsmodels.api as sm\n",
    "from sklearn.model_selection import cross_validate\n",
    "from sklearn.feature_extraction.text import CountVectorizer\n",
    "from sklearn.linear_model import LogisticRegression\n",
    "from sklearn.preprocessing import StandardScaler\n",
    "from sklearn.model_selection import cross_validate\n",
    "from sklearn.model_selection import GroupKFold\n",
    "from sklearn.model_selection import cross_val_predict\n",
    "from sklearn.pipeline import Pipeline"
   ]
  },
  {
   "cell_type": "code",
   "execution_count": 2,
   "metadata": {},
   "outputs": [],
   "source": [
    "volmeta = pd.read_csv('updatedvolumemetadata.tsv', sep = '\\t')\n",
    "#seperate metadata file"
   ]
  },
  {
   "cell_type": "code",
   "execution_count": 3,
   "metadata": {},
   "outputs": [
    {
     "data": {
      "text/html": [
       "<div>\n",
       "<style scoped>\n",
       "    .dataframe tbody tr th:only-of-type {\n",
       "        vertical-align: middle;\n",
       "    }\n",
       "\n",
       "    .dataframe tbody tr th {\n",
       "        vertical-align: top;\n",
       "    }\n",
       "\n",
       "    .dataframe thead th {\n",
       "        text-align: right;\n",
       "    }\n",
       "</style>\n",
       "<table border=\"1\" class=\"dataframe\">\n",
       "  <thead>\n",
       "    <tr style=\"text-align: right;\">\n",
       "      <th></th>\n",
       "      <th>docid</th>\n",
       "      <th>author</th>\n",
       "      <th>authordate</th>\n",
       "      <th>title</th>\n",
       "      <th>latestcomp</th>\n",
       "      <th>hathidate</th>\n",
       "      <th>imprint</th>\n",
       "      <th>gutenstring</th>\n",
       "      <th>enumcron</th>\n",
       "      <th>gbindex</th>\n",
       "      <th>...</th>\n",
       "      <th>contents</th>\n",
       "      <th>instances</th>\n",
       "      <th>genre</th>\n",
       "      <th>audience</th>\n",
       "      <th>authgender</th>\n",
       "      <th>multiplehtids</th>\n",
       "      <th>comments</th>\n",
       "      <th>coder</th>\n",
       "      <th>Folder</th>\n",
       "      <th>Trimmed</th>\n",
       "    </tr>\n",
       "  </thead>\n",
       "  <tbody>\n",
       "    <tr>\n",
       "      <th>0</th>\n",
       "      <td>loc.ark+=13960=t5p851b8s</td>\n",
       "      <td>Reid, Stuart J.</td>\n",
       "      <td>NaN</td>\n",
       "      <td>Lord John Russell</td>\n",
       "      <td>1895</td>\n",
       "      <td>NaN</td>\n",
       "      <td>New York;Harper &amp; brothers;1</td>\n",
       "      <td>Reid, Stuart J. | Lord John Russell</td>\n",
       "      <td>&lt;blank&gt;</td>\n",
       "      <td>27553</td>\n",
       "      <td>...</td>\n",
       "      <td>NaN</td>\n",
       "      <td>NaN</td>\n",
       "      <td>bio</td>\n",
       "      <td>NaN</td>\n",
       "      <td>u</td>\n",
       "      <td>NaN</td>\n",
       "      <td>NaN</td>\n",
       "      <td>morgan</td>\n",
       "      <td>gutenbiotrimmed</td>\n",
       "      <td>Trimmed</td>\n",
       "    </tr>\n",
       "    <tr>\n",
       "      <th>1</th>\n",
       "      <td>hvd.32044070870779</td>\n",
       "      <td>Smiles, Samuel,</td>\n",
       "      <td>NaN</td>\n",
       "      <td>Lives of the engineers</td>\n",
       "      <td>1879</td>\n",
       "      <td>NaN</td>\n",
       "      <td>London;J. Murray;1874-1877.</td>\n",
       "      <td>Smiles, Samuel | Lives of the Engineers</td>\n",
       "      <td>v. 5</td>\n",
       "      <td>27710</td>\n",
       "      <td>...</td>\n",
       "      <td>NaN</td>\n",
       "      <td>NaN</td>\n",
       "      <td>bio | short</td>\n",
       "      <td>NaN</td>\n",
       "      <td>m</td>\n",
       "      <td>NaN</td>\n",
       "      <td>2 people, mixed together (not one per chapter)</td>\n",
       "      <td>morgan</td>\n",
       "      <td>gutenbiotrimmed</td>\n",
       "      <td>Trimmed</td>\n",
       "    </tr>\n",
       "    <tr>\n",
       "      <th>2</th>\n",
       "      <td>mdp.39015005892362</td>\n",
       "      <td>Cruttwell, Maud.</td>\n",
       "      <td>NaN</td>\n",
       "      <td>Luca Signorelli</td>\n",
       "      <td>1899</td>\n",
       "      <td>NaN</td>\n",
       "      <td>London;G. Bell &amp; sons;1899.</td>\n",
       "      <td>Cruttwell, Maud | Luca Signorelli</td>\n",
       "      <td>&lt;blank&gt;</td>\n",
       "      <td>27759</td>\n",
       "      <td>...</td>\n",
       "      <td>NaN</td>\n",
       "      <td>NaN</td>\n",
       "      <td>bio</td>\n",
       "      <td>NaN</td>\n",
       "      <td>f</td>\n",
       "      <td>NaN</td>\n",
       "      <td>NaN</td>\n",
       "      <td>morgan</td>\n",
       "      <td>gutenbiotrimmed</td>\n",
       "      <td>Trimmed</td>\n",
       "    </tr>\n",
       "    <tr>\n",
       "      <th>3</th>\n",
       "      <td>mdp.39015051108531</td>\n",
       "      <td>Bettany, George Thomas,</td>\n",
       "      <td>NaN</td>\n",
       "      <td>Life of Charles Darwin</td>\n",
       "      <td>1887</td>\n",
       "      <td>NaN</td>\n",
       "      <td>London;W. Scott;1887.</td>\n",
       "      <td>Bettany, George Thomas | Life of Charles Darwin</td>\n",
       "      <td>&lt;blank&gt;</td>\n",
       "      <td>28380</td>\n",
       "      <td>...</td>\n",
       "      <td>NaN</td>\n",
       "      <td>NaN</td>\n",
       "      <td>bio</td>\n",
       "      <td>NaN</td>\n",
       "      <td>m</td>\n",
       "      <td>NaN</td>\n",
       "      <td>NaN</td>\n",
       "      <td>morgan</td>\n",
       "      <td>gutenbiotrimmed</td>\n",
       "      <td>Trimmed</td>\n",
       "    </tr>\n",
       "    <tr>\n",
       "      <th>4</th>\n",
       "      <td>loc.ark+=13960=t6b27z54n</td>\n",
       "      <td>Gay, Sydney Howard,</td>\n",
       "      <td>NaN</td>\n",
       "      <td>James Madison</td>\n",
       "      <td>1889</td>\n",
       "      <td>NaN</td>\n",
       "      <td>Boston;New York;Houghton, Mi</td>\n",
       "      <td>Gay, Sydney Howard | James Madison</td>\n",
       "      <td>&lt;blank&gt;</td>\n",
       "      <td>28992</td>\n",
       "      <td>...</td>\n",
       "      <td>NaN</td>\n",
       "      <td>NaN</td>\n",
       "      <td>bio</td>\n",
       "      <td>NaN</td>\n",
       "      <td>u</td>\n",
       "      <td>NaN</td>\n",
       "      <td>NaN</td>\n",
       "      <td>morgan</td>\n",
       "      <td>gutenbiotrimmed</td>\n",
       "      <td>Trimmed</td>\n",
       "    </tr>\n",
       "  </tbody>\n",
       "</table>\n",
       "<p>5 rows × 24 columns</p>\n",
       "</div>"
      ],
      "text/plain": [
       "                      docid                   author authordate  \\\n",
       "0  loc.ark+=13960=t5p851b8s          Reid, Stuart J.        NaN   \n",
       "1        hvd.32044070870779          Smiles, Samuel,        NaN   \n",
       "2        mdp.39015005892362         Cruttwell, Maud.        NaN   \n",
       "3        mdp.39015051108531  Bettany, George Thomas,        NaN   \n",
       "4  loc.ark+=13960=t6b27z54n      Gay, Sydney Howard,        NaN   \n",
       "\n",
       "                    title  latestcomp  hathidate  \\\n",
       "0       Lord John Russell        1895        NaN   \n",
       "1  Lives of the engineers        1879        NaN   \n",
       "2         Luca Signorelli        1899        NaN   \n",
       "3  Life of Charles Darwin        1887        NaN   \n",
       "4           James Madison        1889        NaN   \n",
       "\n",
       "                        imprint  \\\n",
       "0  New York;Harper & brothers;1   \n",
       "1   London;J. Murray;1874-1877.   \n",
       "2   London;G. Bell & sons;1899.   \n",
       "3         London;W. Scott;1887.   \n",
       "4  Boston;New York;Houghton, Mi   \n",
       "\n",
       "                                       gutenstring enumcron gbindex  ...  \\\n",
       "0              Reid, Stuart J. | Lord John Russell  <blank>   27553  ...   \n",
       "1          Smiles, Samuel | Lives of the Engineers     v. 5   27710  ...   \n",
       "2                Cruttwell, Maud | Luca Signorelli  <blank>   27759  ...   \n",
       "3  Bettany, George Thomas | Life of Charles Darwin  <blank>   28380  ...   \n",
       "4               Gay, Sydney Howard | James Madison  <blank>   28992  ...   \n",
       "\n",
       "   contents  instances        genre audience authgender  multiplehtids  \\\n",
       "0       NaN        NaN          bio      NaN          u            NaN   \n",
       "1       NaN        NaN  bio | short      NaN          m            NaN   \n",
       "2       NaN        NaN          bio      NaN          f            NaN   \n",
       "3       NaN        NaN          bio      NaN          m            NaN   \n",
       "4       NaN        NaN          bio      NaN          u            NaN   \n",
       "\n",
       "                                         comments   coder           Folder  \\\n",
       "0                                             NaN  morgan  gutenbiotrimmed   \n",
       "1  2 people, mixed together (not one per chapter)  morgan  gutenbiotrimmed   \n",
       "2                                             NaN  morgan  gutenbiotrimmed   \n",
       "3                                             NaN  morgan  gutenbiotrimmed   \n",
       "4                                             NaN  morgan  gutenbiotrimmed   \n",
       "\n",
       "   Trimmed  \n",
       "0  Trimmed  \n",
       "1  Trimmed  \n",
       "2  Trimmed  \n",
       "3  Trimmed  \n",
       "4  Trimmed  \n",
       "\n",
       "[5 rows x 24 columns]"
      ]
     },
     "execution_count": 3,
     "metadata": {},
     "output_type": "execute_result"
    }
   ],
   "source": [
    "volmeta.head()"
   ]
  },
  {
   "cell_type": "code",
   "execution_count": 4,
   "metadata": {},
   "outputs": [
    {
     "name": "stdout",
     "output_type": "stream",
     "text": [
      "anomaly dutch\n"
     ]
    }
   ],
   "source": [
    "def simplify_genre(genrestring):\n",
    "    genres = [x.strip() for x in genrestring.split('|')]\n",
    "    if 'bio' in genres:\n",
    "        return 'bio'\n",
    "    elif 'fic' in genres:\n",
    "        return 'fic'\n",
    "    else:\n",
    "        print('anomaly', genrestring)\n",
    "        return float('nan')\n",
    "\n",
    "volmeta['simplegenre'] = volmeta['genre'].apply(simplify_genre)\n",
    "#function to simplify genre since we added more fine metadata like bio|short"
   ]
  },
  {
   "cell_type": "code",
   "execution_count": 5,
   "metadata": {},
   "outputs": [
    {
     "data": {
      "text/html": [
       "<div>\n",
       "<style scoped>\n",
       "    .dataframe tbody tr th:only-of-type {\n",
       "        vertical-align: middle;\n",
       "    }\n",
       "\n",
       "    .dataframe tbody tr th {\n",
       "        vertical-align: top;\n",
       "    }\n",
       "\n",
       "    .dataframe thead th {\n",
       "        text-align: right;\n",
       "    }\n",
       "</style>\n",
       "<table border=\"1\" class=\"dataframe\">\n",
       "  <thead>\n",
       "    <tr style=\"text-align: right;\">\n",
       "      <th></th>\n",
       "      <th>docid</th>\n",
       "      <th>author</th>\n",
       "      <th>authordate</th>\n",
       "      <th>title</th>\n",
       "      <th>latestcomp</th>\n",
       "      <th>hathidate</th>\n",
       "      <th>imprint</th>\n",
       "      <th>gutenstring</th>\n",
       "      <th>enumcron</th>\n",
       "      <th>gbindex</th>\n",
       "      <th>...</th>\n",
       "      <th>instances</th>\n",
       "      <th>genre</th>\n",
       "      <th>audience</th>\n",
       "      <th>authgender</th>\n",
       "      <th>multiplehtids</th>\n",
       "      <th>comments</th>\n",
       "      <th>coder</th>\n",
       "      <th>Folder</th>\n",
       "      <th>Trimmed</th>\n",
       "      <th>simplegenre</th>\n",
       "    </tr>\n",
       "  </thead>\n",
       "  <tbody>\n",
       "    <tr>\n",
       "      <th>0</th>\n",
       "      <td>loc.ark+=13960=t5p851b8s</td>\n",
       "      <td>Reid, Stuart J.</td>\n",
       "      <td>NaN</td>\n",
       "      <td>Lord John Russell</td>\n",
       "      <td>1895</td>\n",
       "      <td>NaN</td>\n",
       "      <td>New York;Harper &amp; brothers;1</td>\n",
       "      <td>Reid, Stuart J. | Lord John Russell</td>\n",
       "      <td>&lt;blank&gt;</td>\n",
       "      <td>27553</td>\n",
       "      <td>...</td>\n",
       "      <td>NaN</td>\n",
       "      <td>bio</td>\n",
       "      <td>NaN</td>\n",
       "      <td>u</td>\n",
       "      <td>NaN</td>\n",
       "      <td>NaN</td>\n",
       "      <td>morgan</td>\n",
       "      <td>gutenbiotrimmed</td>\n",
       "      <td>Trimmed</td>\n",
       "      <td>bio</td>\n",
       "    </tr>\n",
       "    <tr>\n",
       "      <th>1</th>\n",
       "      <td>hvd.32044070870779</td>\n",
       "      <td>Smiles, Samuel,</td>\n",
       "      <td>NaN</td>\n",
       "      <td>Lives of the engineers</td>\n",
       "      <td>1879</td>\n",
       "      <td>NaN</td>\n",
       "      <td>London;J. Murray;1874-1877.</td>\n",
       "      <td>Smiles, Samuel | Lives of the Engineers</td>\n",
       "      <td>v. 5</td>\n",
       "      <td>27710</td>\n",
       "      <td>...</td>\n",
       "      <td>NaN</td>\n",
       "      <td>bio | short</td>\n",
       "      <td>NaN</td>\n",
       "      <td>m</td>\n",
       "      <td>NaN</td>\n",
       "      <td>2 people, mixed together (not one per chapter)</td>\n",
       "      <td>morgan</td>\n",
       "      <td>gutenbiotrimmed</td>\n",
       "      <td>Trimmed</td>\n",
       "      <td>bio</td>\n",
       "    </tr>\n",
       "    <tr>\n",
       "      <th>2</th>\n",
       "      <td>mdp.39015005892362</td>\n",
       "      <td>Cruttwell, Maud.</td>\n",
       "      <td>NaN</td>\n",
       "      <td>Luca Signorelli</td>\n",
       "      <td>1899</td>\n",
       "      <td>NaN</td>\n",
       "      <td>London;G. Bell &amp; sons;1899.</td>\n",
       "      <td>Cruttwell, Maud | Luca Signorelli</td>\n",
       "      <td>&lt;blank&gt;</td>\n",
       "      <td>27759</td>\n",
       "      <td>...</td>\n",
       "      <td>NaN</td>\n",
       "      <td>bio</td>\n",
       "      <td>NaN</td>\n",
       "      <td>f</td>\n",
       "      <td>NaN</td>\n",
       "      <td>NaN</td>\n",
       "      <td>morgan</td>\n",
       "      <td>gutenbiotrimmed</td>\n",
       "      <td>Trimmed</td>\n",
       "      <td>bio</td>\n",
       "    </tr>\n",
       "    <tr>\n",
       "      <th>3</th>\n",
       "      <td>mdp.39015051108531</td>\n",
       "      <td>Bettany, George Thomas,</td>\n",
       "      <td>NaN</td>\n",
       "      <td>Life of Charles Darwin</td>\n",
       "      <td>1887</td>\n",
       "      <td>NaN</td>\n",
       "      <td>London;W. Scott;1887.</td>\n",
       "      <td>Bettany, George Thomas | Life of Charles Darwin</td>\n",
       "      <td>&lt;blank&gt;</td>\n",
       "      <td>28380</td>\n",
       "      <td>...</td>\n",
       "      <td>NaN</td>\n",
       "      <td>bio</td>\n",
       "      <td>NaN</td>\n",
       "      <td>m</td>\n",
       "      <td>NaN</td>\n",
       "      <td>NaN</td>\n",
       "      <td>morgan</td>\n",
       "      <td>gutenbiotrimmed</td>\n",
       "      <td>Trimmed</td>\n",
       "      <td>bio</td>\n",
       "    </tr>\n",
       "    <tr>\n",
       "      <th>4</th>\n",
       "      <td>loc.ark+=13960=t6b27z54n</td>\n",
       "      <td>Gay, Sydney Howard,</td>\n",
       "      <td>NaN</td>\n",
       "      <td>James Madison</td>\n",
       "      <td>1889</td>\n",
       "      <td>NaN</td>\n",
       "      <td>Boston;New York;Houghton, Mi</td>\n",
       "      <td>Gay, Sydney Howard | James Madison</td>\n",
       "      <td>&lt;blank&gt;</td>\n",
       "      <td>28992</td>\n",
       "      <td>...</td>\n",
       "      <td>NaN</td>\n",
       "      <td>bio</td>\n",
       "      <td>NaN</td>\n",
       "      <td>u</td>\n",
       "      <td>NaN</td>\n",
       "      <td>NaN</td>\n",
       "      <td>morgan</td>\n",
       "      <td>gutenbiotrimmed</td>\n",
       "      <td>Trimmed</td>\n",
       "      <td>bio</td>\n",
       "    </tr>\n",
       "  </tbody>\n",
       "</table>\n",
       "<p>5 rows × 25 columns</p>\n",
       "</div>"
      ],
      "text/plain": [
       "                      docid                   author authordate  \\\n",
       "0  loc.ark+=13960=t5p851b8s          Reid, Stuart J.        NaN   \n",
       "1        hvd.32044070870779          Smiles, Samuel,        NaN   \n",
       "2        mdp.39015005892362         Cruttwell, Maud.        NaN   \n",
       "3        mdp.39015051108531  Bettany, George Thomas,        NaN   \n",
       "4  loc.ark+=13960=t6b27z54n      Gay, Sydney Howard,        NaN   \n",
       "\n",
       "                    title  latestcomp  hathidate  \\\n",
       "0       Lord John Russell        1895        NaN   \n",
       "1  Lives of the engineers        1879        NaN   \n",
       "2         Luca Signorelli        1899        NaN   \n",
       "3  Life of Charles Darwin        1887        NaN   \n",
       "4           James Madison        1889        NaN   \n",
       "\n",
       "                        imprint  \\\n",
       "0  New York;Harper & brothers;1   \n",
       "1   London;J. Murray;1874-1877.   \n",
       "2   London;G. Bell & sons;1899.   \n",
       "3         London;W. Scott;1887.   \n",
       "4  Boston;New York;Houghton, Mi   \n",
       "\n",
       "                                       gutenstring enumcron gbindex  ...  \\\n",
       "0              Reid, Stuart J. | Lord John Russell  <blank>   27553  ...   \n",
       "1          Smiles, Samuel | Lives of the Engineers     v. 5   27710  ...   \n",
       "2                Cruttwell, Maud | Luca Signorelli  <blank>   27759  ...   \n",
       "3  Bettany, George Thomas | Life of Charles Darwin  <blank>   28380  ...   \n",
       "4               Gay, Sydney Howard | James Madison  <blank>   28992  ...   \n",
       "\n",
       "   instances        genre audience authgender multiplehtids  \\\n",
       "0        NaN          bio      NaN          u           NaN   \n",
       "1        NaN  bio | short      NaN          m           NaN   \n",
       "2        NaN          bio      NaN          f           NaN   \n",
       "3        NaN          bio      NaN          m           NaN   \n",
       "4        NaN          bio      NaN          u           NaN   \n",
       "\n",
       "                                         comments   coder           Folder  \\\n",
       "0                                             NaN  morgan  gutenbiotrimmed   \n",
       "1  2 people, mixed together (not one per chapter)  morgan  gutenbiotrimmed   \n",
       "2                                             NaN  morgan  gutenbiotrimmed   \n",
       "3                                             NaN  morgan  gutenbiotrimmed   \n",
       "4                                             NaN  morgan  gutenbiotrimmed   \n",
       "\n",
       "   Trimmed simplegenre  \n",
       "0  Trimmed         bio  \n",
       "1  Trimmed         bio  \n",
       "2  Trimmed         bio  \n",
       "3  Trimmed         bio  \n",
       "4  Trimmed         bio  \n",
       "\n",
       "[5 rows x 25 columns]"
      ]
     },
     "execution_count": 5,
     "metadata": {},
     "output_type": "execute_result"
    }
   ],
   "source": [
    "volmeta.head()"
   ]
  },
  {
   "cell_type": "code",
   "execution_count": 6,
   "metadata": {},
   "outputs": [],
   "source": [
    "cleanfiles = [x for x in os.listdir(r'C:\\Users\\Owner\\Box Sync\\NEHproject\\cleannarratives')\n",
    "              if x.endswith('.txt')]\n",
    "dirtyfiles = [x for x in os.listdir(r'C:\\Users\\Owner\\Box Sync\\NEHproject\\dirtynarratives')\n",
    "               if x.endswith('.txt')]\n",
    "#note different syntax for PC -- getting files from a synced Box folder"
   ]
  },
  {
   "cell_type": "code",
   "execution_count": 7,
   "metadata": {},
   "outputs": [
    {
     "name": "stdout",
     "output_type": "stream",
     "text": [
      "We have 2489 clean chunks, and\n",
      "2610  dirty ones.\n"
     ]
    }
   ],
   "source": [
    "print(\"We have \" + str(len(cleanfiles)) + \" clean chunks, and\")\n",
    "print(str(len(dirtyfiles)), \" dirty ones.\")"
   ]
  },
  {
   "cell_type": "code",
   "execution_count": 8,
   "metadata": {},
   "outputs": [
    {
     "data": {
      "text/plain": [
       "'1079_0.txt'"
      ]
     },
     "execution_count": 8,
     "metadata": {},
     "output_type": "execute_result"
    }
   ],
   "source": [
    "cleanfiles[0]"
   ]
  },
  {
   "cell_type": "code",
   "execution_count": 9,
   "metadata": {},
   "outputs": [],
   "source": [
    "def get_gbindex(filename):\n",
    "    return filename.split('_')[0]\n",
    "\n",
    "gbdict = dict()\n",
    "\n",
    "for filename in dirtyfiles:\n",
    "    gbindex = get_gbindex(filename)\n",
    "    if gbindex not in gbdict:\n",
    "        gbdict[gbindex] = []\n",
    "    gbdict[gbindex].append(filename)\n",
    "\n",
    "gbset = set(gbdict.keys())"
   ]
  },
  {
   "cell_type": "code",
   "execution_count": 10,
   "metadata": {},
   "outputs": [
    {
     "name": "stdout",
     "output_type": "stream",
     "text": [
      "We have 423 separate clean volumes that have been chunked.\n"
     ]
    }
   ],
   "source": [
    "print(\"We have \" + str(len(gbset)) + \" separate clean volumes that have been chunked.\")"
   ]
  },
  {
   "cell_type": "code",
   "execution_count": 11,
   "metadata": {},
   "outputs": [
    {
     "data": {
      "text/html": [
       "<div>\n",
       "<style scoped>\n",
       "    .dataframe tbody tr th:only-of-type {\n",
       "        vertical-align: middle;\n",
       "    }\n",
       "\n",
       "    .dataframe tbody tr th {\n",
       "        vertical-align: top;\n",
       "    }\n",
       "\n",
       "    .dataframe thead th {\n",
       "        text-align: right;\n",
       "    }\n",
       "</style>\n",
       "<table border=\"1\" class=\"dataframe\">\n",
       "  <thead>\n",
       "    <tr style=\"text-align: right;\">\n",
       "      <th></th>\n",
       "      <th>docid</th>\n",
       "      <th>author</th>\n",
       "      <th>authordate</th>\n",
       "      <th>title</th>\n",
       "      <th>latestcomp</th>\n",
       "      <th>hathidate</th>\n",
       "      <th>imprint</th>\n",
       "      <th>gutenstring</th>\n",
       "      <th>enumcron</th>\n",
       "      <th>gbindex</th>\n",
       "      <th>...</th>\n",
       "      <th>instances</th>\n",
       "      <th>genre</th>\n",
       "      <th>audience</th>\n",
       "      <th>authgender</th>\n",
       "      <th>multiplehtids</th>\n",
       "      <th>comments</th>\n",
       "      <th>coder</th>\n",
       "      <th>Folder</th>\n",
       "      <th>Trimmed</th>\n",
       "      <th>simplegenre</th>\n",
       "    </tr>\n",
       "  </thead>\n",
       "  <tbody>\n",
       "    <tr>\n",
       "      <th>0</th>\n",
       "      <td>loc.ark+=13960=t5p851b8s</td>\n",
       "      <td>Reid, Stuart J.</td>\n",
       "      <td>NaN</td>\n",
       "      <td>Lord John Russell</td>\n",
       "      <td>1895</td>\n",
       "      <td>NaN</td>\n",
       "      <td>New York;Harper &amp; brothers;1</td>\n",
       "      <td>Reid, Stuart J. | Lord John Russell</td>\n",
       "      <td>&lt;blank&gt;</td>\n",
       "      <td>27553</td>\n",
       "      <td>...</td>\n",
       "      <td>NaN</td>\n",
       "      <td>bio</td>\n",
       "      <td>NaN</td>\n",
       "      <td>u</td>\n",
       "      <td>NaN</td>\n",
       "      <td>NaN</td>\n",
       "      <td>morgan</td>\n",
       "      <td>gutenbiotrimmed</td>\n",
       "      <td>Trimmed</td>\n",
       "      <td>bio</td>\n",
       "    </tr>\n",
       "    <tr>\n",
       "      <th>2</th>\n",
       "      <td>mdp.39015005892362</td>\n",
       "      <td>Cruttwell, Maud.</td>\n",
       "      <td>NaN</td>\n",
       "      <td>Luca Signorelli</td>\n",
       "      <td>1899</td>\n",
       "      <td>NaN</td>\n",
       "      <td>London;G. Bell &amp; sons;1899.</td>\n",
       "      <td>Cruttwell, Maud | Luca Signorelli</td>\n",
       "      <td>&lt;blank&gt;</td>\n",
       "      <td>27759</td>\n",
       "      <td>...</td>\n",
       "      <td>NaN</td>\n",
       "      <td>bio</td>\n",
       "      <td>NaN</td>\n",
       "      <td>f</td>\n",
       "      <td>NaN</td>\n",
       "      <td>NaN</td>\n",
       "      <td>morgan</td>\n",
       "      <td>gutenbiotrimmed</td>\n",
       "      <td>Trimmed</td>\n",
       "      <td>bio</td>\n",
       "    </tr>\n",
       "    <tr>\n",
       "      <th>3</th>\n",
       "      <td>mdp.39015051108531</td>\n",
       "      <td>Bettany, George Thomas,</td>\n",
       "      <td>NaN</td>\n",
       "      <td>Life of Charles Darwin</td>\n",
       "      <td>1887</td>\n",
       "      <td>NaN</td>\n",
       "      <td>London;W. Scott;1887.</td>\n",
       "      <td>Bettany, George Thomas | Life of Charles Darwin</td>\n",
       "      <td>&lt;blank&gt;</td>\n",
       "      <td>28380</td>\n",
       "      <td>...</td>\n",
       "      <td>NaN</td>\n",
       "      <td>bio</td>\n",
       "      <td>NaN</td>\n",
       "      <td>m</td>\n",
       "      <td>NaN</td>\n",
       "      <td>NaN</td>\n",
       "      <td>morgan</td>\n",
       "      <td>gutenbiotrimmed</td>\n",
       "      <td>Trimmed</td>\n",
       "      <td>bio</td>\n",
       "    </tr>\n",
       "    <tr>\n",
       "      <th>4</th>\n",
       "      <td>loc.ark+=13960=t6b27z54n</td>\n",
       "      <td>Gay, Sydney Howard,</td>\n",
       "      <td>NaN</td>\n",
       "      <td>James Madison</td>\n",
       "      <td>1889</td>\n",
       "      <td>NaN</td>\n",
       "      <td>Boston;New York;Houghton, Mi</td>\n",
       "      <td>Gay, Sydney Howard | James Madison</td>\n",
       "      <td>&lt;blank&gt;</td>\n",
       "      <td>28992</td>\n",
       "      <td>...</td>\n",
       "      <td>NaN</td>\n",
       "      <td>bio</td>\n",
       "      <td>NaN</td>\n",
       "      <td>u</td>\n",
       "      <td>NaN</td>\n",
       "      <td>NaN</td>\n",
       "      <td>morgan</td>\n",
       "      <td>gutenbiotrimmed</td>\n",
       "      <td>Trimmed</td>\n",
       "      <td>bio</td>\n",
       "    </tr>\n",
       "    <tr>\n",
       "      <th>5</th>\n",
       "      <td>uc2.ark+=13960=t27944x8r</td>\n",
       "      <td>Marrs, William Taylor</td>\n",
       "      <td>NaN</td>\n",
       "      <td>Confessions of a neurasthenic</td>\n",
       "      <td>1908</td>\n",
       "      <td>1908.0</td>\n",
       "      <td>Philadelphia;F. A. Davis com</td>\n",
       "      <td>Marrs, William Taylor | Confessions of a Neura...</td>\n",
       "      <td>NaN</td>\n",
       "      <td>30487</td>\n",
       "      <td>...</td>\n",
       "      <td>1.0</td>\n",
       "      <td>bio</td>\n",
       "      <td>NaN</td>\n",
       "      <td>m</td>\n",
       "      <td>NaN</td>\n",
       "      <td>NaN</td>\n",
       "      <td>peizhen</td>\n",
       "      <td>gutenbiotrimmed</td>\n",
       "      <td>Trimmed</td>\n",
       "      <td>bio</td>\n",
       "    </tr>\n",
       "  </tbody>\n",
       "</table>\n",
       "<p>5 rows × 25 columns</p>\n",
       "</div>"
      ],
      "text/plain": [
       "                      docid                   author authordate  \\\n",
       "0  loc.ark+=13960=t5p851b8s          Reid, Stuart J.        NaN   \n",
       "2        mdp.39015005892362         Cruttwell, Maud.        NaN   \n",
       "3        mdp.39015051108531  Bettany, George Thomas,        NaN   \n",
       "4  loc.ark+=13960=t6b27z54n      Gay, Sydney Howard,        NaN   \n",
       "5  uc2.ark+=13960=t27944x8r    Marrs, William Taylor        NaN   \n",
       "\n",
       "                           title  latestcomp  hathidate  \\\n",
       "0              Lord John Russell        1895        NaN   \n",
       "2                Luca Signorelli        1899        NaN   \n",
       "3         Life of Charles Darwin        1887        NaN   \n",
       "4                  James Madison        1889        NaN   \n",
       "5  Confessions of a neurasthenic        1908     1908.0   \n",
       "\n",
       "                        imprint  \\\n",
       "0  New York;Harper & brothers;1   \n",
       "2   London;G. Bell & sons;1899.   \n",
       "3         London;W. Scott;1887.   \n",
       "4  Boston;New York;Houghton, Mi   \n",
       "5  Philadelphia;F. A. Davis com   \n",
       "\n",
       "                                         gutenstring enumcron gbindex  ...  \\\n",
       "0                Reid, Stuart J. | Lord John Russell  <blank>   27553  ...   \n",
       "2                  Cruttwell, Maud | Luca Signorelli  <blank>   27759  ...   \n",
       "3    Bettany, George Thomas | Life of Charles Darwin  <blank>   28380  ...   \n",
       "4                 Gay, Sydney Howard | James Madison  <blank>   28992  ...   \n",
       "5  Marrs, William Taylor | Confessions of a Neura...      NaN   30487  ...   \n",
       "\n",
       "   instances  genre audience authgender multiplehtids  comments    coder  \\\n",
       "0        NaN    bio      NaN          u           NaN       NaN   morgan   \n",
       "2        NaN    bio      NaN          f           NaN       NaN   morgan   \n",
       "3        NaN    bio      NaN          m           NaN       NaN   morgan   \n",
       "4        NaN    bio      NaN          u           NaN       NaN   morgan   \n",
       "5        1.0    bio      NaN          m           NaN       NaN  peizhen   \n",
       "\n",
       "            Folder  Trimmed simplegenre  \n",
       "0  gutenbiotrimmed  Trimmed         bio  \n",
       "2  gutenbiotrimmed  Trimmed         bio  \n",
       "3  gutenbiotrimmed  Trimmed         bio  \n",
       "4  gutenbiotrimmed  Trimmed         bio  \n",
       "5  gutenbiotrimmed  Trimmed         bio  \n",
       "\n",
       "[5 rows x 25 columns]"
      ]
     },
     "execution_count": 11,
     "metadata": {},
     "output_type": "execute_result"
    }
   ],
   "source": [
    "ourtitles = volmeta.loc[volmeta['gbindex'].isin(gbset), : ]\n",
    "ourtitles.shape\n",
    "ourtitles.head()"
   ]
  },
  {
   "cell_type": "code",
   "execution_count": 12,
   "metadata": {},
   "outputs": [
    {
     "name": "stdout",
     "output_type": "stream",
     "text": [
      "The smaller class has  121  volumes.\n"
     ]
    }
   ],
   "source": [
    "indexes_f = ourtitles.loc[ourtitles.simplegenre == 'fic', : ].index.tolist()\n",
    "indexes_b = ourtitles.loc[ourtitles.simplegenre == 'bio', : ].index.tolist()\n",
    "print('The smaller class has ', len(indexes_b), ' volumes.')\n",
    "\n",
    "# note -- we have less bios than female-authored texts "
   ]
  },
  {
   "cell_type": "code",
   "execution_count": 13,
   "metadata": {},
   "outputs": [],
   "source": [
    "def match_medians(smaller_indexes, larger_indexes, metadata):\n",
    "    '''\n",
    "    smaller_indexes = indexes of metadata for the smaller class\n",
    "    larger_indexes = indexes of metadata for the larger class\n",
    "    '''\n",
    "    selected_from_large = []\n",
    "    smaller_median = np.median(metadata.loc[smaller_indexes, 'latestcomp'])\n",
    "    \n",
    "    largerdf = metadata.loc[larger_indexes, : ]\n",
    "    above_median = largerdf.loc[largerdf['latestcomp'] >= smaller_median, : ].index.tolist()\n",
    "    below_median = largerdf.loc[largerdf['latestcomp'] <= smaller_median, : ].index.tolist()\n",
    "    \n",
    "    for i in range(len(smaller_indexes)):\n",
    "        if len(selected_from_large) > 0:\n",
    "            larger_median = np.median(metadata.loc[selected_from_large, 'latestcomp'])\n",
    "        else:\n",
    "            larger_median = smaller_median\n",
    "        \n",
    "        if larger_median >= smaller_median and len(below_median) > 0:\n",
    "            selected = random.sample(below_median, 1)[0]\n",
    "            below_median.pop(below_median.index(selected))\n",
    "            selected_from_large.append(selected)\n",
    "        elif larger_median <= smaller_median and len(above_median) > 0:\n",
    "            selected = random.sample(above_median, 1)[0]\n",
    "            above_median.pop(above_median.index(selected))\n",
    "            selected_from_large.append(selected)\n",
    "        else:\n",
    "            # we have no more items that won't distort the median\n",
    "            break\n",
    "\n",
    "    return selected_from_large, smaller_median, larger_median\n",
    "\n",
    "selected_f, median_b, median_f = match_medians(indexes_b, indexes_f, ourtitles)"
   ]
  },
  {
   "cell_type": "code",
   "execution_count": 14,
   "metadata": {},
   "outputs": [
    {
     "name": "stdout",
     "output_type": "stream",
     "text": [
      "1889.0 1888.5 121\n"
     ]
    }
   ],
   "source": [
    "print(median_b, median_f, len(selected_f))\n",
    "#121 fiction texts selected to match the 121 total bio texts available"
   ]
  },
  {
   "cell_type": "code",
   "execution_count": 15,
   "metadata": {},
   "outputs": [
    {
     "data": {
      "text/plain": [
       "242"
      ]
     },
     "execution_count": 15,
     "metadata": {},
     "output_type": "execute_result"
    }
   ],
   "source": [
    "all_selected_vols = indexes_b + selected_f\n",
    "len(all_selected_vols)"
   ]
  },
  {
   "cell_type": "code",
   "execution_count": 16,
   "metadata": {},
   "outputs": [],
   "source": [
    "selected_gbindexes = ourtitles.loc[all_selected_vols, 'gbindex']\n",
    "#lock our 242 texts "
   ]
  },
  {
   "cell_type": "code",
   "execution_count": 17,
   "metadata": {},
   "outputs": [],
   "source": [
    "def create_chunkframe(filelist, volmeta):\n",
    "    \n",
    "    chunkids = []\n",
    "    gbindices = []\n",
    "    \n",
    "    for filename in filelist:\n",
    "        chunkids.append(filename.replace('.txt', ''))\n",
    "        gbindices.append(get_gbindex(filename))\n",
    "    \n",
    "    df = pd.DataFrame({'chunkid': chunkids, 'gbindex': gbindices})\n",
    "    \n",
    "    chunkmeta = df.merge(volmeta, how = 'inner', on = 'gbindex')\n",
    "    \n",
    "    return chunkmeta\n",
    "#row for each chunk, plus the matching metadata"
   ]
  },
  {
   "cell_type": "code",
   "execution_count": 18,
   "metadata": {},
   "outputs": [
    {
     "data": {
      "text/plain": [
       "(2489, 26)"
      ]
     },
     "execution_count": 18,
     "metadata": {},
     "output_type": "execute_result"
    }
   ],
   "source": [
    "cleanmeta = create_chunkframe(cleanfiles, ourtitles)\n",
    "cleanmeta.shape"
   ]
  },
  {
   "cell_type": "code",
   "execution_count": 19,
   "metadata": {},
   "outputs": [
    {
     "data": {
      "text/plain": [
       "(2610, 26)"
      ]
     },
     "execution_count": 19,
     "metadata": {},
     "output_type": "execute_result"
    }
   ],
   "source": [
    "dirtymeta = create_chunkframe(dirtyfiles, ourtitles)\n",
    "dirtymeta.shape"
   ]
  },
  {
   "cell_type": "code",
   "execution_count": 20,
   "metadata": {},
   "outputs": [
    {
     "data": {
      "text/plain": [
       "(1296, 26)"
      ]
     },
     "execution_count": 20,
     "metadata": {},
     "output_type": "execute_result"
    }
   ],
   "source": [
    "cleanmodelmeta = cleanmeta.loc[cleanmeta['gbindex'].isin(selected_gbindexes), : ]\n",
    "cleanmodelmeta.shape\n",
    "#selecting just the chunks from the vols we selected (to match dates)"
   ]
  },
  {
   "cell_type": "code",
   "execution_count": 21,
   "metadata": {},
   "outputs": [
    {
     "data": {
      "text/plain": [
       "(1360, 26)"
      ]
     },
     "execution_count": 21,
     "metadata": {},
     "output_type": "execute_result"
    }
   ],
   "source": [
    "dirtymodelmeta = dirtymeta.loc[dirtymeta['gbindex'].isin(selected_gbindexes), : ]\n",
    "dirtymodelmeta.shape"
   ]
  },
  {
   "cell_type": "code",
   "execution_count": 22,
   "metadata": {},
   "outputs": [],
   "source": [
    "#Doc-Term matrixes \n",
    "\n",
    "clean_rootdir = r'C:\\Users\\Owner\\Box Sync\\NEHproject\\cleannarratives/'\n",
    "\n",
    "clean_paths = []\n",
    "\n",
    "for chunk_id in cleanmodelmeta['chunkid']:\n",
    "    clean_paths.append(clean_rootdir + chunk_id + '.txt')"
   ]
  },
  {
   "cell_type": "code",
   "execution_count": 23,
   "metadata": {},
   "outputs": [
    {
     "data": {
      "text/html": [
       "<div>\n",
       "<style scoped>\n",
       "    .dataframe tbody tr th:only-of-type {\n",
       "        vertical-align: middle;\n",
       "    }\n",
       "\n",
       "    .dataframe tbody tr th {\n",
       "        vertical-align: top;\n",
       "    }\n",
       "\n",
       "    .dataframe thead th {\n",
       "        text-align: right;\n",
       "    }\n",
       "</style>\n",
       "<table border=\"1\" class=\"dataframe\">\n",
       "  <thead>\n",
       "    <tr style=\"text-align: right;\">\n",
       "      <th></th>\n",
       "      <th>000</th>\n",
       "      <th>10</th>\n",
       "      <th>100</th>\n",
       "      <th>101</th>\n",
       "      <th>102</th>\n",
       "      <th>103</th>\n",
       "      <th>104</th>\n",
       "      <th>105</th>\n",
       "      <th>106</th>\n",
       "      <th>107</th>\n",
       "      <th>...</th>\n",
       "      <th>zeal</th>\n",
       "      <th>zealand</th>\n",
       "      <th>zealous</th>\n",
       "      <th>zealously</th>\n",
       "      <th>zenith</th>\n",
       "      <th>zest</th>\n",
       "      <th>zigzag</th>\n",
       "      <th>zion</th>\n",
       "      <th>zone</th>\n",
       "      <th>æsthetic</th>\n",
       "    </tr>\n",
       "    <tr>\n",
       "      <th>chunkid</th>\n",
       "      <th></th>\n",
       "      <th></th>\n",
       "      <th></th>\n",
       "      <th></th>\n",
       "      <th></th>\n",
       "      <th></th>\n",
       "      <th></th>\n",
       "      <th></th>\n",
       "      <th></th>\n",
       "      <th></th>\n",
       "      <th></th>\n",
       "      <th></th>\n",
       "      <th></th>\n",
       "      <th></th>\n",
       "      <th></th>\n",
       "      <th></th>\n",
       "      <th></th>\n",
       "      <th></th>\n",
       "      <th></th>\n",
       "      <th></th>\n",
       "      <th></th>\n",
       "    </tr>\n",
       "  </thead>\n",
       "  <tbody>\n",
       "    <tr>\n",
       "      <th>1079_0</th>\n",
       "      <td>0</td>\n",
       "      <td>0</td>\n",
       "      <td>0</td>\n",
       "      <td>0</td>\n",
       "      <td>0</td>\n",
       "      <td>0</td>\n",
       "      <td>0</td>\n",
       "      <td>0</td>\n",
       "      <td>0</td>\n",
       "      <td>0</td>\n",
       "      <td>...</td>\n",
       "      <td>1</td>\n",
       "      <td>0</td>\n",
       "      <td>0</td>\n",
       "      <td>0</td>\n",
       "      <td>0</td>\n",
       "      <td>0</td>\n",
       "      <td>0</td>\n",
       "      <td>0</td>\n",
       "      <td>0</td>\n",
       "      <td>0</td>\n",
       "    </tr>\n",
       "    <tr>\n",
       "      <th>1079_1</th>\n",
       "      <td>0</td>\n",
       "      <td>2</td>\n",
       "      <td>0</td>\n",
       "      <td>0</td>\n",
       "      <td>0</td>\n",
       "      <td>0</td>\n",
       "      <td>0</td>\n",
       "      <td>0</td>\n",
       "      <td>0</td>\n",
       "      <td>0</td>\n",
       "      <td>...</td>\n",
       "      <td>0</td>\n",
       "      <td>0</td>\n",
       "      <td>0</td>\n",
       "      <td>0</td>\n",
       "      <td>0</td>\n",
       "      <td>0</td>\n",
       "      <td>0</td>\n",
       "      <td>0</td>\n",
       "      <td>0</td>\n",
       "      <td>0</td>\n",
       "    </tr>\n",
       "    <tr>\n",
       "      <th>1079_10</th>\n",
       "      <td>0</td>\n",
       "      <td>0</td>\n",
       "      <td>0</td>\n",
       "      <td>0</td>\n",
       "      <td>0</td>\n",
       "      <td>0</td>\n",
       "      <td>0</td>\n",
       "      <td>0</td>\n",
       "      <td>0</td>\n",
       "      <td>0</td>\n",
       "      <td>...</td>\n",
       "      <td>2</td>\n",
       "      <td>0</td>\n",
       "      <td>0</td>\n",
       "      <td>0</td>\n",
       "      <td>0</td>\n",
       "      <td>0</td>\n",
       "      <td>0</td>\n",
       "      <td>0</td>\n",
       "      <td>0</td>\n",
       "      <td>0</td>\n",
       "    </tr>\n",
       "    <tr>\n",
       "      <th>1079_11</th>\n",
       "      <td>0</td>\n",
       "      <td>0</td>\n",
       "      <td>0</td>\n",
       "      <td>0</td>\n",
       "      <td>0</td>\n",
       "      <td>0</td>\n",
       "      <td>0</td>\n",
       "      <td>0</td>\n",
       "      <td>0</td>\n",
       "      <td>0</td>\n",
       "      <td>...</td>\n",
       "      <td>1</td>\n",
       "      <td>0</td>\n",
       "      <td>0</td>\n",
       "      <td>0</td>\n",
       "      <td>0</td>\n",
       "      <td>0</td>\n",
       "      <td>0</td>\n",
       "      <td>0</td>\n",
       "      <td>0</td>\n",
       "      <td>0</td>\n",
       "    </tr>\n",
       "    <tr>\n",
       "      <th>1079_12</th>\n",
       "      <td>0</td>\n",
       "      <td>0</td>\n",
       "      <td>0</td>\n",
       "      <td>0</td>\n",
       "      <td>0</td>\n",
       "      <td>0</td>\n",
       "      <td>0</td>\n",
       "      <td>0</td>\n",
       "      <td>0</td>\n",
       "      <td>0</td>\n",
       "      <td>...</td>\n",
       "      <td>0</td>\n",
       "      <td>0</td>\n",
       "      <td>0</td>\n",
       "      <td>0</td>\n",
       "      <td>0</td>\n",
       "      <td>0</td>\n",
       "      <td>0</td>\n",
       "      <td>0</td>\n",
       "      <td>0</td>\n",
       "      <td>0</td>\n",
       "    </tr>\n",
       "  </tbody>\n",
       "</table>\n",
       "<p>5 rows × 17992 columns</p>\n",
       "</div>"
      ],
      "text/plain": [
       "         000  10  100  101  102  103  104  105  106  107  ...  zeal  zealand  \\\n",
       "chunkid                                                   ...                  \n",
       "1079_0     0   0    0    0    0    0    0    0    0    0  ...     1        0   \n",
       "1079_1     0   2    0    0    0    0    0    0    0    0  ...     0        0   \n",
       "1079_10    0   0    0    0    0    0    0    0    0    0  ...     2        0   \n",
       "1079_11    0   0    0    0    0    0    0    0    0    0  ...     1        0   \n",
       "1079_12    0   0    0    0    0    0    0    0    0    0  ...     0        0   \n",
       "\n",
       "         zealous  zealously  zenith  zest  zigzag  zion  zone  æsthetic  \n",
       "chunkid                                                                  \n",
       "1079_0         0          0       0     0       0     0     0         0  \n",
       "1079_1         0          0       0     0       0     0     0         0  \n",
       "1079_10        0          0       0     0       0     0     0         0  \n",
       "1079_11        0          0       0     0       0     0     0         0  \n",
       "1079_12        0          0       0     0       0     0     0         0  \n",
       "\n",
       "[5 rows x 17992 columns]"
      ]
     },
     "execution_count": 23,
     "metadata": {},
     "output_type": "execute_result"
    }
   ],
   "source": [
    "clean_model_chunk_ids = cleanmodelmeta['chunkid']\n",
    "\n",
    "vectorizer = CountVectorizer(input = 'filename', min_df = .02)\n",
    "sparse_clean_counts = vectorizer.fit_transform(clean_paths) # the vectorizer produces something\n",
    "                                                               # called a 'sparse matrix'; we need to\n",
    "                                                               # unpack it\n",
    "clean_wordcounts = pd.DataFrame(sparse_clean_counts.toarray(), index = clean_model_chunk_ids, \n",
    "                            columns = vectorizer.get_feature_names()) #matching with actual words\n",
    "clean_wordcounts.head()"
   ]
  },
  {
   "cell_type": "code",
   "execution_count": 24,
   "metadata": {},
   "outputs": [
    {
     "data": {
      "text/html": [
       "<div>\n",
       "<style scoped>\n",
       "    .dataframe tbody tr th:only-of-type {\n",
       "        vertical-align: middle;\n",
       "    }\n",
       "\n",
       "    .dataframe tbody tr th {\n",
       "        vertical-align: top;\n",
       "    }\n",
       "\n",
       "    .dataframe thead th {\n",
       "        text-align: right;\n",
       "    }\n",
       "</style>\n",
       "<table border=\"1\" class=\"dataframe\">\n",
       "  <thead>\n",
       "    <tr style=\"text-align: right;\">\n",
       "      <th></th>\n",
       "      <th>00</th>\n",
       "      <th>000</th>\n",
       "      <th>01</th>\n",
       "      <th>02</th>\n",
       "      <th>10</th>\n",
       "      <th>100</th>\n",
       "      <th>101</th>\n",
       "      <th>102</th>\n",
       "      <th>103</th>\n",
       "      <th>104</th>\n",
       "      <th>...</th>\n",
       "      <th>ſurpriſe</th>\n",
       "      <th>ſurpriſed</th>\n",
       "      <th>ſuſpect</th>\n",
       "      <th>ſuſpected</th>\n",
       "      <th>ſweet</th>\n",
       "      <th>ſword</th>\n",
       "      <th>ſº</th>\n",
       "      <th>ﬁnd</th>\n",
       "      <th>ﬁrst</th>\n",
       "      <th>ﬁve</th>\n",
       "    </tr>\n",
       "    <tr>\n",
       "      <th>chunkid</th>\n",
       "      <th></th>\n",
       "      <th></th>\n",
       "      <th></th>\n",
       "      <th></th>\n",
       "      <th></th>\n",
       "      <th></th>\n",
       "      <th></th>\n",
       "      <th></th>\n",
       "      <th></th>\n",
       "      <th></th>\n",
       "      <th></th>\n",
       "      <th></th>\n",
       "      <th></th>\n",
       "      <th></th>\n",
       "      <th></th>\n",
       "      <th></th>\n",
       "      <th></th>\n",
       "      <th></th>\n",
       "      <th></th>\n",
       "      <th></th>\n",
       "      <th></th>\n",
       "    </tr>\n",
       "  </thead>\n",
       "  <tbody>\n",
       "    <tr>\n",
       "      <th>1079_0</th>\n",
       "      <td>1</td>\n",
       "      <td>0</td>\n",
       "      <td>0</td>\n",
       "      <td>0</td>\n",
       "      <td>4</td>\n",
       "      <td>0</td>\n",
       "      <td>0</td>\n",
       "      <td>0</td>\n",
       "      <td>0</td>\n",
       "      <td>0</td>\n",
       "      <td>...</td>\n",
       "      <td>0</td>\n",
       "      <td>0</td>\n",
       "      <td>1</td>\n",
       "      <td>0</td>\n",
       "      <td>0</td>\n",
       "      <td>1</td>\n",
       "      <td>0</td>\n",
       "      <td>0</td>\n",
       "      <td>0</td>\n",
       "      <td>0</td>\n",
       "    </tr>\n",
       "    <tr>\n",
       "      <th>1079_1</th>\n",
       "      <td>0</td>\n",
       "      <td>0</td>\n",
       "      <td>0</td>\n",
       "      <td>0</td>\n",
       "      <td>3</td>\n",
       "      <td>0</td>\n",
       "      <td>0</td>\n",
       "      <td>0</td>\n",
       "      <td>0</td>\n",
       "      <td>0</td>\n",
       "      <td>...</td>\n",
       "      <td>0</td>\n",
       "      <td>0</td>\n",
       "      <td>0</td>\n",
       "      <td>0</td>\n",
       "      <td>2</td>\n",
       "      <td>1</td>\n",
       "      <td>0</td>\n",
       "      <td>0</td>\n",
       "      <td>0</td>\n",
       "      <td>0</td>\n",
       "    </tr>\n",
       "    <tr>\n",
       "      <th>1079_10</th>\n",
       "      <td>0</td>\n",
       "      <td>0</td>\n",
       "      <td>0</td>\n",
       "      <td>0</td>\n",
       "      <td>1</td>\n",
       "      <td>0</td>\n",
       "      <td>0</td>\n",
       "      <td>0</td>\n",
       "      <td>0</td>\n",
       "      <td>0</td>\n",
       "      <td>...</td>\n",
       "      <td>0</td>\n",
       "      <td>0</td>\n",
       "      <td>0</td>\n",
       "      <td>0</td>\n",
       "      <td>6</td>\n",
       "      <td>1</td>\n",
       "      <td>0</td>\n",
       "      <td>0</td>\n",
       "      <td>0</td>\n",
       "      <td>0</td>\n",
       "    </tr>\n",
       "    <tr>\n",
       "      <th>1079_11</th>\n",
       "      <td>0</td>\n",
       "      <td>0</td>\n",
       "      <td>0</td>\n",
       "      <td>0</td>\n",
       "      <td>3</td>\n",
       "      <td>0</td>\n",
       "      <td>0</td>\n",
       "      <td>0</td>\n",
       "      <td>0</td>\n",
       "      <td>0</td>\n",
       "      <td>...</td>\n",
       "      <td>0</td>\n",
       "      <td>0</td>\n",
       "      <td>1</td>\n",
       "      <td>0</td>\n",
       "      <td>1</td>\n",
       "      <td>0</td>\n",
       "      <td>0</td>\n",
       "      <td>0</td>\n",
       "      <td>0</td>\n",
       "      <td>0</td>\n",
       "    </tr>\n",
       "    <tr>\n",
       "      <th>1079_12</th>\n",
       "      <td>0</td>\n",
       "      <td>0</td>\n",
       "      <td>0</td>\n",
       "      <td>0</td>\n",
       "      <td>2</td>\n",
       "      <td>0</td>\n",
       "      <td>0</td>\n",
       "      <td>0</td>\n",
       "      <td>0</td>\n",
       "      <td>0</td>\n",
       "      <td>...</td>\n",
       "      <td>0</td>\n",
       "      <td>0</td>\n",
       "      <td>0</td>\n",
       "      <td>0</td>\n",
       "      <td>2</td>\n",
       "      <td>2</td>\n",
       "      <td>0</td>\n",
       "      <td>0</td>\n",
       "      <td>0</td>\n",
       "      <td>0</td>\n",
       "    </tr>\n",
       "  </tbody>\n",
       "</table>\n",
       "<p>5 rows × 20406 columns</p>\n",
       "</div>"
      ],
      "text/plain": [
       "         00  000  01  02  10  100  101  102  103  104  ...  ſurpriſe  \\\n",
       "chunkid                                                ...             \n",
       "1079_0    1    0   0   0   4    0    0    0    0    0  ...         0   \n",
       "1079_1    0    0   0   0   3    0    0    0    0    0  ...         0   \n",
       "1079_10   0    0   0   0   1    0    0    0    0    0  ...         0   \n",
       "1079_11   0    0   0   0   3    0    0    0    0    0  ...         0   \n",
       "1079_12   0    0   0   0   2    0    0    0    0    0  ...         0   \n",
       "\n",
       "         ſurpriſed  ſuſpect  ſuſpected  ſweet  ſword  ſº  ﬁnd  ﬁrst  ﬁve  \n",
       "chunkid                                                                   \n",
       "1079_0           0        1          0      0      1   0    0     0    0  \n",
       "1079_1           0        0          0      2      1   0    0     0    0  \n",
       "1079_10          0        0          0      6      1   0    0     0    0  \n",
       "1079_11          0        1          0      1      0   0    0     0    0  \n",
       "1079_12          0        0          0      2      2   0    0     0    0  \n",
       "\n",
       "[5 rows x 20406 columns]"
      ]
     },
     "execution_count": 24,
     "metadata": {},
     "output_type": "execute_result"
    }
   ],
   "source": [
    "dirty_rootdir = r'C:\\Users\\Owner\\Box Sync\\NEHproject\\dirtynarratives/'\n",
    "\n",
    "dirty_paths = []\n",
    "\n",
    "for chunk_id in dirtymodelmeta['chunkid']:\n",
    "    dirty_paths.append(dirty_rootdir + chunk_id + '.txt')\n",
    "\n",
    "dirty_model_chunk_ids = dirtymodelmeta['chunkid']\n",
    "    \n",
    "vectorizer = CountVectorizer(input = 'filename', min_df = .02)\n",
    "sparse_dirty_counts = vectorizer.fit_transform(dirty_paths) \n",
    "dirty_wordcounts = pd.DataFrame(sparse_dirty_counts.toarray(), index = dirty_model_chunk_ids, \n",
    "                            columns = vectorizer.get_feature_names())\n",
    "dirty_wordcounts.head()"
   ]
  },
  {
   "cell_type": "code",
   "execution_count": 25,
   "metadata": {},
   "outputs": [],
   "source": [
    "#normalizing/weighting wordcounts \n",
    "clean_rowsums = clean_wordcounts.sum(axis = 'columns')\n",
    "clean_freqs = clean_wordcounts.divide(clean_rowsums, axis = 'rows')"
   ]
  },
  {
   "cell_type": "code",
   "execution_count": 26,
   "metadata": {},
   "outputs": [],
   "source": [
    "dirty_rowsums = dirty_wordcounts.sum(axis = 'columns')\n",
    "dirty_freqs = dirty_wordcounts.divide(dirty_rowsums, axis = 'rows')"
   ]
  },
  {
   "cell_type": "code",
   "execution_count": 27,
   "metadata": {
    "scrolled": true
   },
   "outputs": [
    {
     "data": {
      "text/html": [
       "<div>\n",
       "<style scoped>\n",
       "    .dataframe tbody tr th:only-of-type {\n",
       "        vertical-align: middle;\n",
       "    }\n",
       "\n",
       "    .dataframe tbody tr th {\n",
       "        vertical-align: top;\n",
       "    }\n",
       "\n",
       "    .dataframe thead th {\n",
       "        text-align: right;\n",
       "    }\n",
       "</style>\n",
       "<table border=\"1\" class=\"dataframe\">\n",
       "  <thead>\n",
       "    <tr style=\"text-align: right;\">\n",
       "      <th></th>\n",
       "      <th>00</th>\n",
       "      <th>000</th>\n",
       "      <th>01</th>\n",
       "      <th>02</th>\n",
       "      <th>10</th>\n",
       "      <th>100</th>\n",
       "      <th>101</th>\n",
       "      <th>102</th>\n",
       "      <th>103</th>\n",
       "      <th>104</th>\n",
       "      <th>...</th>\n",
       "      <th>ſurpriſe</th>\n",
       "      <th>ſurpriſed</th>\n",
       "      <th>ſuſpect</th>\n",
       "      <th>ſuſpected</th>\n",
       "      <th>ſweet</th>\n",
       "      <th>ſword</th>\n",
       "      <th>ſº</th>\n",
       "      <th>ﬁnd</th>\n",
       "      <th>ﬁrst</th>\n",
       "      <th>ﬁve</th>\n",
       "    </tr>\n",
       "    <tr>\n",
       "      <th>chunkid</th>\n",
       "      <th></th>\n",
       "      <th></th>\n",
       "      <th></th>\n",
       "      <th></th>\n",
       "      <th></th>\n",
       "      <th></th>\n",
       "      <th></th>\n",
       "      <th></th>\n",
       "      <th></th>\n",
       "      <th></th>\n",
       "      <th></th>\n",
       "      <th></th>\n",
       "      <th></th>\n",
       "      <th></th>\n",
       "      <th></th>\n",
       "      <th></th>\n",
       "      <th></th>\n",
       "      <th></th>\n",
       "      <th></th>\n",
       "      <th></th>\n",
       "      <th></th>\n",
       "    </tr>\n",
       "  </thead>\n",
       "  <tbody>\n",
       "    <tr>\n",
       "      <th>1079_0</th>\n",
       "      <td>0.000078</td>\n",
       "      <td>0.0</td>\n",
       "      <td>0.0</td>\n",
       "      <td>0.0</td>\n",
       "      <td>0.000311</td>\n",
       "      <td>0.0</td>\n",
       "      <td>0.0</td>\n",
       "      <td>0.0</td>\n",
       "      <td>0.0</td>\n",
       "      <td>0.0</td>\n",
       "      <td>...</td>\n",
       "      <td>0.0</td>\n",
       "      <td>0.0</td>\n",
       "      <td>0.000078</td>\n",
       "      <td>0.0</td>\n",
       "      <td>0.000000</td>\n",
       "      <td>0.000078</td>\n",
       "      <td>0.0</td>\n",
       "      <td>0.0</td>\n",
       "      <td>0.0</td>\n",
       "      <td>0.0</td>\n",
       "    </tr>\n",
       "    <tr>\n",
       "      <th>1079_1</th>\n",
       "      <td>0.000000</td>\n",
       "      <td>0.0</td>\n",
       "      <td>0.0</td>\n",
       "      <td>0.0</td>\n",
       "      <td>0.000241</td>\n",
       "      <td>0.0</td>\n",
       "      <td>0.0</td>\n",
       "      <td>0.0</td>\n",
       "      <td>0.0</td>\n",
       "      <td>0.0</td>\n",
       "      <td>...</td>\n",
       "      <td>0.0</td>\n",
       "      <td>0.0</td>\n",
       "      <td>0.000000</td>\n",
       "      <td>0.0</td>\n",
       "      <td>0.000161</td>\n",
       "      <td>0.000080</td>\n",
       "      <td>0.0</td>\n",
       "      <td>0.0</td>\n",
       "      <td>0.0</td>\n",
       "      <td>0.0</td>\n",
       "    </tr>\n",
       "    <tr>\n",
       "      <th>1079_10</th>\n",
       "      <td>0.000000</td>\n",
       "      <td>0.0</td>\n",
       "      <td>0.0</td>\n",
       "      <td>0.0</td>\n",
       "      <td>0.000079</td>\n",
       "      <td>0.0</td>\n",
       "      <td>0.0</td>\n",
       "      <td>0.0</td>\n",
       "      <td>0.0</td>\n",
       "      <td>0.0</td>\n",
       "      <td>...</td>\n",
       "      <td>0.0</td>\n",
       "      <td>0.0</td>\n",
       "      <td>0.000000</td>\n",
       "      <td>0.0</td>\n",
       "      <td>0.000473</td>\n",
       "      <td>0.000079</td>\n",
       "      <td>0.0</td>\n",
       "      <td>0.0</td>\n",
       "      <td>0.0</td>\n",
       "      <td>0.0</td>\n",
       "    </tr>\n",
       "    <tr>\n",
       "      <th>1079_11</th>\n",
       "      <td>0.000000</td>\n",
       "      <td>0.0</td>\n",
       "      <td>0.0</td>\n",
       "      <td>0.0</td>\n",
       "      <td>0.000231</td>\n",
       "      <td>0.0</td>\n",
       "      <td>0.0</td>\n",
       "      <td>0.0</td>\n",
       "      <td>0.0</td>\n",
       "      <td>0.0</td>\n",
       "      <td>...</td>\n",
       "      <td>0.0</td>\n",
       "      <td>0.0</td>\n",
       "      <td>0.000077</td>\n",
       "      <td>0.0</td>\n",
       "      <td>0.000077</td>\n",
       "      <td>0.000000</td>\n",
       "      <td>0.0</td>\n",
       "      <td>0.0</td>\n",
       "      <td>0.0</td>\n",
       "      <td>0.0</td>\n",
       "    </tr>\n",
       "    <tr>\n",
       "      <th>1079_12</th>\n",
       "      <td>0.000000</td>\n",
       "      <td>0.0</td>\n",
       "      <td>0.0</td>\n",
       "      <td>0.0</td>\n",
       "      <td>0.000154</td>\n",
       "      <td>0.0</td>\n",
       "      <td>0.0</td>\n",
       "      <td>0.0</td>\n",
       "      <td>0.0</td>\n",
       "      <td>0.0</td>\n",
       "      <td>...</td>\n",
       "      <td>0.0</td>\n",
       "      <td>0.0</td>\n",
       "      <td>0.000000</td>\n",
       "      <td>0.0</td>\n",
       "      <td>0.000154</td>\n",
       "      <td>0.000154</td>\n",
       "      <td>0.0</td>\n",
       "      <td>0.0</td>\n",
       "      <td>0.0</td>\n",
       "      <td>0.0</td>\n",
       "    </tr>\n",
       "  </tbody>\n",
       "</table>\n",
       "<p>5 rows × 20406 columns</p>\n",
       "</div>"
      ],
      "text/plain": [
       "               00  000   01   02        10  100  101  102  103  104  ...  \\\n",
       "chunkid                                                              ...   \n",
       "1079_0   0.000078  0.0  0.0  0.0  0.000311  0.0  0.0  0.0  0.0  0.0  ...   \n",
       "1079_1   0.000000  0.0  0.0  0.0  0.000241  0.0  0.0  0.0  0.0  0.0  ...   \n",
       "1079_10  0.000000  0.0  0.0  0.0  0.000079  0.0  0.0  0.0  0.0  0.0  ...   \n",
       "1079_11  0.000000  0.0  0.0  0.0  0.000231  0.0  0.0  0.0  0.0  0.0  ...   \n",
       "1079_12  0.000000  0.0  0.0  0.0  0.000154  0.0  0.0  0.0  0.0  0.0  ...   \n",
       "\n",
       "         ſurpriſe  ſurpriſed   ſuſpect  ſuſpected     ſweet     ſword   ſº  \\\n",
       "chunkid                                                                      \n",
       "1079_0        0.0        0.0  0.000078        0.0  0.000000  0.000078  0.0   \n",
       "1079_1        0.0        0.0  0.000000        0.0  0.000161  0.000080  0.0   \n",
       "1079_10       0.0        0.0  0.000000        0.0  0.000473  0.000079  0.0   \n",
       "1079_11       0.0        0.0  0.000077        0.0  0.000077  0.000000  0.0   \n",
       "1079_12       0.0        0.0  0.000000        0.0  0.000154  0.000154  0.0   \n",
       "\n",
       "         ﬁnd  ﬁrst  ﬁve  \n",
       "chunkid                  \n",
       "1079_0   0.0   0.0  0.0  \n",
       "1079_1   0.0   0.0  0.0  \n",
       "1079_10  0.0   0.0  0.0  \n",
       "1079_11  0.0   0.0  0.0  \n",
       "1079_12  0.0   0.0  0.0  \n",
       "\n",
       "[5 rows x 20406 columns]"
      ]
     },
     "execution_count": 27,
     "metadata": {},
     "output_type": "execute_result"
    }
   ],
   "source": [
    "dirty_freqs.head()"
   ]
  },
  {
   "cell_type": "markdown",
   "metadata": {},
   "source": [
    "Change: More robust Train/Validation/Test splits -- 1/5 split"
   ]
  },
  {
   "cell_type": "code",
   "execution_count": 28,
   "metadata": {},
   "outputs": [
    {
     "data": {
      "text/plain": [
       "[44, 44, 44, 43, 43]"
      ]
     },
     "execution_count": 28,
     "metadata": {},
     "output_type": "execute_result"
    }
   ],
   "source": [
    "# Five lists of authors, to be held out in different iterations.\n",
    "\n",
    "selected_authors = list(set(volmeta.loc[volmeta['gbindex'].isin(selected_gbindexes), 'author']))\n",
    "random.shuffle(selected_authors)\n",
    "\n",
    "fivetestsets = np.array_split(selected_authors, 5)  \n",
    "testlengths = [len(x) for x in fivetestsets]\n",
    "testlengths"
   ]
  },
  {
   "cell_type": "code",
   "execution_count": 29,
   "metadata": {},
   "outputs": [],
   "source": [
    "# Function to return training and testing data (normalized frequencies) using author lists\n",
    "def clean_and_dirty_freqs(atestset, cleanmodelmeta, dirtymodelmeta, clean_freqs, dirty_freqs):\n",
    "    \n",
    "    cleantrain = cleanmodelmeta.loc[~cleanmodelmeta['author'].isin(atestset), : ]\n",
    "    cleantest = cleanmodelmeta.loc[cleanmodelmeta['author'].isin(atestset), : ]\n",
    "    cleantrain_freqs = clean_freqs.loc[cleantrain.chunkid]\n",
    "    cleantest_freqs = clean_freqs.loc[cleantest.chunkid]\n",
    "\n",
    "    dirtytrain = dirtymodelmeta.loc[~dirtymodelmeta['author'].isin(atestset), : ]\n",
    "    dirtytest = dirtymodelmeta.loc[dirtymodelmeta['author'].isin(atestset), : ]\n",
    "    dirtytrain_freqs = dirty_freqs.loc[dirtytrain.chunkid]\n",
    "    dirtytest_freqs = dirty_freqs.loc[dirtytest.chunkid]\n",
    "    \n",
    "    return cleantrain, cleantest, cleantrain_freqs, cleantest_freqs, dirtytrain, dirtytest, dirtytrain_freqs, dirtytest_freqs"
   ]
  },
  {
   "cell_type": "code",
   "execution_count": 30,
   "metadata": {},
   "outputs": [
    {
     "name": "stdout",
     "output_type": "stream",
     "text": [
      "Clean training set:  (1022, 26)\n",
      "Clean test set:  (274, 26)\n",
      "Hathi training set:  (1072, 26)\n",
      "Hathi testing set:  (288, 26)\n"
     ]
    }
   ],
   "source": [
    "cleantrain, cleantest, cleantrain_freqs, cleantest_freqs, dirtytrain, dirtytest, dirtytrain_freqs, dirtytest_freqs = clean_and_dirty_freqs(fivetestsets[0],\n",
    "                                                                                cleanmodelmeta, dirtymodelmeta, \n",
    "                                                                                 clean_freqs, dirty_freqs)\n",
    "\n",
    "print('Clean training set: ', cleantrain.shape)\n",
    "print('Clean test set: ', cleantest.shape)\n",
    "print('Hathi training set: ', dirtytrain.shape)\n",
    "print('Hathi testing set: ', dirtytest.shape)"
   ]
  },
  {
   "cell_type": "code",
   "execution_count": 31,
   "metadata": {},
   "outputs": [
    {
     "name": "stdout",
     "output_type": "stream",
     "text": [
      "(1360, 25)\n"
     ]
    },
    {
     "data": {
      "text/plain": [
       "(1360, 26)"
      ]
     },
     "execution_count": 31,
     "metadata": {},
     "output_type": "execute_result"
    }
   ],
   "source": [
    "#Connecting with our metadata for info later\n",
    "\n",
    "dirtymodelmeta.set_index('chunkid', inplace = True)\n",
    "print(dirtymodelmeta.shape)\n",
    "dirty_ids_order = np.append(list(dirtytrain.chunkid), list(dirtytest.chunkid))\n",
    "dirtymodelmeta = dirtymodelmeta.loc[dirty_ids_order, : ]\n",
    "dirtymodelmeta.reset_index(inplace = True)\n",
    "dirtymodelmeta.shape"
   ]
  },
  {
   "cell_type": "code",
   "execution_count": 46,
   "metadata": {},
   "outputs": [
    {
     "name": "stdout",
     "output_type": "stream",
     "text": [
      "(1296, 25)\n"
     ]
    },
    {
     "data": {
      "text/plain": [
       "(1296, 26)"
      ]
     },
     "execution_count": 46,
     "metadata": {},
     "output_type": "execute_result"
    }
   ],
   "source": [
    "cleanmodelmeta.set_index('chunkid', inplace = True)\n",
    "print(cleanmodelmeta.shape)\n",
    "clean_ids_order = np.append(list(cleantrain.chunkid), list(cleantest.chunkid))\n",
    "cleanmodelmeta = cleanmodelmeta.loc[clean_ids_order, : ]\n",
    "cleanmodelmeta.reset_index(inplace = True)\n",
    "cleanmodelmeta.shape"
   ]
  },
  {
   "cell_type": "markdown",
   "metadata": {},
   "source": [
    "Clean model -- less fitted (potentially overfitted?) parameters. Grid search for parameters of all 5 training sets (loop 1: # features, loop 2: rreg constant) "
   ]
  },
  {
   "cell_type": "code",
   "execution_count": 32,
   "metadata": {},
   "outputs": [],
   "source": [
    "def get_doc_freqs(X, y):\n",
    "    return np.count_nonzero(X, axis=0)  \n",
    "\n",
    "docfreqs = []\n",
    "for col in clean_wordcounts.columns:\n",
    "    docfreqs.append((sum(clean_wordcounts[col] > 0), col))\n",
    "docfreqs.sort()"
   ]
  },
  {
   "cell_type": "code",
   "execution_count": 33,
   "metadata": {},
   "outputs": [
    {
     "name": "stdout",
     "output_type": "stream",
     "text": [
      "1000\n",
      "1500\n",
      "2000\n",
      "2500\n",
      "3000\n",
      "3500\n",
      "4000\n",
      "4500\n",
      "5000\n",
      "5500\n",
      "6000\n",
      "7000\n"
     ]
    },
    {
     "data": {
      "image/png": "[encoded data removed]",
      "text/plain": [
       "<Figure size 432x432 with 1 Axes>"
      ]
     },
     "metadata": {
      "needs_background": "light"
     },
     "output_type": "display_data"
    },
    {
     "name": "stdout",
     "output_type": "stream",
     "text": [
      "(7000, 500)\n",
      "0.9087591240875912\n",
      "1000\n",
      "1500\n",
      "2000\n",
      "2500\n",
      "3000\n",
      "3500\n",
      "4000\n",
      "4500\n",
      "5000\n",
      "5500\n",
      "6000\n",
      "7000\n"
     ]
    },
    {
     "data": {
      "image/png": "[encoded data removed]",
      "text/plain": [
       "<Figure size 432x432 with 1 Axes>"
      ]
     },
     "metadata": {
      "needs_background": "light"
     },
     "output_type": "display_data"
    },
    {
     "name": "stdout",
     "output_type": "stream",
     "text": [
      "(4500, 0.01)\n",
      "0.9156626506024096\n",
      "1000\n",
      "1500\n",
      "2000\n",
      "2500\n",
      "3000\n",
      "3500\n",
      "4000\n",
      "4500\n",
      "5000\n",
      "5500\n",
      "6000\n",
      "7000\n"
     ]
    },
    {
     "data": {
      "image/png": "[encoded data removed]",
      "text/plain": [
       "<Figure size 432x432 with 1 Axes>"
      ]
     },
     "metadata": {
      "needs_background": "light"
     },
     "output_type": "display_data"
    },
    {
     "name": "stdout",
     "output_type": "stream",
     "text": [
      "(2000, 0.01)\n",
      "0.9031007751937985\n",
      "1000\n",
      "1500\n",
      "2000\n",
      "2500\n",
      "3000\n",
      "3500\n",
      "4000\n",
      "4500\n",
      "5000\n",
      "5500\n",
      "6000\n",
      "7000\n"
     ]
    },
    {
     "data": {
      "image/png": "[encoded data removed]",
      "text/plain": [
       "<Figure size 432x432 with 1 Axes>"
      ]
     },
     "metadata": {
      "needs_background": "light"
     },
     "output_type": "display_data"
    },
    {
     "name": "stdout",
     "output_type": "stream",
     "text": [
      "(3500, 0.001)\n",
      "0.8695652173913043\n",
      "1000\n",
      "1500\n",
      "2000\n",
      "2500\n",
      "3000\n",
      "3500\n",
      "4000\n",
      "4500\n",
      "5000\n",
      "5500\n",
      "6000\n",
      "7000\n"
     ]
    },
    {
     "data": {
      "image/png": "[encoded data removed]",
      "text/plain": [
       "<Figure size 432x432 with 1 Axes>"
      ]
     },
     "metadata": {
      "needs_background": "light"
     },
     "output_type": "display_data"
    },
    {
     "name": "stdout",
     "output_type": "stream",
     "text": [
      "(6000, 3000)\n",
      "0.8778625954198473\n"
     ]
    }
   ],
   "source": [
    "clean_chunkids = []\n",
    "clean_predictions = []\n",
    "clean_probabilities = []\n",
    "\n",
    "for testset in fivetestsets:\n",
    "    cleantrain, cleantest, cleantrain_freqs, cleantest_freqs, na1, na2, na3, na4 = clean_and_dirty_freqs(testset,\n",
    "                                                                                cleanmodelmeta, dirtymodelmeta, \n",
    "                                                                                 clean_freqs, dirty_freqs)\n",
    "    # Note that I give the dirty sets variable names that begin NA (not applicable)\n",
    "    # because we're not using them right now \n",
    "    \n",
    "    resultarray = []\n",
    "    resultlist = []\n",
    "    paramlist = []\n",
    "\n",
    "    featureoptions = [1000, 1500, 2000, 2500, 3000, 3500, 4000, 4500, 5000, 5500, 6000, 7000]\n",
    "    c_options = [10000, 3000, 1000, 500, 100, 10, 1, .1, .01, .001, .0001]\n",
    "\n",
    "    for featurecount in featureoptions:\n",
    "        print(featurecount)\n",
    "        docfreqs = []\n",
    "        for col in cleantrain_freqs.columns:\n",
    "            docfreqs.append((sum(cleantrain_freqs[col] > 0), col))\n",
    "        docfreqs.sort()\n",
    "        features = [x[1] for x in docfreqs[-featurecount : ]] # because sorted in ascending order\n",
    "\n",
    "        model_features = cleantrain_freqs.loc[ : , features]\n",
    "\n",
    "        resultrow = []\n",
    "\n",
    "        for c_param in c_options:\n",
    "            logreg = LogisticRegression(C = c_param, max_iter = 2000)\n",
    "            scaler = StandardScaler()\n",
    "            # feature_selector = SelectKBest(get_doc_freqs, k = featurecount)\n",
    "            pipe = Pipeline([\n",
    "                # ('fkb', feature_selector),\n",
    "                ('sc', scaler),\n",
    "                ('lr', logreg)\n",
    "            ])    \n",
    "            grouper = GroupKFold(n_splits = 10)\n",
    "            cv_results = cross_validate(estimator = pipe, \n",
    "                                        X = model_features,\n",
    "                                        y = cleantrain['simplegenre'], \n",
    "                                        groups = cleantrain['author'], \n",
    "                                        cv = grouper)\n",
    "            mean_score = np.mean(cv_results['test_score'])\n",
    "            resultrow.append(mean_score)\n",
    "            resultlist.append(mean_score)\n",
    "            paramlist.append((featurecount, c_param))\n",
    "\n",
    "        resultarray.append(resultrow)\n",
    "    \n",
    "    # Let's visualize the grid search for this model pass.\n",
    "    \n",
    "    resultarray = np.array(resultarray)\n",
    "    thearrayshape = resultarray.shape\n",
    "    resarray = rankdata(resultarray).reshape(thearrayshape)\n",
    "    \n",
    "    fig, ax = plt.subplots(figsize=(6,6))\n",
    "\n",
    "    ax.imshow(resarray, cmap='hot', aspect = 'auto')\n",
    "    plt.yticks(ticks = [x for x in range(len(featureoptions))], labels = featureoptions)\n",
    "    thexlabels = [str(x) for x in c_options]\n",
    "    thexlabels[0] = '10^4'\n",
    "    plt.xticks(ticks = [x for x in range(len(c_options))], labels = thexlabels)\n",
    "    plt.show()\n",
    "    \n",
    "    # now find best parameters for this model pass\n",
    "    \n",
    "    bestrun = resultlist.index(max(resultlist))\n",
    "    bestparams = paramlist[bestrun]\n",
    "    print(bestparams)\n",
    "    \n",
    "    best_featurecount, best_c_param = bestparams\n",
    "    \n",
    "    # apply those parameters to create an optimal model\n",
    "    \n",
    "    features = [x[1] for x in docfreqs[-best_featurecount: ]] # negative because sorted ascending\n",
    "\n",
    "    train_features = cleantrain_freqs.loc[ : , features]  \n",
    "\n",
    "    scaler = StandardScaler()\n",
    "    train_features = scaler.fit_transform(train_features)\n",
    "\n",
    "    bestmodel = LogisticRegression(C = best_c_param, max_iter = 2000)\n",
    "\n",
    "    ## NOW APPLY THE SAME SCALER AND MODEL TO TEST SET\n",
    "\n",
    "    bestmodel.fit(train_features, cleantrain['simplegenre'])\n",
    "\n",
    "    test_features = cleantest_freqs.loc[ : , features] \n",
    "    test_features = scaler.transform(test_features) # Note this is the same scaler we fit\n",
    "                                                    # to train features; we DON'T fit a new one to the\n",
    "                                                    # test features. We deliberately blind ourselves to that\n",
    "                                                    # information.\n",
    "\n",
    "    these_predictions = bestmodel.predict(test_features)\n",
    "    these_probabilities = bestmodel.predict_proba(test_features)\n",
    "    clean_predictions.extend(these_predictions)\n",
    "    clean_probabilities.extend(these_probabilities)\n",
    "    clean_chunkids.extend(cleantest.chunkid.tolist())\n",
    "    \n",
    "    accuracy = sum(these_predictions == cleantest['simplegenre']) / len(cleantest['simplegenre'])\n",
    "    print(accuracy)"
   ]
  },
  {
   "cell_type": "code",
   "execution_count": 47,
   "metadata": {},
   "outputs": [
    {
     "name": "stdout",
     "output_type": "stream",
     "text": [
      "(1296, 25)\n"
     ]
    },
    {
     "data": {
      "text/plain": [
       "(1296, 26)"
      ]
     },
     "execution_count": 47,
     "metadata": {},
     "output_type": "execute_result"
    }
   ],
   "source": [
    "#putting metadata in order to correspond with these \n",
    "cleanmodelmeta.set_index('chunkid', inplace = True)\n",
    "print(cleanmodelmeta.shape)\n",
    "cleanmodelmeta = cleanmodelmeta.loc[clean_chunkids, : ]\n",
    "cleanmodelmeta.reset_index(inplace = True)\n",
    "cleanmodelmeta.shape"
   ]
  },
  {
   "cell_type": "code",
   "execution_count": 48,
   "metadata": {
    "scrolled": false
   },
   "outputs": [
    {
     "ename": "ValueError",
     "evalue": "Lengths must match to compare",
     "output_type": "error",
     "traceback": [
      "\u001b[1;31m---------------------------------------------------------------------------\u001b[0m",
      "\u001b[1;31mValueError\u001b[0m                                Traceback (most recent call last)",
      "\u001b[1;32m<ipython-input-48-d07b91bc90ed>\u001b[0m in \u001b[0;36m<module>\u001b[1;34m\u001b[0m\n\u001b[0;32m      1\u001b[0m \u001b[0mclean_predictions\u001b[0m \u001b[1;33m=\u001b[0m  \u001b[1;33m[\u001b[0m\u001b[0mitem\u001b[0m \u001b[1;32mfor\u001b[0m \u001b[0msublist\u001b[0m \u001b[1;32min\u001b[0m \u001b[0mclean_predictions\u001b[0m \u001b[1;32mfor\u001b[0m \u001b[0mitem\u001b[0m \u001b[1;32min\u001b[0m \u001b[0msublist\u001b[0m\u001b[1;33m]\u001b[0m\u001b[1;33m\u001b[0m\u001b[1;33m\u001b[0m\u001b[0m\n\u001b[1;32m----> 2\u001b[1;33m \u001b[0maccuracy\u001b[0m \u001b[1;33m=\u001b[0m \u001b[0msum\u001b[0m\u001b[1;33m(\u001b[0m\u001b[0mclean_predictions\u001b[0m \u001b[1;33m==\u001b[0m \u001b[0mcleanmodelmeta\u001b[0m\u001b[1;33m[\u001b[0m\u001b[1;34m'simplegenre'\u001b[0m\u001b[1;33m]\u001b[0m\u001b[1;33m)\u001b[0m \u001b[1;33m/\u001b[0m \u001b[0mlen\u001b[0m\u001b[1;33m(\u001b[0m\u001b[0mcleanmodelmeta\u001b[0m\u001b[1;33m[\u001b[0m\u001b[1;34m'simplegenre'\u001b[0m\u001b[1;33m]\u001b[0m\u001b[1;33m)\u001b[0m\u001b[1;33m\u001b[0m\u001b[1;33m\u001b[0m\u001b[0m\n\u001b[0m\u001b[0;32m      3\u001b[0m \u001b[0mprint\u001b[0m\u001b[1;33m(\u001b[0m\u001b[0maccuracy\u001b[0m\u001b[1;33m)\u001b[0m\u001b[1;33m\u001b[0m\u001b[1;33m\u001b[0m\u001b[0m\n",
      "\u001b[1;32m~\\anaconda3\\lib\\site-packages\\pandas\\core\\ops\\common.py\u001b[0m in \u001b[0;36mnew_method\u001b[1;34m(self, other)\u001b[0m\n\u001b[0;32m     62\u001b[0m         \u001b[0mother\u001b[0m \u001b[1;33m=\u001b[0m \u001b[0mitem_from_zerodim\u001b[0m\u001b[1;33m(\u001b[0m\u001b[0mother\u001b[0m\u001b[1;33m)\u001b[0m\u001b[1;33m\u001b[0m\u001b[1;33m\u001b[0m\u001b[0m\n\u001b[0;32m     63\u001b[0m \u001b[1;33m\u001b[0m\u001b[0m\n\u001b[1;32m---> 64\u001b[1;33m         \u001b[1;32mreturn\u001b[0m \u001b[0mmethod\u001b[0m\u001b[1;33m(\u001b[0m\u001b[0mself\u001b[0m\u001b[1;33m,\u001b[0m \u001b[0mother\u001b[0m\u001b[1;33m)\u001b[0m\u001b[1;33m\u001b[0m\u001b[1;33m\u001b[0m\u001b[0m\n\u001b[0m\u001b[0;32m     65\u001b[0m \u001b[1;33m\u001b[0m\u001b[0m\n\u001b[0;32m     66\u001b[0m     \u001b[1;32mreturn\u001b[0m \u001b[0mnew_method\u001b[0m\u001b[1;33m\u001b[0m\u001b[1;33m\u001b[0m\u001b[0m\n",
      "\u001b[1;32m~\\anaconda3\\lib\\site-packages\\pandas\\core\\ops\\__init__.py\u001b[0m in \u001b[0;36mwrapper\u001b[1;34m(self, other)\u001b[0m\n\u001b[0;32m    527\u001b[0m         \u001b[0mrvalues\u001b[0m \u001b[1;33m=\u001b[0m \u001b[0mextract_array\u001b[0m\u001b[1;33m(\u001b[0m\u001b[0mother\u001b[0m\u001b[1;33m,\u001b[0m \u001b[0mextract_numpy\u001b[0m\u001b[1;33m=\u001b[0m\u001b[1;32mTrue\u001b[0m\u001b[1;33m)\u001b[0m\u001b[1;33m\u001b[0m\u001b[1;33m\u001b[0m\u001b[0m\n\u001b[0;32m    528\u001b[0m \u001b[1;33m\u001b[0m\u001b[0m\n\u001b[1;32m--> 529\u001b[1;33m         \u001b[0mres_values\u001b[0m \u001b[1;33m=\u001b[0m \u001b[0mcomparison_op\u001b[0m\u001b[1;33m(\u001b[0m\u001b[0mlvalues\u001b[0m\u001b[1;33m,\u001b[0m \u001b[0mrvalues\u001b[0m\u001b[1;33m,\u001b[0m \u001b[0mop\u001b[0m\u001b[1;33m)\u001b[0m\u001b[1;33m\u001b[0m\u001b[1;33m\u001b[0m\u001b[0m\n\u001b[0m\u001b[0;32m    530\u001b[0m \u001b[1;33m\u001b[0m\u001b[0m\n\u001b[0;32m    531\u001b[0m         \u001b[1;32mreturn\u001b[0m \u001b[0m_construct_result\u001b[0m\u001b[1;33m(\u001b[0m\u001b[0mself\u001b[0m\u001b[1;33m,\u001b[0m \u001b[0mres_values\u001b[0m\u001b[1;33m,\u001b[0m \u001b[0mindex\u001b[0m\u001b[1;33m=\u001b[0m\u001b[0mself\u001b[0m\u001b[1;33m.\u001b[0m\u001b[0mindex\u001b[0m\u001b[1;33m,\u001b[0m \u001b[0mname\u001b[0m\u001b[1;33m=\u001b[0m\u001b[0mres_name\u001b[0m\u001b[1;33m)\u001b[0m\u001b[1;33m\u001b[0m\u001b[1;33m\u001b[0m\u001b[0m\n",
      "\u001b[1;32m~\\anaconda3\\lib\\site-packages\\pandas\\core\\ops\\array_ops.py\u001b[0m in \u001b[0;36mcomparison_op\u001b[1;34m(left, right, op)\u001b[0m\n\u001b[0;32m    232\u001b[0m         \u001b[1;31m#  The ambiguous case is object-dtype.  See GH#27803\u001b[0m\u001b[1;33m\u001b[0m\u001b[1;33m\u001b[0m\u001b[1;33m\u001b[0m\u001b[0m\n\u001b[0;32m    233\u001b[0m         \u001b[1;32mif\u001b[0m \u001b[0mlen\u001b[0m\u001b[1;33m(\u001b[0m\u001b[0mlvalues\u001b[0m\u001b[1;33m)\u001b[0m \u001b[1;33m!=\u001b[0m \u001b[0mlen\u001b[0m\u001b[1;33m(\u001b[0m\u001b[0mrvalues\u001b[0m\u001b[1;33m)\u001b[0m\u001b[1;33m:\u001b[0m\u001b[1;33m\u001b[0m\u001b[1;33m\u001b[0m\u001b[0m\n\u001b[1;32m--> 234\u001b[1;33m             \u001b[1;32mraise\u001b[0m \u001b[0mValueError\u001b[0m\u001b[1;33m(\u001b[0m\u001b[1;34m\"Lengths must match to compare\"\u001b[0m\u001b[1;33m)\u001b[0m\u001b[1;33m\u001b[0m\u001b[1;33m\u001b[0m\u001b[0m\n\u001b[0m\u001b[0;32m    235\u001b[0m \u001b[1;33m\u001b[0m\u001b[0m\n\u001b[0;32m    236\u001b[0m     \u001b[1;32mif\u001b[0m \u001b[0mshould_extension_dispatch\u001b[0m\u001b[1;33m(\u001b[0m\u001b[0mlvalues\u001b[0m\u001b[1;33m,\u001b[0m \u001b[0mrvalues\u001b[0m\u001b[1;33m)\u001b[0m\u001b[1;33m:\u001b[0m\u001b[1;33m\u001b[0m\u001b[1;33m\u001b[0m\u001b[0m\n",
      "\u001b[1;31mValueError\u001b[0m: Lengths must match to compare"
     ]
    }
   ],
   "source": [
    "clean_predictions =  [item for sublist in clean_predictions for item in sublist]\n",
    "accuracy = sum(clean_predictions == cleanmodelmeta['simplegenre']) / len(cleanmodelmeta['simplegenre'])\n",
    "print(accuracy)"
   ]
  },
  {
   "cell_type": "markdown",
   "metadata": {},
   "source": [
    "Still working on this length error, but indiv. accuracy stats are promising "
   ]
  },
  {
   "cell_type": "code",
   "execution_count": 42,
   "metadata": {},
   "outputs": [
    {
     "name": "stdout",
     "output_type": "stream",
     "text": [
      "1000\n",
      "1500\n",
      "2000\n",
      "2500\n",
      "3000\n",
      "3500\n",
      "4000\n",
      "4500\n",
      "5000\n",
      "5500\n",
      "6000\n",
      "6500\n",
      "7000\n"
     ]
    },
    {
     "data": {
      "image/png": "[encoded data removed]",
      "text/plain": [
       "<Figure size 432x432 with 1 Axes>"
      ]
     },
     "metadata": {
      "needs_background": "light"
     },
     "output_type": "display_data"
    },
    {
     "name": "stdout",
     "output_type": "stream",
     "text": [
      "(6000, 100000)\n",
      "0.8819444444444444\n",
      "1000\n",
      "1500\n",
      "2000\n",
      "2500\n",
      "3000\n",
      "3500\n",
      "4000\n",
      "4500\n",
      "5000\n",
      "5500\n",
      "6000\n",
      "6500\n",
      "7000\n"
     ]
    },
    {
     "data": {
      "image/png": "[encoded data removed]",
      "text/plain": [
       "<Figure size 432x432 with 1 Axes>"
      ]
     },
     "metadata": {
      "needs_background": "light"
     },
     "output_type": "display_data"
    },
    {
     "name": "stdout",
     "output_type": "stream",
     "text": [
      "(6000, 0.001)\n",
      "0.9104477611940298\n",
      "1000\n",
      "1500\n",
      "2000\n",
      "2500\n",
      "3000\n",
      "3500\n",
      "4000\n",
      "4500\n",
      "5000\n",
      "5500\n",
      "6000\n",
      "6500\n",
      "7000\n"
     ]
    },
    {
     "data": {
      "image/png": "[encoded data removed]",
      "text/plain": [
       "<Figure size 432x432 with 1 Axes>"
      ]
     },
     "metadata": {
      "needs_background": "light"
     },
     "output_type": "display_data"
    },
    {
     "name": "stdout",
     "output_type": "stream",
     "text": [
      "(6500, 0.001)\n",
      "0.924187725631769\n",
      "1000\n",
      "1500\n",
      "2000\n",
      "2500\n",
      "3000\n",
      "3500\n",
      "4000\n",
      "4500\n",
      "5000\n",
      "5500\n",
      "6000\n",
      "6500\n",
      "7000\n"
     ]
    },
    {
     "data": {
      "image/png": "[encoded data removed]",
      "text/plain": [
       "<Figure size 432x432 with 1 Axes>"
      ]
     },
     "metadata": {
      "needs_background": "light"
     },
     "output_type": "display_data"
    },
    {
     "name": "stdout",
     "output_type": "stream",
     "text": [
      "(6500, 0.001)\n",
      "0.8473282442748091\n",
      "1000\n",
      "1500\n",
      "2000\n",
      "2500\n",
      "3000\n",
      "3500\n",
      "4000\n",
      "4500\n",
      "5000\n",
      "5500\n",
      "6000\n",
      "6500\n",
      "7000\n"
     ]
    },
    {
     "data": {
      "image/png": "[encoded data removed]",
      "text/plain": [
       "<Figure size 432x432 with 1 Axes>"
      ]
     },
     "metadata": {
      "needs_background": "light"
     },
     "output_type": "display_data"
    },
    {
     "name": "stdout",
     "output_type": "stream",
     "text": [
      "(7000, 0.01)\n",
      "0.8679245283018868\n"
     ]
    }
   ],
   "source": [
    "#Dirty model time \n",
    "\n",
    "featureoptions = [1000, 1500, 2000, 2500, 3000, 3500, 4000, 4500, 5000, 5500, 6000, 6500, 7000]\n",
    "c_options = [100000, 10000, 3000, 1000, 500, 100, 10, 1, .1, .01, .001, .0001]\n",
    "\n",
    "dirty_chunkids = []\n",
    "dirty_predictions = []\n",
    "dirty_probabilities = []\n",
    "\n",
    "for testset in fivetestsets:\n",
    "    na1, na2, na3, na4, dirtytrain, dirtytest, dirtytrain_freqs, dirtytest_freqs = clean_and_dirty_freqs(testset, cleanmodelmeta, \n",
    "                                                                                                        dirtymodelmeta, clean_freqs, \n",
    "                                                                                                        dirty_freqs)\n",
    "    # Note that I give the dirty sets variable names that begin NA (not applicable)\n",
    "    # because we're not using them right now \n",
    "    \n",
    "    resultarray = []\n",
    "    resultlist = []\n",
    "    paramlist = []\n",
    "\n",
    "    for featurecount in featureoptions:\n",
    "        print(featurecount)\n",
    "        docfreqs = []\n",
    "        for col in dirtytrain_freqs.columns:\n",
    "            docfreqs.append((sum(dirtytrain_freqs[col] > 0), col))\n",
    "        docfreqs.sort()\n",
    "        features = [x[1] for x in docfreqs[-featurecount : ]] # because sorted in ascending order\n",
    "\n",
    "        model_features = dirtytrain_freqs.loc[ : , features]\n",
    "\n",
    "        resultrow = []\n",
    "\n",
    "        for c_param in c_options:\n",
    "            logreg = LogisticRegression(C = c_param, max_iter = 2000)\n",
    "            scaler = StandardScaler()\n",
    "            # feature_selector = SelectKBest(get_doc_freqs, k = featurecount)\n",
    "            pipe = Pipeline([\n",
    "                # ('fkb', feature_selector),\n",
    "                ('sc', scaler),\n",
    "                ('lr', logreg)\n",
    "            ])    \n",
    "            grouper = GroupKFold(n_splits = 10)\n",
    "            cv_results = cross_validate(estimator = pipe, \n",
    "                                        X = model_features,\n",
    "                                        y = dirtytrain['simplegenre'], \n",
    "                                        groups = dirtytrain['author'], \n",
    "                                        cv = grouper)\n",
    "            mean_score = np.mean(cv_results['test_score'])\n",
    "            resultrow.append(mean_score)\n",
    "            resultlist.append(mean_score)\n",
    "            paramlist.append((featurecount, c_param))\n",
    "\n",
    "        resultarray.append(resultrow)\n",
    "    \n",
    "    # Let's visualize the grid search for this model pass.\n",
    "    \n",
    "    resultarray = np.array(resultarray)\n",
    "    thearrayshape = resultarray.shape\n",
    "    resarray = rankdata(resultarray).reshape(thearrayshape)\n",
    "    \n",
    "    fig, ax = plt.subplots(figsize=(6,6))\n",
    "\n",
    "    ax.imshow(resarray, cmap='hot', aspect = 'auto')\n",
    "    plt.yticks(ticks = [x for x in range(len(featureoptions))], labels = featureoptions)\n",
    "    thexlabels = [str(x) for x in c_options]\n",
    "    thexlabels[0] = '10^4'\n",
    "    plt.xticks(ticks = [x for x in range(len(c_options))], labels = thexlabels)\n",
    "    plt.show()\n",
    "    \n",
    "    # now find best parameters for this model pass\n",
    "    \n",
    "    bestrun = resultlist.index(max(resultlist))\n",
    "    bestparams = paramlist[bestrun]\n",
    "    print(bestparams)\n",
    "    \n",
    "    best_featurecount, best_c_param = bestparams\n",
    "    \n",
    "    # apply those parameters to create an optimal model\n",
    "    for col in dirtytrain_freqs.columns:\n",
    "        docfreqs.append((sum(dirtytrain_freqs[col] > 0), col))\n",
    "        docfreqs.sort()\n",
    "        \n",
    "    features = [x[1] for x in docfreqs[-best_featurecount: ]] # negative because sorted ascending\n",
    "\n",
    "    train_features = dirtytrain_freqs.loc[ : , features]  \n",
    "\n",
    "    scaler = StandardScaler()\n",
    "    train_features = scaler.fit_transform(train_features)\n",
    "\n",
    "    bestmodel = LogisticRegression(C = best_c_param, max_iter = 2000)\n",
    "\n",
    "    ## NOW APPLY THE SAME SCALER AND MODEL TO TEST SET\n",
    "\n",
    "    bestmodel.fit(train_features, dirtytrain['simplegenre'])\n",
    "    \n",
    "    test_features = dirtytest_freqs.loc[ : , features] \n",
    "    test_features = scaler.transform(test_features) # Note this is the same scaler we fit\n",
    "                                                    # to train features; we DON'T fit a new one to the\n",
    "                                                    # test features. We deliberately blind ourselves to that\n",
    "                                                    # information.\n",
    "\n",
    "    these_predictions = bestmodel.predict(test_features)\n",
    "    these_probabilities = bestmodel.predict_proba(test_features)\n",
    "    dirty_predictions.extend(these_predictions)\n",
    "    dirty_probabilities.extend(these_probabilities)\n",
    "    dirty_chunkids.extend(dirtytest.chunkid.tolist())\n",
    "    \n",
    "    accuracy = sum(these_predictions == dirtytest['simplegenre']) / len(dirtytest['simplegenre'])\n",
    "    print(accuracy)"
   ]
  },
  {
   "cell_type": "code",
   "execution_count": 43,
   "metadata": {},
   "outputs": [
    {
     "name": "stdout",
     "output_type": "stream",
     "text": [
      "(1360, 25)\n"
     ]
    },
    {
     "data": {
      "text/plain": [
       "(1360, 26)"
      ]
     },
     "execution_count": 43,
     "metadata": {},
     "output_type": "execute_result"
    }
   ],
   "source": [
    "#putting meta in order \n",
    "dirtymodelmeta.set_index('chunkid', inplace = True)\n",
    "print(dirtymodelmeta.shape)\n",
    "dirtymodelmeta = dirtymodelmeta.loc[dirty_chunkids, : ]\n",
    "dirtymodelmeta.reset_index(inplace = True)\n",
    "dirtymodelmeta.shape"
   ]
  },
  {
   "cell_type": "code",
   "execution_count": 45,
   "metadata": {},
   "outputs": [
    {
     "name": "stdout",
     "output_type": "stream",
     "text": [
      "0.8867647058823529\n"
     ]
    }
   ],
   "source": [
    "dirty_accuracy = sum(dirty_predictions == dirtymodelmeta['simplegenre']) / len(dirtymodelmeta['simplegenre'])\n",
    "print(dirty_accuracy)"
   ]
  },
  {
   "cell_type": "markdown",
   "metadata": {},
   "source": [
    "Dirty accuracy is a bit higher with these new training sets/parameters! \n",
    "\n",
    "Have not updated code below -- still looking into length error for accuracy of the clean model! "
   ]
  },
  {
   "cell_type": "code",
   "execution_count": 44,
   "metadata": {},
   "outputs": [],
   "source": [
    "#Why is it less accurate to model on Hathi texts? \n",
    "\n",
    "# Predicted vs real \"distance\" (directonal or absolute)\n",
    "\n",
    "dirty_y = dirtymodelmeta['simplegenre'].map({'bio': 1, 'fic': 0})  # we already put this in train-test order\n",
    "                                                            # so it will match the next line\n",
    "dirty_probabilities = np.append(dirtytrain_probabilities[ : , 0], dirtytest_probabilities[ : , 0])"
   ]
  },
  {
   "cell_type": "code",
   "execution_count": 45,
   "metadata": {},
   "outputs": [],
   "source": [
    "dirty_error = dirty_y - dirty_probabilities\n",
    "dirty_absolute_error = np.abs(dirty_error)"
   ]
  },
  {
   "cell_type": "code",
   "execution_count": 46,
   "metadata": {},
   "outputs": [],
   "source": [
    "clean_y = cleanmodelmeta['simplegenre'].map({'bio': 1, 'fic': 0})\n",
    "\n",
    "clean_probabilities = np.append(cleantrain_probabilities[ : , 0], cleantest_probabilities[ : , 0])"
   ]
  },
  {
   "cell_type": "code",
   "execution_count": 47,
   "metadata": {},
   "outputs": [],
   "source": [
    "clean_error = clean_y - clean_probabilities\n",
    "clean_absolute_error = np.abs(clean_error)"
   ]
  },
  {
   "cell_type": "code",
   "execution_count": 48,
   "metadata": {},
   "outputs": [],
   "source": [
    "#Create dataframe of average error for vols as a whole (avg the chunks)\n",
    "clean_gbi = [get_gbindex(x) for x in cleanmodelmeta['chunkid']]\n",
    "clean_df = pd.DataFrame({'chunkid': cleanmodelmeta['chunkid'], 'gbindex': clean_gbi,\n",
    "                         'clean_error': clean_error, 'clean_abs_error': clean_absolute_error})"
   ]
  },
  {
   "cell_type": "code",
   "execution_count": 49,
   "metadata": {},
   "outputs": [
    {
     "data": {
      "text/html": [
       "<div>\n",
       "<style scoped>\n",
       "    .dataframe tbody tr th:only-of-type {\n",
       "        vertical-align: middle;\n",
       "    }\n",
       "\n",
       "    .dataframe tbody tr th {\n",
       "        vertical-align: top;\n",
       "    }\n",
       "\n",
       "    .dataframe thead th {\n",
       "        text-align: right;\n",
       "    }\n",
       "</style>\n",
       "<table border=\"1\" class=\"dataframe\">\n",
       "  <thead>\n",
       "    <tr style=\"text-align: right;\">\n",
       "      <th></th>\n",
       "      <th>clean_error</th>\n",
       "      <th>clean_abs_error</th>\n",
       "    </tr>\n",
       "    <tr>\n",
       "      <th>gbindex</th>\n",
       "      <th></th>\n",
       "      <th></th>\n",
       "    </tr>\n",
       "  </thead>\n",
       "  <tbody>\n",
       "    <tr>\n",
       "      <th>40919</th>\n",
       "      <td>0.232118</td>\n",
       "      <td>0.232118</td>\n",
       "    </tr>\n",
       "    <tr>\n",
       "      <th>468</th>\n",
       "      <td>-0.247688</td>\n",
       "      <td>0.247688</td>\n",
       "    </tr>\n",
       "    <tr>\n",
       "      <th>40385</th>\n",
       "      <td>-0.056425</td>\n",
       "      <td>0.056425</td>\n",
       "    </tr>\n",
       "    <tr>\n",
       "      <th>41324</th>\n",
       "      <td>0.554383</td>\n",
       "      <td>0.554383</td>\n",
       "    </tr>\n",
       "    <tr>\n",
       "      <th>42281</th>\n",
       "      <td>0.102313</td>\n",
       "      <td>0.102313</td>\n",
       "    </tr>\n",
       "    <tr>\n",
       "      <th>40205</th>\n",
       "      <td>0.226957</td>\n",
       "      <td>0.226957</td>\n",
       "    </tr>\n",
       "    <tr>\n",
       "      <th>28380</th>\n",
       "      <td>0.023274</td>\n",
       "      <td>0.023274</td>\n",
       "    </tr>\n",
       "    <tr>\n",
       "      <th>52599</th>\n",
       "      <td>-0.149591</td>\n",
       "      <td>0.149591</td>\n",
       "    </tr>\n",
       "    <tr>\n",
       "      <th>37820</th>\n",
       "      <td>-0.265469</td>\n",
       "      <td>0.265469</td>\n",
       "    </tr>\n",
       "    <tr>\n",
       "      <th>32424</th>\n",
       "      <td>-0.316611</td>\n",
       "      <td>0.316611</td>\n",
       "    </tr>\n",
       "  </tbody>\n",
       "</table>\n",
       "</div>"
      ],
      "text/plain": [
       "         clean_error  clean_abs_error\n",
       "gbindex                              \n",
       "40919       0.232118         0.232118\n",
       "468        -0.247688         0.247688\n",
       "40385      -0.056425         0.056425\n",
       "41324       0.554383         0.554383\n",
       "42281       0.102313         0.102313\n",
       "40205       0.226957         0.226957\n",
       "28380       0.023274         0.023274\n",
       "52599      -0.149591         0.149591\n",
       "37820      -0.265469         0.265469\n",
       "32424      -0.316611         0.316611"
      ]
     },
     "execution_count": 49,
     "metadata": {},
     "output_type": "execute_result"
    }
   ],
   "source": [
    "meandf = clean_df.groupby('gbindex').mean()\n",
    "meandf.sample(10)"
   ]
  },
  {
   "cell_type": "code",
   "execution_count": 50,
   "metadata": {},
   "outputs": [],
   "source": [
    "dirty_gbi = [get_gbindex(x) for x in dirtymodelmeta['chunkid']]\n",
    "dirty_df = pd.DataFrame({'chunkid': list(dirtymodelmeta['chunkid']), 'gbindex': dirty_gbi,\n",
    "                         'dirty_error': dirty_error, 'dirty_abs_error': dirty_absolute_error})"
   ]
  },
  {
   "cell_type": "code",
   "execution_count": 51,
   "metadata": {},
   "outputs": [
    {
     "data": {
      "text/html": [
       "<div>\n",
       "<style scoped>\n",
       "    .dataframe tbody tr th:only-of-type {\n",
       "        vertical-align: middle;\n",
       "    }\n",
       "\n",
       "    .dataframe tbody tr th {\n",
       "        vertical-align: top;\n",
       "    }\n",
       "\n",
       "    .dataframe thead th {\n",
       "        text-align: right;\n",
       "    }\n",
       "</style>\n",
       "<table border=\"1\" class=\"dataframe\">\n",
       "  <thead>\n",
       "    <tr style=\"text-align: right;\">\n",
       "      <th></th>\n",
       "      <th>chunkid</th>\n",
       "      <th>gbindex</th>\n",
       "      <th>dirty_error</th>\n",
       "      <th>dirty_abs_error</th>\n",
       "    </tr>\n",
       "  </thead>\n",
       "  <tbody>\n",
       "    <tr>\n",
       "      <th>1001</th>\n",
       "      <td>652_2</td>\n",
       "      <td>652</td>\n",
       "      <td>-0.152706</td>\n",
       "      <td>0.152706</td>\n",
       "    </tr>\n",
       "    <tr>\n",
       "      <th>1400</th>\n",
       "      <td>LennCFQ2fic_3</td>\n",
       "      <td>LennCFQ2fic</td>\n",
       "      <td>-0.001295</td>\n",
       "      <td>0.001295</td>\n",
       "    </tr>\n",
       "    <tr>\n",
       "      <th>1025</th>\n",
       "      <td>7777_6</td>\n",
       "      <td>7777</td>\n",
       "      <td>0.067836</td>\n",
       "      <td>0.067836</td>\n",
       "    </tr>\n",
       "    <tr>\n",
       "      <th>271</th>\n",
       "      <td>33573_0</td>\n",
       "      <td>33573</td>\n",
       "      <td>-0.140319</td>\n",
       "      <td>0.140319</td>\n",
       "    </tr>\n",
       "    <tr>\n",
       "      <th>753</th>\n",
       "      <td>46651_0</td>\n",
       "      <td>46651</td>\n",
       "      <td>0.044950</td>\n",
       "      <td>0.044950</td>\n",
       "    </tr>\n",
       "  </tbody>\n",
       "</table>\n",
       "</div>"
      ],
      "text/plain": [
       "            chunkid      gbindex  dirty_error  dirty_abs_error\n",
       "1001          652_2          652    -0.152706         0.152706\n",
       "1400  LennCFQ2fic_3  LennCFQ2fic    -0.001295         0.001295\n",
       "1025         7777_6         7777     0.067836         0.067836\n",
       "271         33573_0        33573    -0.140319         0.140319\n",
       "753         46651_0        46651     0.044950         0.044950"
      ]
     },
     "execution_count": 51,
     "metadata": {},
     "output_type": "execute_result"
    }
   ],
   "source": [
    "dirty_df.sample(5)"
   ]
  },
  {
   "cell_type": "code",
   "execution_count": 52,
   "metadata": {
    "scrolled": true
   },
   "outputs": [
    {
     "data": {
      "text/html": [
       "<div>\n",
       "<style scoped>\n",
       "    .dataframe tbody tr th:only-of-type {\n",
       "        vertical-align: middle;\n",
       "    }\n",
       "\n",
       "    .dataframe tbody tr th {\n",
       "        vertical-align: top;\n",
       "    }\n",
       "\n",
       "    .dataframe thead th {\n",
       "        text-align: right;\n",
       "    }\n",
       "</style>\n",
       "<table border=\"1\" class=\"dataframe\">\n",
       "  <thead>\n",
       "    <tr style=\"text-align: right;\">\n",
       "      <th></th>\n",
       "      <th>chunkid</th>\n",
       "      <th>gbindex</th>\n",
       "      <th>dirty_error</th>\n",
       "      <th>dirty_abs_error</th>\n",
       "      <th>clean_error</th>\n",
       "      <th>clean_abs_error</th>\n",
       "      <th>error_divergence</th>\n",
       "      <th>divergence_of_abs_error</th>\n",
       "    </tr>\n",
       "  </thead>\n",
       "  <tbody>\n",
       "    <tr>\n",
       "      <th>378</th>\n",
       "      <td>36534_4</td>\n",
       "      <td>36534</td>\n",
       "      <td>0.063752</td>\n",
       "      <td>0.063752</td>\n",
       "      <td>0.342333</td>\n",
       "      <td>0.342333</td>\n",
       "      <td>-0.278580</td>\n",
       "      <td>-0.278580</td>\n",
       "    </tr>\n",
       "    <tr>\n",
       "      <th>1420</th>\n",
       "      <td>WartTLSbio_2</td>\n",
       "      <td>WartTLSbio</td>\n",
       "      <td>0.010887</td>\n",
       "      <td>0.010887</td>\n",
       "      <td>0.046287</td>\n",
       "      <td>0.046287</td>\n",
       "      <td>-0.035401</td>\n",
       "      <td>-0.035401</td>\n",
       "    </tr>\n",
       "    <tr>\n",
       "      <th>392</th>\n",
       "      <td>36928_5</td>\n",
       "      <td>36928</td>\n",
       "      <td>0.010079</td>\n",
       "      <td>0.010079</td>\n",
       "      <td>0.105049</td>\n",
       "      <td>0.105049</td>\n",
       "      <td>-0.094970</td>\n",
       "      <td>-0.094970</td>\n",
       "    </tr>\n",
       "    <tr>\n",
       "      <th>610</th>\n",
       "      <td>41636_9</td>\n",
       "      <td>41636</td>\n",
       "      <td>-0.038097</td>\n",
       "      <td>0.038097</td>\n",
       "      <td>-0.086390</td>\n",
       "      <td>0.086390</td>\n",
       "      <td>0.048292</td>\n",
       "      <td>-0.048292</td>\n",
       "    </tr>\n",
       "    <tr>\n",
       "      <th>1316</th>\n",
       "      <td>51932_5</td>\n",
       "      <td>51932</td>\n",
       "      <td>0.216864</td>\n",
       "      <td>0.216864</td>\n",
       "      <td>0.430285</td>\n",
       "      <td>0.430285</td>\n",
       "      <td>-0.213421</td>\n",
       "      <td>-0.213421</td>\n",
       "    </tr>\n",
       "    <tr>\n",
       "      <th>1269</th>\n",
       "      <td>42857_1</td>\n",
       "      <td>42857</td>\n",
       "      <td>0.153012</td>\n",
       "      <td>0.153012</td>\n",
       "      <td>0.319066</td>\n",
       "      <td>0.319066</td>\n",
       "      <td>-0.166055</td>\n",
       "      <td>-0.166055</td>\n",
       "    </tr>\n",
       "    <tr>\n",
       "      <th>1265</th>\n",
       "      <td>41420_2</td>\n",
       "      <td>41420</td>\n",
       "      <td>-0.036461</td>\n",
       "      <td>0.036461</td>\n",
       "      <td>-0.173601</td>\n",
       "      <td>0.173601</td>\n",
       "      <td>0.137140</td>\n",
       "      <td>-0.137140</td>\n",
       "    </tr>\n",
       "    <tr>\n",
       "      <th>276</th>\n",
       "      <td>33573_5</td>\n",
       "      <td>33573</td>\n",
       "      <td>-0.039807</td>\n",
       "      <td>0.039807</td>\n",
       "      <td>-0.166749</td>\n",
       "      <td>0.166749</td>\n",
       "      <td>0.126942</td>\n",
       "      <td>-0.126942</td>\n",
       "    </tr>\n",
       "    <tr>\n",
       "      <th>1263</th>\n",
       "      <td>41420_0</td>\n",
       "      <td>41420</td>\n",
       "      <td>-0.051208</td>\n",
       "      <td>0.051208</td>\n",
       "      <td>-0.173601</td>\n",
       "      <td>0.173601</td>\n",
       "      <td>0.122393</td>\n",
       "      <td>-0.122393</td>\n",
       "    </tr>\n",
       "    <tr>\n",
       "      <th>1293</th>\n",
       "      <td>47209_5</td>\n",
       "      <td>47209</td>\n",
       "      <td>0.073598</td>\n",
       "      <td>0.073598</td>\n",
       "      <td>0.178967</td>\n",
       "      <td>0.178967</td>\n",
       "      <td>-0.105368</td>\n",
       "      <td>-0.105368</td>\n",
       "    </tr>\n",
       "  </tbody>\n",
       "</table>\n",
       "</div>"
      ],
      "text/plain": [
       "           chunkid     gbindex  dirty_error  dirty_abs_error  clean_error  \\\n",
       "378        36534_4       36534     0.063752         0.063752     0.342333   \n",
       "1420  WartTLSbio_2  WartTLSbio     0.010887         0.010887     0.046287   \n",
       "392        36928_5       36928     0.010079         0.010079     0.105049   \n",
       "610        41636_9       41636    -0.038097         0.038097    -0.086390   \n",
       "1316       51932_5       51932     0.216864         0.216864     0.430285   \n",
       "1269       42857_1       42857     0.153012         0.153012     0.319066   \n",
       "1265       41420_2       41420    -0.036461         0.036461    -0.173601   \n",
       "276        33573_5       33573    -0.039807         0.039807    -0.166749   \n",
       "1263       41420_0       41420    -0.051208         0.051208    -0.173601   \n",
       "1293       47209_5       47209     0.073598         0.073598     0.178967   \n",
       "\n",
       "      clean_abs_error  error_divergence  divergence_of_abs_error  \n",
       "378          0.342333         -0.278580                -0.278580  \n",
       "1420         0.046287         -0.035401                -0.035401  \n",
       "392          0.105049         -0.094970                -0.094970  \n",
       "610          0.086390          0.048292                -0.048292  \n",
       "1316         0.430285         -0.213421                -0.213421  \n",
       "1269         0.319066         -0.166055                -0.166055  \n",
       "1265         0.173601          0.137140                -0.137140  \n",
       "276          0.166749          0.126942                -0.126942  \n",
       "1263         0.173601          0.122393                -0.122393  \n",
       "1293         0.178967         -0.105368                -0.105368  "
      ]
     },
     "execution_count": 52,
     "metadata": {},
     "output_type": "execute_result"
    }
   ],
   "source": [
    "dirty_df = dirty_df.merge(meandf, on = 'gbindex')\n",
    "dirty_df['error_divergence'] = dirty_df['dirty_error'] - dirty_df['clean_error']\n",
    "dirty_df['divergence_of_abs_error'] = dirty_df['dirty_abs_error'] - dirty_df['clean_abs_error']\n",
    "dirty_df.sample(10)"
   ]
  },
  {
   "cell_type": "code",
   "execution_count": 53,
   "metadata": {},
   "outputs": [],
   "source": [
    "error0 = pd.read_csv('chunkmismatch/hathinocorrerrs0.tsv', sep = '\\t')\n",
    "error1 = pd.read_csv('chunkmismatch/hathinocorrerrs1.tsv', sep = '\\t')\n",
    "error2 = pd.read_csv('chunkmismatch/hathinocorrerrs2.tsv', sep = '\\t')\n",
    "error3 = pd.read_csv('chunkmismatch/hathinocorrerrs3.tsv', sep = '\\t')\n",
    "error4 = pd.read_csv('chunkmismatch/hathinocorrerrs4.tsv', sep = '\\t')\n",
    "#error5 = pd.read_csv('/Users/tunder/work/gh_align/hathichunkerrs5.tsv', sep = '\\t')\n",
    "chunkerrors = pd.concat([error0, error1, error2, error3, error4], ignore_index = True)"
   ]
  },
  {
   "cell_type": "code",
   "execution_count": 54,
   "metadata": {
    "scrolled": true
   },
   "outputs": [],
   "source": [
    "#Word error (OCR) or passage fail (paratext)? "
   ]
  },
  {
   "cell_type": "code",
   "execution_count": 55,
   "metadata": {},
   "outputs": [
    {
     "data": {
      "text/plain": [
       "Index(['chunkid', 'passagefails', 'worderrors'], dtype='object')"
      ]
     },
     "execution_count": 55,
     "metadata": {},
     "output_type": "execute_result"
    }
   ],
   "source": [
    "chunkerrors.columns"
   ]
  },
  {
   "cell_type": "code",
   "execution_count": 56,
   "metadata": {},
   "outputs": [
    {
     "data": {
      "text/plain": [
       "(2624, 10)"
      ]
     },
     "execution_count": 56,
     "metadata": {},
     "output_type": "execute_result"
    }
   ],
   "source": [
    "chunkerrors = chunkerrors.merge(dirty_df, on = 'chunkid', how = 'left')\n",
    "chunkerrors.shape"
   ]
  },
  {
   "cell_type": "code",
   "execution_count": 57,
   "metadata": {},
   "outputs": [
    {
     "data": {
      "text/plain": [
       "(1426, 10)"
      ]
     },
     "execution_count": 57,
     "metadata": {},
     "output_type": "execute_result"
    }
   ],
   "source": [
    "chunkerrors.dropna(inplace=True)\n",
    "chunkerrors.shape"
   ]
  },
  {
   "cell_type": "code",
   "execution_count": 58,
   "metadata": {},
   "outputs": [
    {
     "data": {
      "text/plain": [
       "(0.042103836405116835, 0.11200328149064077)"
      ]
     },
     "execution_count": 58,
     "metadata": {},
     "output_type": "execute_result"
    }
   ],
   "source": [
    "pearsonr(chunkerrors['error_divergence'], chunkerrors['divergence_of_abs_error'])"
   ]
  },
  {
   "cell_type": "code",
   "execution_count": 59,
   "metadata": {},
   "outputs": [
    {
     "data": {
      "text/plain": [
       "(-0.06695231271526778, 0.011442003504967421)"
      ]
     },
     "execution_count": 59,
     "metadata": {},
     "output_type": "execute_result"
    }
   ],
   "source": [
    "pearsonr(chunkerrors['passagefails'], chunkerrors['error_divergence'])"
   ]
  },
  {
   "cell_type": "code",
   "execution_count": 60,
   "metadata": {},
   "outputs": [
    {
     "data": {
      "text/plain": [
       "(-0.03868083038226551, 0.14430463388372888)"
      ]
     },
     "execution_count": 60,
     "metadata": {},
     "output_type": "execute_result"
    }
   ],
   "source": [
    "pearsonr(chunkerrors['passagefails'], chunkerrors['divergence_of_abs_error'])"
   ]
  },
  {
   "cell_type": "code",
   "execution_count": 61,
   "metadata": {},
   "outputs": [
    {
     "data": {
      "text/plain": [
       "(0.0904737345761333, 0.0006249980266686266)"
      ]
     },
     "execution_count": 61,
     "metadata": {},
     "output_type": "execute_result"
    }
   ],
   "source": [
    "pearsonr(chunkerrors['worderrors'], chunkerrors['error_divergence'])"
   ]
  },
  {
   "cell_type": "code",
   "execution_count": 62,
   "metadata": {},
   "outputs": [
    {
     "data": {
      "text/plain": [
       "(0.07183888858130313, 0.006648860489540979)"
      ]
     },
     "execution_count": 62,
     "metadata": {},
     "output_type": "execute_result"
    }
   ],
   "source": [
    "pearsonr(chunkerrors['worderrors'], chunkerrors['divergence_of_abs_error']) #More OCR/word error than paratext "
   ]
  },
  {
   "cell_type": "code",
   "execution_count": 63,
   "metadata": {},
   "outputs": [
    {
     "data": {
      "text/plain": [
       "(0.062333850462691805, 0.018567515156947167)"
      ]
     },
     "execution_count": 63,
     "metadata": {},
     "output_type": "execute_result"
    }
   ],
   "source": [
    "pearsonr(chunkerrors['passagefails'], np.abs(chunkerrors['error_divergence']))"
   ]
  },
  {
   "cell_type": "code",
   "execution_count": 64,
   "metadata": {},
   "outputs": [
    {
     "data": {
      "text/plain": [
       "(0.008311712922828434, 0.7538244584168414)"
      ]
     },
     "execution_count": 64,
     "metadata": {},
     "output_type": "execute_result"
    }
   ],
   "source": [
    "pearsonr(chunkerrors['worderrors'], np.abs(chunkerrors['error_divergence']))"
   ]
  },
  {
   "cell_type": "markdown",
   "metadata": {
    "scrolled": true
   },
   "source": [
    "Here, it looks like paratext is positively correlated with less accurate results (higher div of absolute error) -- so like we expected, paratext differences or \"passage fails\" are our primary suspects for error when dealing with fic v bios. \n",
    "\n",
    "In terms of direction, I think both more OCR error and more paratext/passage fail makes the model more likely to predict that the chunk comes from a biography. "
   ]
  },
  {
   "cell_type": "code",
   "execution_count": 65,
   "metadata": {},
   "outputs": [
    {
     "data": {
      "text/plain": [
       "(0.06986153838338349, 0.008313827760232189)"
      ]
     },
     "execution_count": 65,
     "metadata": {},
     "output_type": "execute_result"
    }
   ],
   "source": [
    "pearsonr(chunkerrors['passagefails'], chunkerrors['worderrors']) #Not a high correlation (less chance of collinearity)"
   ]
  },
  {
   "cell_type": "code",
   "execution_count": 66,
   "metadata": {},
   "outputs": [
    {
     "name": "stdout",
     "output_type": "stream",
     "text": [
      "                               OLS Regression Results                              \n",
      "===================================================================================\n",
      "Dep. Variable:     divergence_of_abs_error   R-squared:                       0.007\n",
      "Model:                                 OLS   Adj. R-squared:                  0.006\n",
      "Method:                      Least Squares   F-statistic:                     5.073\n",
      "Date:                     Thu, 01 Jul 2021   Prob (F-statistic):            0.00638\n",
      "Time:                             07:53:55   Log-Likelihood:                 708.89\n",
      "No. Observations:                     1426   AIC:                            -1412.\n",
      "Df Residuals:                         1423   BIC:                            -1396.\n",
      "Df Model:                                2                                         \n",
      "Covariance Type:                 nonrobust                                         \n",
      "================================================================================\n",
      "                   coef    std err          t      P>|t|      [0.025      0.975]\n",
      "--------------------------------------------------------------------------------\n",
      "const           -0.0533      0.005    -10.890      0.000      -0.063      -0.044\n",
      "passagefails    -0.0317      0.019     -1.658      0.097      -0.069       0.006\n",
      "worderrors       0.2747      0.097      2.829      0.005       0.084       0.465\n",
      "==============================================================================\n",
      "Omnibus:                      472.287   Durbin-Watson:                   1.734\n",
      "Prob(Omnibus):                  0.000   Jarque-Bera (JB):             2169.415\n",
      "Skew:                           1.503   Prob(JB):                         0.00\n",
      "Kurtosis:                       8.242   Cond. No.                         25.0\n",
      "==============================================================================\n",
      "\n",
      "Warnings:\n",
      "[1] Standard Errors assume that the covariance matrix of the errors is correctly specified.\n"
     ]
    }
   ],
   "source": [
    "y = chunkerrors['divergence_of_abs_error']\n",
    "X = sm.add_constant(chunkerrors.loc[ : , ['passagefails', 'worderrors']])\n",
    "\n",
    "model = sm.OLS(y, X)\n",
    "results = model.fit()\n",
    "print(results.summary())"
   ]
  },
  {
   "cell_type": "code",
   "execution_count": 67,
   "metadata": {},
   "outputs": [
    {
     "name": "stdout",
     "output_type": "stream",
     "text": [
      "                            OLS Regression Results                            \n",
      "==============================================================================\n",
      "Dep. Variable:       error_divergence   R-squared:                       0.014\n",
      "Model:                            OLS   Adj. R-squared:                  0.012\n",
      "Method:                 Least Squares   F-statistic:                     9.796\n",
      "Date:                Thu, 01 Jul 2021   Prob (F-statistic):           5.95e-05\n",
      "Time:                        07:53:55   Log-Likelihood:                 638.46\n",
      "No. Observations:                1426   AIC:                            -1271.\n",
      "Df Residuals:                    1423   BIC:                            -1255.\n",
      "Df Model:                           2                                         \n",
      "Covariance Type:            nonrobust                                         \n",
      "================================================================================\n",
      "                   coef    std err          t      P>|t|      [0.025      0.975]\n",
      "--------------------------------------------------------------------------------\n",
      "const           -0.0024      0.005     -0.469      0.639      -0.013       0.008\n",
      "passagefails    -0.0560      0.020     -2.790      0.005      -0.095      -0.017\n",
      "worderrors       0.3697      0.102      3.623      0.000       0.170       0.570\n",
      "==============================================================================\n",
      "Omnibus:                      110.874   Durbin-Watson:                   1.560\n",
      "Prob(Omnibus):                  0.000   Jarque-Bera (JB):              350.883\n",
      "Skew:                          -0.360   Prob(JB):                     6.41e-77\n",
      "Kurtosis:                       5.321   Cond. No.                         25.0\n",
      "==============================================================================\n",
      "\n",
      "Warnings:\n",
      "[1] Standard Errors assume that the covariance matrix of the errors is correctly specified.\n"
     ]
    }
   ],
   "source": [
    "y = chunkerrors['error_divergence']\n",
    "X = sm.add_constant(chunkerrors.loc[ : , ['passagefails', 'worderrors']])\n",
    "\n",
    "model = sm.OLS(y, X)\n",
    "results = model.fit()\n",
    "print(results.summary())"
   ]
  },
  {
   "cell_type": "code",
   "execution_count": 68,
   "metadata": {},
   "outputs": [],
   "source": [
    "#Analysis -- What is it about these chunks that distorts the model?? "
   ]
  },
  {
   "cell_type": "code",
   "execution_count": 69,
   "metadata": {},
   "outputs": [
    {
     "data": {
      "text/html": [
       "<div>\n",
       "<style scoped>\n",
       "    .dataframe tbody tr th:only-of-type {\n",
       "        vertical-align: middle;\n",
       "    }\n",
       "\n",
       "    .dataframe tbody tr th {\n",
       "        vertical-align: top;\n",
       "    }\n",
       "\n",
       "    .dataframe thead th {\n",
       "        text-align: right;\n",
       "    }\n",
       "</style>\n",
       "<table border=\"1\" class=\"dataframe\">\n",
       "  <thead>\n",
       "    <tr style=\"text-align: right;\">\n",
       "      <th></th>\n",
       "      <th>chunkid</th>\n",
       "      <th>passagefails</th>\n",
       "      <th>worderrors</th>\n",
       "      <th>gbindex</th>\n",
       "      <th>dirty_error</th>\n",
       "      <th>dirty_abs_error</th>\n",
       "      <th>clean_error</th>\n",
       "      <th>clean_abs_error</th>\n",
       "      <th>error_divergence</th>\n",
       "      <th>divergence_of_abs_error</th>\n",
       "    </tr>\n",
       "  </thead>\n",
       "  <tbody>\n",
       "    <tr>\n",
       "      <th>4</th>\n",
       "      <td>49154_0</td>\n",
       "      <td>0.25348</td>\n",
       "      <td>0.00373</td>\n",
       "      <td>49154</td>\n",
       "      <td>0.891056</td>\n",
       "      <td>0.891056</td>\n",
       "      <td>0.31234</td>\n",
       "      <td>0.31234</td>\n",
       "      <td>0.578716</td>\n",
       "      <td>0.578716</td>\n",
       "    </tr>\n",
       "    <tr>\n",
       "      <th>5</th>\n",
       "      <td>49154_1</td>\n",
       "      <td>0.04947</td>\n",
       "      <td>0.00665</td>\n",
       "      <td>49154</td>\n",
       "      <td>0.461531</td>\n",
       "      <td>0.461531</td>\n",
       "      <td>0.31234</td>\n",
       "      <td>0.31234</td>\n",
       "      <td>0.149191</td>\n",
       "      <td>0.149191</td>\n",
       "    </tr>\n",
       "    <tr>\n",
       "      <th>6</th>\n",
       "      <td>49154_2</td>\n",
       "      <td>0.06392</td>\n",
       "      <td>0.00883</td>\n",
       "      <td>49154</td>\n",
       "      <td>0.067340</td>\n",
       "      <td>0.067340</td>\n",
       "      <td>0.31234</td>\n",
       "      <td>0.31234</td>\n",
       "      <td>-0.245001</td>\n",
       "      <td>-0.245001</td>\n",
       "    </tr>\n",
       "    <tr>\n",
       "      <th>7</th>\n",
       "      <td>49154_3</td>\n",
       "      <td>0.04655</td>\n",
       "      <td>0.00691</td>\n",
       "      <td>49154</td>\n",
       "      <td>0.390289</td>\n",
       "      <td>0.390289</td>\n",
       "      <td>0.31234</td>\n",
       "      <td>0.31234</td>\n",
       "      <td>0.077949</td>\n",
       "      <td>0.077949</td>\n",
       "    </tr>\n",
       "    <tr>\n",
       "      <th>8</th>\n",
       "      <td>49154_4</td>\n",
       "      <td>0.04689</td>\n",
       "      <td>0.01022</td>\n",
       "      <td>49154</td>\n",
       "      <td>0.166384</td>\n",
       "      <td>0.166384</td>\n",
       "      <td>0.31234</td>\n",
       "      <td>0.31234</td>\n",
       "      <td>-0.145957</td>\n",
       "      <td>-0.145957</td>\n",
       "    </tr>\n",
       "  </tbody>\n",
       "</table>\n",
       "</div>"
      ],
      "text/plain": [
       "   chunkid  passagefails  worderrors gbindex  dirty_error  dirty_abs_error  \\\n",
       "4  49154_0       0.25348     0.00373   49154     0.891056         0.891056   \n",
       "5  49154_1       0.04947     0.00665   49154     0.461531         0.461531   \n",
       "6  49154_2       0.06392     0.00883   49154     0.067340         0.067340   \n",
       "7  49154_3       0.04655     0.00691   49154     0.390289         0.390289   \n",
       "8  49154_4       0.04689     0.01022   49154     0.166384         0.166384   \n",
       "\n",
       "   clean_error  clean_abs_error  error_divergence  divergence_of_abs_error  \n",
       "4      0.31234          0.31234          0.578716                 0.578716  \n",
       "5      0.31234          0.31234          0.149191                 0.149191  \n",
       "6      0.31234          0.31234         -0.245001                -0.245001  \n",
       "7      0.31234          0.31234          0.077949                 0.077949  \n",
       "8      0.31234          0.31234         -0.145957                -0.145957  "
      ]
     },
     "execution_count": 69,
     "metadata": {},
     "output_type": "execute_result"
    }
   ],
   "source": [
    "chunkerrors.head()"
   ]
  },
  {
   "cell_type": "code",
   "execution_count": 71,
   "metadata": {},
   "outputs": [],
   "source": [
    "topchunks = chunkerrors.sort_values('divergence_of_abs_error', ascending =False)"
   ]
  },
  {
   "cell_type": "markdown",
   "metadata": {},
   "source": [
    "Chunks to inspect: 34240_9, 54218_1, 52603_8, 30236_4, PsalGMPbio_1 "
   ]
  },
  {
   "cell_type": "code",
   "execution_count": 73,
   "metadata": {},
   "outputs": [
    {
     "data": {
      "text/html": [
       "<div>\n",
       "<style scoped>\n",
       "    .dataframe tbody tr th:only-of-type {\n",
       "        vertical-align: middle;\n",
       "    }\n",
       "\n",
       "    .dataframe tbody tr th {\n",
       "        vertical-align: top;\n",
       "    }\n",
       "\n",
       "    .dataframe thead th {\n",
       "        text-align: right;\n",
       "    }\n",
       "</style>\n",
       "<table border=\"1\" class=\"dataframe\">\n",
       "  <thead>\n",
       "    <tr style=\"text-align: right;\">\n",
       "      <th></th>\n",
       "      <th>chunkid</th>\n",
       "      <th>passagefails</th>\n",
       "      <th>worderrors</th>\n",
       "      <th>gbindex</th>\n",
       "      <th>dirty_error</th>\n",
       "      <th>dirty_abs_error</th>\n",
       "      <th>clean_error</th>\n",
       "      <th>clean_abs_error</th>\n",
       "      <th>error_divergence</th>\n",
       "      <th>divergence_of_abs_error</th>\n",
       "    </tr>\n",
       "  </thead>\n",
       "  <tbody>\n",
       "    <tr>\n",
       "      <th>2125</th>\n",
       "      <td>34240_9</td>\n",
       "      <td>0.93627</td>\n",
       "      <td>0.00967</td>\n",
       "      <td>34240</td>\n",
       "      <td>-0.976945</td>\n",
       "      <td>0.976945</td>\n",
       "      <td>-0.207698</td>\n",
       "      <td>0.207698</td>\n",
       "      <td>-0.769246</td>\n",
       "      <td>0.769246</td>\n",
       "    </tr>\n",
       "    <tr>\n",
       "      <th>2283</th>\n",
       "      <td>54218_1</td>\n",
       "      <td>0.01243</td>\n",
       "      <td>0.00408</td>\n",
       "      <td>54218</td>\n",
       "      <td>0.954232</td>\n",
       "      <td>0.954232</td>\n",
       "      <td>0.192185</td>\n",
       "      <td>0.192185</td>\n",
       "      <td>0.762047</td>\n",
       "      <td>0.762047</td>\n",
       "    </tr>\n",
       "    <tr>\n",
       "      <th>126</th>\n",
       "      <td>52603_8</td>\n",
       "      <td>0.01213</td>\n",
       "      <td>0.01518</td>\n",
       "      <td>52603</td>\n",
       "      <td>-0.954148</td>\n",
       "      <td>0.954148</td>\n",
       "      <td>-0.275409</td>\n",
       "      <td>0.275409</td>\n",
       "      <td>-0.678739</td>\n",
       "      <td>0.678739</td>\n",
       "    </tr>\n",
       "    <tr>\n",
       "      <th>2181</th>\n",
       "      <td>30236_4</td>\n",
       "      <td>0.44603</td>\n",
       "      <td>0.01463</td>\n",
       "      <td>30236</td>\n",
       "      <td>-0.928959</td>\n",
       "      <td>0.928959</td>\n",
       "      <td>-0.277265</td>\n",
       "      <td>0.277265</td>\n",
       "      <td>-0.651694</td>\n",
       "      <td>0.651694</td>\n",
       "    </tr>\n",
       "    <tr>\n",
       "      <th>1401</th>\n",
       "      <td>PsalGMPbio_1</td>\n",
       "      <td>0.00524</td>\n",
       "      <td>0.15943</td>\n",
       "      <td>PsalGMPbio</td>\n",
       "      <td>0.842436</td>\n",
       "      <td>0.842436</td>\n",
       "      <td>0.190883</td>\n",
       "      <td>0.190883</td>\n",
       "      <td>0.651553</td>\n",
       "      <td>0.651553</td>\n",
       "    </tr>\n",
       "    <tr>\n",
       "      <th>204</th>\n",
       "      <td>40205_4</td>\n",
       "      <td>0.05963</td>\n",
       "      <td>0.02673</td>\n",
       "      <td>40205</td>\n",
       "      <td>0.865329</td>\n",
       "      <td>0.865329</td>\n",
       "      <td>0.226957</td>\n",
       "      <td>0.226957</td>\n",
       "      <td>0.638373</td>\n",
       "      <td>0.638373</td>\n",
       "    </tr>\n",
       "    <tr>\n",
       "      <th>2276</th>\n",
       "      <td>30749_4</td>\n",
       "      <td>0.01141</td>\n",
       "      <td>0.01638</td>\n",
       "      <td>30749</td>\n",
       "      <td>-0.889256</td>\n",
       "      <td>0.889256</td>\n",
       "      <td>-0.285175</td>\n",
       "      <td>0.285175</td>\n",
       "      <td>-0.604081</td>\n",
       "      <td>0.604081</td>\n",
       "    </tr>\n",
       "    <tr>\n",
       "      <th>2281</th>\n",
       "      <td>30749_9</td>\n",
       "      <td>0.16558</td>\n",
       "      <td>0.01466</td>\n",
       "      <td>30749</td>\n",
       "      <td>-0.863997</td>\n",
       "      <td>0.863997</td>\n",
       "      <td>-0.285175</td>\n",
       "      <td>0.285175</td>\n",
       "      <td>-0.578822</td>\n",
       "      <td>0.578822</td>\n",
       "    </tr>\n",
       "    <tr>\n",
       "      <th>4</th>\n",
       "      <td>49154_0</td>\n",
       "      <td>0.25348</td>\n",
       "      <td>0.00373</td>\n",
       "      <td>49154</td>\n",
       "      <td>0.891056</td>\n",
       "      <td>0.891056</td>\n",
       "      <td>0.312340</td>\n",
       "      <td>0.312340</td>\n",
       "      <td>0.578716</td>\n",
       "      <td>0.578716</td>\n",
       "    </tr>\n",
       "    <tr>\n",
       "      <th>664</th>\n",
       "      <td>57472_2</td>\n",
       "      <td>0.04499</td>\n",
       "      <td>0.01597</td>\n",
       "      <td>57472</td>\n",
       "      <td>0.904472</td>\n",
       "      <td>0.904472</td>\n",
       "      <td>0.338296</td>\n",
       "      <td>0.338296</td>\n",
       "      <td>0.566176</td>\n",
       "      <td>0.566176</td>\n",
       "    </tr>\n",
       "  </tbody>\n",
       "</table>\n",
       "</div>"
      ],
      "text/plain": [
       "           chunkid  passagefails  worderrors     gbindex  dirty_error  \\\n",
       "2125       34240_9       0.93627     0.00967       34240    -0.976945   \n",
       "2283       54218_1       0.01243     0.00408       54218     0.954232   \n",
       "126        52603_8       0.01213     0.01518       52603    -0.954148   \n",
       "2181       30236_4       0.44603     0.01463       30236    -0.928959   \n",
       "1401  PsalGMPbio_1       0.00524     0.15943  PsalGMPbio     0.842436   \n",
       "204        40205_4       0.05963     0.02673       40205     0.865329   \n",
       "2276       30749_4       0.01141     0.01638       30749    -0.889256   \n",
       "2281       30749_9       0.16558     0.01466       30749    -0.863997   \n",
       "4          49154_0       0.25348     0.00373       49154     0.891056   \n",
       "664        57472_2       0.04499     0.01597       57472     0.904472   \n",
       "\n",
       "      dirty_abs_error  clean_error  clean_abs_error  error_divergence  \\\n",
       "2125         0.976945    -0.207698         0.207698         -0.769246   \n",
       "2283         0.954232     0.192185         0.192185          0.762047   \n",
       "126          0.954148    -0.275409         0.275409         -0.678739   \n",
       "2181         0.928959    -0.277265         0.277265         -0.651694   \n",
       "1401         0.842436     0.190883         0.190883          0.651553   \n",
       "204          0.865329     0.226957         0.226957          0.638373   \n",
       "2276         0.889256    -0.285175         0.285175         -0.604081   \n",
       "2281         0.863997    -0.285175         0.285175         -0.578822   \n",
       "4            0.891056     0.312340         0.312340          0.578716   \n",
       "664          0.904472     0.338296         0.338296          0.566176   \n",
       "\n",
       "      divergence_of_abs_error  \n",
       "2125                 0.769246  \n",
       "2283                 0.762047  \n",
       "126                  0.678739  \n",
       "2181                 0.651694  \n",
       "1401                 0.651553  \n",
       "204                  0.638373  \n",
       "2276                 0.604081  \n",
       "2281                 0.578822  \n",
       "4                    0.578716  \n",
       "664                  0.566176  "
      ]
     },
     "execution_count": 73,
     "metadata": {},
     "output_type": "execute_result"
    }
   ],
   "source": [
    "topchunks[:10]"
   ]
  },
  {
   "cell_type": "code",
   "execution_count": null,
   "metadata": {},
   "outputs": [],
   "source": []
  }
 ],
 "metadata": {
  "kernelspec": {
   "display_name": "Python 3",
   "language": "python",
   "name": "python3"
  },
  "language_info": {
   "codemirror_mode": {
    "name": "ipython",
    "version": 3
   },
   "file_extension": ".py",
   "mimetype": "text/x-python",
   "name": "python",
   "nbconvert_exporter": "python",
   "pygments_lexer": "ipython3",
   "version": "3.8.3"
  }
 },
 "nbformat": 4,
 "nbformat_minor": 4
}
