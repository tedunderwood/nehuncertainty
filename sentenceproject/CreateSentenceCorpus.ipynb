{
 "cells": [
  {
   "cell_type": "markdown",
   "id": "c690cbd7-83a2-4b6e-acff-8c834461f5bb",
   "metadata": {},
   "source": [
    "# Create sentence corpus\n",
    "\n",
    "Let's suppose that we have a hypothesis to pursue like,\n",
    "\n",
    "    The probabilities of sentence transitions (using base-BERT, not fine-tuned) are higher on fiction than on nonfiction.\n",
    "\n",
    "I don't think that's actually true; I suspect the reverse is true. But it's a hypothesis you might infer [from existing scholarship,](https://aclanthology.org/2020.acl-main.178/) and in any case it gives us something to test.\n",
    "\n",
    "Could we even test that kind of hypothesis--with any degree of reliability--using dirty (OCR) texts?\n",
    "\n",
    "To figure out we need to construct corpora of aligned sentences, and more importantly aligned sentence *pairs*, in both biography and fiction. Then we can measure sentence-transition probabilities in dirty versus clean corpora and see whether the OCR distortion is large enough to interfere problematically with our hypothesis test across the biography/fiction boundary.\n",
    "\n",
    "This plan means we want to gather texts across a range of OCR qualities, perhaps leaning especially toward the bad side. But we might simply avoid texts with high numbers of ```passagefails``` (alignment problems), because these might be for instance different translations. And in any case, paratext contamination is just not a problem it makes sense to consider for this method. There's no way to compare one pair of sentences with a completely different set of sentences.\n",
    "\n",
    "So we'll start by pairing our existing statistics on ```worderrors``` and ```passagefails``` with our metadata, in order to choose appropriate volumes. Let's aim for 100 volumes of fiction and 100 of biography. "
   ]
  },
  {
   "cell_type": "code",
   "execution_count": 65,
   "id": "0d3f24d2-c1cb-472d-bff2-676b10f6d976",
   "metadata": {},
   "outputs": [],
   "source": [
    "import pandas as pd\n",
    "import numpy as np\n",
    "import seaborn as sns\n",
    "from matplotlib import pyplot as plt\n",
    "from nltk import tokenize\n",
    "from collections import Counter\n",
    "from difflib import SequenceMatcher"
   ]
  },
  {
   "cell_type": "markdown",
   "id": "a336aa54-2c72-41d9-b105-fb54d1fdaf6f",
   "metadata": {},
   "source": [
    "### Get metadata"
   ]
  },
  {
   "cell_type": "code",
   "execution_count": 3,
   "id": "613c2c3d-e369-4b67-96fd-b80f840f2d8d",
   "metadata": {},
   "outputs": [],
   "source": [
    "volmeta = pd.read_csv('../metadata/updatedvolumemetadata.tsv', sep = '\\t')"
   ]
  },
  {
   "cell_type": "code",
   "execution_count": 4,
   "id": "19db6995-cf5f-4fe1-ba7b-153f2850e4d7",
   "metadata": {},
   "outputs": [
    {
     "data": {
      "text/html": [
       "<div>\n",
       "<style scoped>\n",
       "    .dataframe tbody tr th:only-of-type {\n",
       "        vertical-align: middle;\n",
       "    }\n",
       "\n",
       "    .dataframe tbody tr th {\n",
       "        vertical-align: top;\n",
       "    }\n",
       "\n",
       "    .dataframe thead th {\n",
       "        text-align: right;\n",
       "    }\n",
       "</style>\n",
       "<table border=\"1\" class=\"dataframe\">\n",
       "  <thead>\n",
       "    <tr style=\"text-align: right;\">\n",
       "      <th></th>\n",
       "      <th>docid</th>\n",
       "      <th>author</th>\n",
       "      <th>authordate</th>\n",
       "      <th>title</th>\n",
       "      <th>latestcomp</th>\n",
       "      <th>hathidate</th>\n",
       "      <th>imprint</th>\n",
       "      <th>gutenstring</th>\n",
       "      <th>enumcron</th>\n",
       "      <th>gbindex</th>\n",
       "      <th>...</th>\n",
       "      <th>contents</th>\n",
       "      <th>instances</th>\n",
       "      <th>genre</th>\n",
       "      <th>audience</th>\n",
       "      <th>authgender</th>\n",
       "      <th>multiplehtids</th>\n",
       "      <th>comments</th>\n",
       "      <th>coder</th>\n",
       "      <th>Folder</th>\n",
       "      <th>Trimmed</th>\n",
       "    </tr>\n",
       "  </thead>\n",
       "  <tbody>\n",
       "    <tr>\n",
       "      <th>0</th>\n",
       "      <td>loc.ark+=13960=t5p851b8s</td>\n",
       "      <td>Reid, Stuart J.</td>\n",
       "      <td>NaN</td>\n",
       "      <td>Lord John Russell</td>\n",
       "      <td>1895</td>\n",
       "      <td>NaN</td>\n",
       "      <td>New York;Harper &amp; brothers;1</td>\n",
       "      <td>Reid, Stuart J. | Lord John Russell</td>\n",
       "      <td>&lt;blank&gt;</td>\n",
       "      <td>27553</td>\n",
       "      <td>...</td>\n",
       "      <td>NaN</td>\n",
       "      <td>NaN</td>\n",
       "      <td>bio</td>\n",
       "      <td>NaN</td>\n",
       "      <td>u</td>\n",
       "      <td>NaN</td>\n",
       "      <td>NaN</td>\n",
       "      <td>morgan</td>\n",
       "      <td>gutenbiotrimmed</td>\n",
       "      <td>Trimmed</td>\n",
       "    </tr>\n",
       "    <tr>\n",
       "      <th>1</th>\n",
       "      <td>hvd.32044070870779</td>\n",
       "      <td>Smiles, Samuel,</td>\n",
       "      <td>NaN</td>\n",
       "      <td>Lives of the engineers</td>\n",
       "      <td>1879</td>\n",
       "      <td>NaN</td>\n",
       "      <td>London;J. Murray;1874-1877.</td>\n",
       "      <td>Smiles, Samuel | Lives of the Engineers</td>\n",
       "      <td>v. 5</td>\n",
       "      <td>27710</td>\n",
       "      <td>...</td>\n",
       "      <td>NaN</td>\n",
       "      <td>NaN</td>\n",
       "      <td>bio | short</td>\n",
       "      <td>NaN</td>\n",
       "      <td>m</td>\n",
       "      <td>NaN</td>\n",
       "      <td>2 people, mixed together (not one per chapter)</td>\n",
       "      <td>morgan</td>\n",
       "      <td>gutenbiotrimmed</td>\n",
       "      <td>Trimmed</td>\n",
       "    </tr>\n",
       "    <tr>\n",
       "      <th>2</th>\n",
       "      <td>mdp.39015005892362</td>\n",
       "      <td>Cruttwell, Maud.</td>\n",
       "      <td>NaN</td>\n",
       "      <td>Luca Signorelli</td>\n",
       "      <td>1899</td>\n",
       "      <td>NaN</td>\n",
       "      <td>London;G. Bell &amp; sons;1899.</td>\n",
       "      <td>Cruttwell, Maud | Luca Signorelli</td>\n",
       "      <td>&lt;blank&gt;</td>\n",
       "      <td>27759</td>\n",
       "      <td>...</td>\n",
       "      <td>NaN</td>\n",
       "      <td>NaN</td>\n",
       "      <td>bio</td>\n",
       "      <td>NaN</td>\n",
       "      <td>f</td>\n",
       "      <td>NaN</td>\n",
       "      <td>NaN</td>\n",
       "      <td>morgan</td>\n",
       "      <td>gutenbiotrimmed</td>\n",
       "      <td>Trimmed</td>\n",
       "    </tr>\n",
       "    <tr>\n",
       "      <th>3</th>\n",
       "      <td>mdp.39015051108531</td>\n",
       "      <td>Bettany, George Thomas,</td>\n",
       "      <td>NaN</td>\n",
       "      <td>Life of Charles Darwin</td>\n",
       "      <td>1887</td>\n",
       "      <td>NaN</td>\n",
       "      <td>London;W. Scott;1887.</td>\n",
       "      <td>Bettany, George Thomas | Life of Charles Darwin</td>\n",
       "      <td>&lt;blank&gt;</td>\n",
       "      <td>28380</td>\n",
       "      <td>...</td>\n",
       "      <td>NaN</td>\n",
       "      <td>NaN</td>\n",
       "      <td>bio</td>\n",
       "      <td>NaN</td>\n",
       "      <td>m</td>\n",
       "      <td>NaN</td>\n",
       "      <td>NaN</td>\n",
       "      <td>morgan</td>\n",
       "      <td>gutenbiotrimmed</td>\n",
       "      <td>Trimmed</td>\n",
       "    </tr>\n",
       "    <tr>\n",
       "      <th>4</th>\n",
       "      <td>loc.ark+=13960=t6b27z54n</td>\n",
       "      <td>Gay, Sydney Howard,</td>\n",
       "      <td>NaN</td>\n",
       "      <td>James Madison</td>\n",
       "      <td>1889</td>\n",
       "      <td>NaN</td>\n",
       "      <td>Boston;New York;Houghton, Mi</td>\n",
       "      <td>Gay, Sydney Howard | James Madison</td>\n",
       "      <td>&lt;blank&gt;</td>\n",
       "      <td>28992</td>\n",
       "      <td>...</td>\n",
       "      <td>NaN</td>\n",
       "      <td>NaN</td>\n",
       "      <td>bio</td>\n",
       "      <td>NaN</td>\n",
       "      <td>u</td>\n",
       "      <td>NaN</td>\n",
       "      <td>NaN</td>\n",
       "      <td>morgan</td>\n",
       "      <td>gutenbiotrimmed</td>\n",
       "      <td>Trimmed</td>\n",
       "    </tr>\n",
       "  </tbody>\n",
       "</table>\n",
       "<p>5 rows × 24 columns</p>\n",
       "</div>"
      ],
      "text/plain": [
       "                      docid                   author authordate  \\\n",
       "0  loc.ark+=13960=t5p851b8s          Reid, Stuart J.        NaN   \n",
       "1        hvd.32044070870779          Smiles, Samuel,        NaN   \n",
       "2        mdp.39015005892362         Cruttwell, Maud.        NaN   \n",
       "3        mdp.39015051108531  Bettany, George Thomas,        NaN   \n",
       "4  loc.ark+=13960=t6b27z54n      Gay, Sydney Howard,        NaN   \n",
       "\n",
       "                    title  latestcomp  hathidate  \\\n",
       "0       Lord John Russell        1895        NaN   \n",
       "1  Lives of the engineers        1879        NaN   \n",
       "2         Luca Signorelli        1899        NaN   \n",
       "3  Life of Charles Darwin        1887        NaN   \n",
       "4           James Madison        1889        NaN   \n",
       "\n",
       "                        imprint  \\\n",
       "0  New York;Harper & brothers;1   \n",
       "1   London;J. Murray;1874-1877.   \n",
       "2   London;G. Bell & sons;1899.   \n",
       "3         London;W. Scott;1887.   \n",
       "4  Boston;New York;Houghton, Mi   \n",
       "\n",
       "                                       gutenstring enumcron gbindex  ...  \\\n",
       "0              Reid, Stuart J. | Lord John Russell  <blank>   27553  ...   \n",
       "1          Smiles, Samuel | Lives of the Engineers     v. 5   27710  ...   \n",
       "2                Cruttwell, Maud | Luca Signorelli  <blank>   27759  ...   \n",
       "3  Bettany, George Thomas | Life of Charles Darwin  <blank>   28380  ...   \n",
       "4               Gay, Sydney Howard | James Madison  <blank>   28992  ...   \n",
       "\n",
       "   contents  instances        genre audience authgender  multiplehtids  \\\n",
       "0       NaN        NaN          bio      NaN          u            NaN   \n",
       "1       NaN        NaN  bio | short      NaN          m            NaN   \n",
       "2       NaN        NaN          bio      NaN          f            NaN   \n",
       "3       NaN        NaN          bio      NaN          m            NaN   \n",
       "4       NaN        NaN          bio      NaN          u            NaN   \n",
       "\n",
       "                                         comments   coder           Folder  \\\n",
       "0                                             NaN  morgan  gutenbiotrimmed   \n",
       "1  2 people, mixed together (not one per chapter)  morgan  gutenbiotrimmed   \n",
       "2                                             NaN  morgan  gutenbiotrimmed   \n",
       "3                                             NaN  morgan  gutenbiotrimmed   \n",
       "4                                             NaN  morgan  gutenbiotrimmed   \n",
       "\n",
       "   Trimmed  \n",
       "0  Trimmed  \n",
       "1  Trimmed  \n",
       "2  Trimmed  \n",
       "3  Trimmed  \n",
       "4  Trimmed  \n",
       "\n",
       "[5 rows x 24 columns]"
      ]
     },
     "execution_count": 4,
     "metadata": {},
     "output_type": "execute_result"
    }
   ],
   "source": [
    "volmeta.head()"
   ]
  },
  {
   "cell_type": "markdown",
   "id": "083cbdc0-46ad-420c-bcef-8a2408205449",
   "metadata": {},
   "source": [
    "### Get error information\n",
    "\n",
    "Load our existing information about alignment and then group it by gutenberg index."
   ]
  },
  {
   "cell_type": "code",
   "execution_count": 15,
   "id": "f4237db6-1bf8-4226-aea5-f0880c3cb7d7",
   "metadata": {},
   "outputs": [
    {
     "data": {
      "text/plain": [
       "(2624, 3)"
      ]
     },
     "execution_count": 15,
     "metadata": {},
     "output_type": "execute_result"
    }
   ],
   "source": [
    "errorframes = []\n",
    "rootpath = '../chunkmismatch/hathinocorrerrs'\n",
    "for i in range(5):\n",
    "    path = rootpath + str(i) + '.tsv'\n",
    "    df = pd.read_csv(path, sep = '\\t')\n",
    "    errorframes.append(df)\n",
    "\n",
    "error = pd.concat(errorframes, axis = 0)\n",
    "error.shape"
   ]
  },
  {
   "cell_type": "code",
   "execution_count": 16,
   "id": "38098f66-0388-43bf-bd4e-d6c1692d2cde",
   "metadata": {},
   "outputs": [
    {
     "data": {
      "text/html": [
       "<div>\n",
       "<style scoped>\n",
       "    .dataframe tbody tr th:only-of-type {\n",
       "        vertical-align: middle;\n",
       "    }\n",
       "\n",
       "    .dataframe tbody tr th {\n",
       "        vertical-align: top;\n",
       "    }\n",
       "\n",
       "    .dataframe thead th {\n",
       "        text-align: right;\n",
       "    }\n",
       "</style>\n",
       "<table border=\"1\" class=\"dataframe\">\n",
       "  <thead>\n",
       "    <tr style=\"text-align: right;\">\n",
       "      <th></th>\n",
       "      <th>chunkid</th>\n",
       "      <th>passagefails</th>\n",
       "      <th>worderrors</th>\n",
       "    </tr>\n",
       "  </thead>\n",
       "  <tbody>\n",
       "    <tr>\n",
       "      <th>0</th>\n",
       "      <td>36958_0</td>\n",
       "      <td>0.01900</td>\n",
       "      <td>0.01423</td>\n",
       "    </tr>\n",
       "    <tr>\n",
       "      <th>1</th>\n",
       "      <td>36958_1</td>\n",
       "      <td>0.00392</td>\n",
       "      <td>0.01280</td>\n",
       "    </tr>\n",
       "    <tr>\n",
       "      <th>2</th>\n",
       "      <td>36958_2</td>\n",
       "      <td>0.00788</td>\n",
       "      <td>0.01131</td>\n",
       "    </tr>\n",
       "    <tr>\n",
       "      <th>3</th>\n",
       "      <td>36958_3</td>\n",
       "      <td>0.01311</td>\n",
       "      <td>0.01050</td>\n",
       "    </tr>\n",
       "    <tr>\n",
       "      <th>4</th>\n",
       "      <td>49154_0</td>\n",
       "      <td>0.25348</td>\n",
       "      <td>0.00373</td>\n",
       "    </tr>\n",
       "  </tbody>\n",
       "</table>\n",
       "</div>"
      ],
      "text/plain": [
       "   chunkid  passagefails  worderrors\n",
       "0  36958_0       0.01900     0.01423\n",
       "1  36958_1       0.00392     0.01280\n",
       "2  36958_2       0.00788     0.01131\n",
       "3  36958_3       0.01311     0.01050\n",
       "4  49154_0       0.25348     0.00373"
      ]
     },
     "execution_count": 16,
     "metadata": {},
     "output_type": "execute_result"
    }
   ],
   "source": [
    "error.head()"
   ]
  },
  {
   "cell_type": "code",
   "execution_count": 17,
   "id": "e129cc11-6d54-45f0-8cba-d35fd5ae425b",
   "metadata": {},
   "outputs": [],
   "source": [
    "def get_gbindex(filename):\n",
    "    return filename.split('_')[0]"
   ]
  },
  {
   "cell_type": "code",
   "execution_count": 18,
   "id": "8f124b90-59a4-4aa6-a1a4-db7fec1a8d97",
   "metadata": {},
   "outputs": [],
   "source": [
    "error['gbindex'] = error.chunkid.map(get_gbindex)"
   ]
  },
  {
   "cell_type": "code",
   "execution_count": 19,
   "id": "e4711777-3b3f-4187-a89b-80774167d793",
   "metadata": {},
   "outputs": [
    {
     "data": {
      "text/html": [
       "<div>\n",
       "<style scoped>\n",
       "    .dataframe tbody tr th:only-of-type {\n",
       "        vertical-align: middle;\n",
       "    }\n",
       "\n",
       "    .dataframe tbody tr th {\n",
       "        vertical-align: top;\n",
       "    }\n",
       "\n",
       "    .dataframe thead th {\n",
       "        text-align: right;\n",
       "    }\n",
       "</style>\n",
       "<table border=\"1\" class=\"dataframe\">\n",
       "  <thead>\n",
       "    <tr style=\"text-align: right;\">\n",
       "      <th></th>\n",
       "      <th>passagefails</th>\n",
       "      <th>worderrors</th>\n",
       "    </tr>\n",
       "    <tr>\n",
       "      <th>gbindex</th>\n",
       "      <th></th>\n",
       "      <th></th>\n",
       "    </tr>\n",
       "  </thead>\n",
       "  <tbody>\n",
       "    <tr>\n",
       "      <th>1079</th>\n",
       "      <td>0.636145</td>\n",
       "      <td>0.122535</td>\n",
       "    </tr>\n",
       "    <tr>\n",
       "      <th>11030</th>\n",
       "      <td>0.050463</td>\n",
       "      <td>0.009663</td>\n",
       "    </tr>\n",
       "    <tr>\n",
       "      <th>12259</th>\n",
       "      <td>0.093449</td>\n",
       "      <td>0.132703</td>\n",
       "    </tr>\n",
       "    <tr>\n",
       "      <th>12669</th>\n",
       "      <td>0.012843</td>\n",
       "      <td>0.021821</td>\n",
       "    </tr>\n",
       "    <tr>\n",
       "      <th>15042</th>\n",
       "      <td>0.040570</td>\n",
       "      <td>0.133600</td>\n",
       "    </tr>\n",
       "  </tbody>\n",
       "</table>\n",
       "</div>"
      ],
      "text/plain": [
       "         passagefails  worderrors\n",
       "gbindex                          \n",
       "1079         0.636145    0.122535\n",
       "11030        0.050463    0.009663\n",
       "12259        0.093449    0.132703\n",
       "12669        0.012843    0.021821\n",
       "15042        0.040570    0.133600"
      ]
     },
     "execution_count": 19,
     "metadata": {},
     "output_type": "execute_result"
    }
   ],
   "source": [
    "volerror = error.groupby('gbindex').mean()\n",
    "volerror.head()"
   ]
  },
  {
   "cell_type": "markdown",
   "id": "1ba6fea1-fb49-4874-867e-f3a9bbb29783",
   "metadata": {},
   "source": [
    "Let's do a sanity check to make sure I did that correctly."
   ]
  },
  {
   "cell_type": "code",
   "execution_count": 21,
   "id": "60d5aa31-59f3-4a8b-bb09-efbb1a46c556",
   "metadata": {},
   "outputs": [
    {
     "data": {
      "text/html": [
       "<div>\n",
       "<style scoped>\n",
       "    .dataframe tbody tr th:only-of-type {\n",
       "        vertical-align: middle;\n",
       "    }\n",
       "\n",
       "    .dataframe tbody tr th {\n",
       "        vertical-align: top;\n",
       "    }\n",
       "\n",
       "    .dataframe thead th {\n",
       "        text-align: right;\n",
       "    }\n",
       "</style>\n",
       "<table border=\"1\" class=\"dataframe\">\n",
       "  <thead>\n",
       "    <tr style=\"text-align: right;\">\n",
       "      <th></th>\n",
       "      <th>chunkid</th>\n",
       "      <th>passagefails</th>\n",
       "      <th>worderrors</th>\n",
       "      <th>gbindex</th>\n",
       "    </tr>\n",
       "  </thead>\n",
       "  <tbody>\n",
       "    <tr>\n",
       "      <th>332</th>\n",
       "      <td>11030_0</td>\n",
       "      <td>0.11391</td>\n",
       "      <td>0.00866</td>\n",
       "      <td>11030</td>\n",
       "    </tr>\n",
       "    <tr>\n",
       "      <th>333</th>\n",
       "      <td>11030_1</td>\n",
       "      <td>0.02046</td>\n",
       "      <td>0.01270</td>\n",
       "      <td>11030</td>\n",
       "    </tr>\n",
       "    <tr>\n",
       "      <th>334</th>\n",
       "      <td>11030_2</td>\n",
       "      <td>0.02464</td>\n",
       "      <td>0.00742</td>\n",
       "      <td>11030</td>\n",
       "    </tr>\n",
       "    <tr>\n",
       "      <th>335</th>\n",
       "      <td>11030_3</td>\n",
       "      <td>0.02640</td>\n",
       "      <td>0.00985</td>\n",
       "      <td>11030</td>\n",
       "    </tr>\n",
       "    <tr>\n",
       "      <th>336</th>\n",
       "      <td>11030_4</td>\n",
       "      <td>0.02771</td>\n",
       "      <td>0.00909</td>\n",
       "      <td>11030</td>\n",
       "    </tr>\n",
       "    <tr>\n",
       "      <th>337</th>\n",
       "      <td>11030_5</td>\n",
       "      <td>0.08966</td>\n",
       "      <td>0.01026</td>\n",
       "      <td>11030</td>\n",
       "    </tr>\n",
       "  </tbody>\n",
       "</table>\n",
       "</div>"
      ],
      "text/plain": [
       "     chunkid  passagefails  worderrors gbindex\n",
       "332  11030_0       0.11391     0.00866   11030\n",
       "333  11030_1       0.02046     0.01270   11030\n",
       "334  11030_2       0.02464     0.00742   11030\n",
       "335  11030_3       0.02640     0.00985   11030\n",
       "336  11030_4       0.02771     0.00909   11030\n",
       "337  11030_5       0.08966     0.01026   11030"
      ]
     },
     "execution_count": 21,
     "metadata": {},
     "output_type": "execute_result"
    }
   ],
   "source": [
    "# sanity check\n",
    "\n",
    "df = error.loc[error.gbindex == '11030']\n",
    "df"
   ]
  },
  {
   "cell_type": "code",
   "execution_count": 12,
   "id": "5f9eb584-000c-4df9-aa51-456858267519",
   "metadata": {},
   "outputs": [
    {
     "data": {
      "text/plain": [
       "0.009663333333333333"
      ]
     },
     "execution_count": 12,
     "metadata": {},
     "output_type": "execute_result"
    }
   ],
   "source": [
    "np.mean(df.worderrors)"
   ]
  },
  {
   "cell_type": "markdown",
   "id": "f28d2ab1-f1bf-415a-aff2-cc7bdd0ff1d4",
   "metadata": {},
   "source": [
    "Which is what it should be according to the ```volerrors``` frame. We're good."
   ]
  },
  {
   "cell_type": "markdown",
   "id": "6bab96e1-08e2-4429-8872-1b920548ed66",
   "metadata": {},
   "source": [
    "### Select volumes\n",
    "\n",
    "We want 100 biography and 100 fiction. To make selection simple let's create a Boolean column."
   ]
  },
  {
   "cell_type": "code",
   "execution_count": 14,
   "id": "e646a444-874b-4832-9f12-3dd032a983a9",
   "metadata": {},
   "outputs": [],
   "source": [
    "def isbiography(genretag):\n",
    "    if genretag.startswith('bio'):\n",
    "        return True\n",
    "    else:\n",
    "        return False\n",
    "\n",
    "volmeta['isbio'] =  volmeta.genre.map(isbiography)"
   ]
  },
  {
   "cell_type": "code",
   "execution_count": 24,
   "id": "5ce529af-c5e2-4494-b475-e9badb596a97",
   "metadata": {},
   "outputs": [
    {
     "name": "stdout",
     "output_type": "stream",
     "text": [
      "Using all meta we have a frame of shape:  (762, 25)\n",
      "Using only vols with known error we have:  (423, 27)\n"
     ]
    }
   ],
   "source": [
    "print('Using all meta we have a frame of shape: ', volmeta.shape)\n",
    "meta = volmeta.merge(volerror, on = 'gbindex')\n",
    "print('Using only vols with known error we have: ', meta.shape)"
   ]
  },
  {
   "cell_type": "code",
   "execution_count": 25,
   "id": "900e02e7-100b-4f52-8f91-edabfe87b9f6",
   "metadata": {},
   "outputs": [
    {
     "name": "stdout",
     "output_type": "stream",
     "text": [
      "How many bio? 121\n"
     ]
    }
   ],
   "source": [
    "print('How many bio?', sum(meta.isbio))"
   ]
  },
  {
   "cell_type": "code",
   "execution_count": 27,
   "id": "da81d07a-52e6-4921-b442-39bd019f10b7",
   "metadata": {},
   "outputs": [
    {
     "data": {
      "text/plain": [
       "<AxesSubplot:xlabel='worderrors', ylabel='Count'>"
      ]
     },
     "execution_count": 27,
     "metadata": {},
     "output_type": "execute_result"
    },
    {
     "data": {
      "image/png": "[encoded data removed]",
      "text/plain": [
       "<Figure size 432x288 with 1 Axes>"
      ]
     },
     "metadata": {
      "needs_background": "light"
     },
     "output_type": "display_data"
    }
   ],
   "source": [
    "sns.histplot(meta.worderrors, bins = 20)"
   ]
  },
  {
   "cell_type": "code",
   "execution_count": 28,
   "id": "5a864c1c-acf6-4825-b857-f0efa20b274a",
   "metadata": {},
   "outputs": [
    {
     "data": {
      "text/plain": [
       "<AxesSubplot:xlabel='passagefails', ylabel='Count'>"
      ]
     },
     "execution_count": 28,
     "metadata": {},
     "output_type": "execute_result"
    },
    {
     "data": {
      "image/png": "[encoded data removed]",
      "text/plain": [
       "<Figure size 432x288 with 1 Axes>"
      ]
     },
     "metadata": {
      "needs_background": "light"
     },
     "output_type": "display_data"
    }
   ],
   "source": [
    "sns.histplot(meta.passagefails, bins = 20)"
   ]
  },
  {
   "cell_type": "markdown",
   "id": "58fa44bb-e16e-4d77-9664-36b623be5f41",
   "metadata": {},
   "source": [
    "We want to get rid of books that have too *much* paratextual error or too *little* OCR error."
   ]
  },
  {
   "cell_type": "code",
   "execution_count": 31,
   "id": "20b3a584-de25-451b-b5c3-23e93c8e809d",
   "metadata": {},
   "outputs": [
    {
     "data": {
      "text/plain": [
       "(316, 27)"
      ]
     },
     "execution_count": 31,
     "metadata": {},
     "output_type": "execute_result"
    }
   ],
   "source": [
    "usablemeta = meta.loc[(meta.passagefails < .25) & (meta.worderrors > .0075), : ]\n",
    "usablemeta.shape"
   ]
  },
  {
   "cell_type": "code",
   "execution_count": 32,
   "id": "040a3d16-6777-4a2b-8116-542be7f9a9af",
   "metadata": {},
   "outputs": [
    {
     "data": {
      "text/plain": [
       "101"
      ]
     },
     "execution_count": 32,
     "metadata": {},
     "output_type": "execute_result"
    }
   ],
   "source": [
    "sum(usablemeta.isbio)"
   ]
  },
  {
   "cell_type": "code",
   "execution_count": 33,
   "id": "acb78f0d-7148-4651-bcfa-f258a1388451",
   "metadata": {},
   "outputs": [],
   "source": [
    "bio = usablemeta.loc[usablemeta.isbio, : ].sample(100)\n",
    "fic = usablemeta.loc[~usablemeta.isbio, : ].sample(100)"
   ]
  },
  {
   "cell_type": "code",
   "execution_count": 34,
   "id": "ed79c168-6251-4a4f-8560-548cd8c52cea",
   "metadata": {},
   "outputs": [
    {
     "name": "stdout",
     "output_type": "stream",
     "text": [
      "(200, 27)\n",
      "100\n"
     ]
    }
   ],
   "source": [
    "selected = pd.concat([bio, fic], axis = 0)\n",
    "print(selected.shape)\n",
    "print(sum(selected.isbio))"
   ]
  },
  {
   "cell_type": "code",
   "execution_count": 36,
   "id": "91f0b8e4-115e-4e3a-8d15-72f1c49e02d3",
   "metadata": {},
   "outputs": [
    {
     "name": "stdout",
     "output_type": "stream",
     "text": [
      "Mean date of bio is  1865.37\n",
      "Mean date of fic is  1856.19\n"
     ]
    }
   ],
   "source": [
    "print('Mean date of bio is ', np.mean(bio.latestcomp))\n",
    "print('Mean date of fic is ', np.mean(fic.latestcomp))"
   ]
  },
  {
   "cell_type": "markdown",
   "id": "620cd9d1-740b-4bf2-a41a-b06f74f75805",
   "metadata": {},
   "source": [
    "Close enough! We're not training a model to discriminate them."
   ]
  },
  {
   "cell_type": "code",
   "execution_count": 38,
   "id": "c458d5c6-65e3-4b69-b5de-8491eb73e9d0",
   "metadata": {},
   "outputs": [],
   "source": [
    "selected.to_csv('chosenvolumes.tsv', sep = '\\t', index = False)"
   ]
  },
  {
   "cell_type": "markdown",
   "id": "577468b3-40f1-4a6d-bbab-341494fc94bb",
   "metadata": {},
   "source": [
    "### Get the selected texts"
   ]
  },
  {
   "cell_type": "code",
   "execution_count": 39,
   "id": "b14e7e2e-cdcc-4da7-a444-56f18d5ef464",
   "metadata": {},
   "outputs": [],
   "source": [
    "import glob"
   ]
  },
  {
   "cell_type": "code",
   "execution_count": 40,
   "id": "4616fdb5-20df-400a-82a2-047c3718a3c8",
   "metadata": {},
   "outputs": [],
   "source": [
    "cleansource = '/Users/tunder/Box Sync/NEHproject/cleannarratives/'\n",
    "dirtysource = '/Users/tunder/Box Sync/NEHproject/dirtynarratives/'"
   ]
  },
  {
   "cell_type": "code",
   "execution_count": 41,
   "id": "39360441-afb6-4629-85aa-b7dc354e78dd",
   "metadata": {},
   "outputs": [],
   "source": [
    "def get_filestring(pathlist):\n",
    "    fileparts = []\n",
    "    \n",
    "    for filepath in pathlist:\n",
    "        with open(filepath, encoding = 'utf=8') as f:\n",
    "            filestring = f.read()\n",
    "            fileparts.append(filestring)\n",
    "    \n",
    "    return ' '.join(fileparts)\n",
    "\n",
    "\n",
    "def get_connected_texts(gbindex):\n",
    "    global cleansource, dirtysource\n",
    "    \n",
    "    cleantemplate = cleansource + str(gbindex) + '_*.txt'\n",
    "    cleanfiles = glob.glob(cleantemplate)\n",
    "    cleanfile = get_filestring(cleanfiles)\n",
    "    \n",
    "    dirtytemplate = dirtysource + str(gbindex) + '_*.txt'\n",
    "    dirtyfiles = glob.glob(dirtytemplate)\n",
    "    dirtyfile = get_filestring(dirtyfiles)\n",
    "    \n",
    "    return dirtyfile, cleanfile\n"
   ]
  },
  {
   "cell_type": "code",
   "execution_count": 42,
   "id": "3390cde1-b950-42ad-b517-7119d919816a",
   "metadata": {},
   "outputs": [
    {
     "data": {
      "text/html": [
       "<div>\n",
       "<style scoped>\n",
       "    .dataframe tbody tr th:only-of-type {\n",
       "        vertical-align: middle;\n",
       "    }\n",
       "\n",
       "    .dataframe tbody tr th {\n",
       "        vertical-align: top;\n",
       "    }\n",
       "\n",
       "    .dataframe thead th {\n",
       "        text-align: right;\n",
       "    }\n",
       "</style>\n",
       "<table border=\"1\" class=\"dataframe\">\n",
       "  <thead>\n",
       "    <tr style=\"text-align: right;\">\n",
       "      <th></th>\n",
       "      <th>docid</th>\n",
       "      <th>author</th>\n",
       "      <th>authordate</th>\n",
       "      <th>title</th>\n",
       "      <th>latestcomp</th>\n",
       "      <th>hathidate</th>\n",
       "      <th>imprint</th>\n",
       "      <th>gutenstring</th>\n",
       "      <th>enumcron</th>\n",
       "      <th>gbindex</th>\n",
       "      <th>...</th>\n",
       "      <th>audience</th>\n",
       "      <th>authgender</th>\n",
       "      <th>multiplehtids</th>\n",
       "      <th>comments</th>\n",
       "      <th>coder</th>\n",
       "      <th>Folder</th>\n",
       "      <th>Trimmed</th>\n",
       "      <th>isbio</th>\n",
       "      <th>passagefails</th>\n",
       "      <th>worderrors</th>\n",
       "    </tr>\n",
       "  </thead>\n",
       "  <tbody>\n",
       "    <tr>\n",
       "      <th>414</th>\n",
       "      <td>uva.x000372854</td>\n",
       "      <td>Coleridge, Samuel Taylor</td>\n",
       "      <td>NaN</td>\n",
       "      <td>Biographia Literaria</td>\n",
       "      <td>1817</td>\n",
       "      <td>1834.0</td>\n",
       "      <td>NaN</td>\n",
       "      <td>NaN</td>\n",
       "      <td>NaN</td>\n",
       "      <td>6081</td>\n",
       "      <td>...</td>\n",
       "      <td>NaN</td>\n",
       "      <td>m</td>\n",
       "      <td>NaN</td>\n",
       "      <td>NaN</td>\n",
       "      <td>NaN</td>\n",
       "      <td>NaN</td>\n",
       "      <td>NaN</td>\n",
       "      <td>True</td>\n",
       "      <td>0.053057</td>\n",
       "      <td>0.020831</td>\n",
       "    </tr>\n",
       "    <tr>\n",
       "      <th>68</th>\n",
       "      <td>uc1.b4102292</td>\n",
       "      <td>Harland, Marion</td>\n",
       "      <td>NaN</td>\n",
       "      <td>Marion Harland's autobiography;</td>\n",
       "      <td>1910</td>\n",
       "      <td>NaN</td>\n",
       "      <td>New York;London;Harper &amp; bro</td>\n",
       "      <td>Harland, Marion | Marion Harland's Autobiography</td>\n",
       "      <td>&lt;blank&gt;</td>\n",
       "      <td>49003</td>\n",
       "      <td>...</td>\n",
       "      <td>NaN</td>\n",
       "      <td>u</td>\n",
       "      <td>NaN</td>\n",
       "      <td>NaN</td>\n",
       "      <td>wenyi</td>\n",
       "      <td>gutenbiotrimmed</td>\n",
       "      <td>Trimmed</td>\n",
       "      <td>True</td>\n",
       "      <td>0.014142</td>\n",
       "      <td>0.007880</td>\n",
       "    </tr>\n",
       "    <tr>\n",
       "      <th>62</th>\n",
       "      <td>uc2.ark+=13960=t6542ns47</td>\n",
       "      <td>Tyndall, John,</td>\n",
       "      <td>NaN</td>\n",
       "      <td>Hours of exercise in the Alps</td>\n",
       "      <td>1883</td>\n",
       "      <td>NaN</td>\n",
       "      <td>New York;D. Appleton;1883.</td>\n",
       "      <td>Tyndall, John | Hours of Exercise in the Alps</td>\n",
       "      <td>&lt;blank&gt;</td>\n",
       "      <td>47209</td>\n",
       "      <td>...</td>\n",
       "      <td>NaN</td>\n",
       "      <td>m</td>\n",
       "      <td>NaN</td>\n",
       "      <td>NaN</td>\n",
       "      <td>wenyi</td>\n",
       "      <td>gutenbiotrimmed</td>\n",
       "      <td>Trimmed</td>\n",
       "      <td>True</td>\n",
       "      <td>0.025032</td>\n",
       "      <td>0.018501</td>\n",
       "    </tr>\n",
       "    <tr>\n",
       "      <th>59</th>\n",
       "      <td>uc2.ark+=13960=t3cz35s44</td>\n",
       "      <td>Morlae, Edward</td>\n",
       "      <td>NaN</td>\n",
       "      <td>A soldier of the Legion</td>\n",
       "      <td>1916</td>\n",
       "      <td>1916.0</td>\n",
       "      <td>Boston;New York;Houghton Mif</td>\n",
       "      <td>Morlae, Edward | A Soldier of the Legion</td>\n",
       "      <td>NaN</td>\n",
       "      <td>46651</td>\n",
       "      <td>...</td>\n",
       "      <td>NaN</td>\n",
       "      <td>m</td>\n",
       "      <td>NaN</td>\n",
       "      <td>NaN</td>\n",
       "      <td>wenyi</td>\n",
       "      <td>gutenbiotrimmed</td>\n",
       "      <td>Trimmed</td>\n",
       "      <td>True</td>\n",
       "      <td>0.094220</td>\n",
       "      <td>0.026580</td>\n",
       "    </tr>\n",
       "    <tr>\n",
       "      <th>83</th>\n",
       "      <td>njp.32101067567899</td>\n",
       "      <td>Cibber, Colley</td>\n",
       "      <td>1671-1757</td>\n",
       "      <td>An Apology for the Life of Mr. Colley Cibber, ...</td>\n",
       "      <td>1756</td>\n",
       "      <td>1756.0</td>\n",
       "      <td>NaN</td>\n",
       "      <td>NaN</td>\n",
       "      <td>1</td>\n",
       "      <td>44064</td>\n",
       "      <td>...</td>\n",
       "      <td>NaN</td>\n",
       "      <td>m</td>\n",
       "      <td>NaN</td>\n",
       "      <td>NaN</td>\n",
       "      <td>ted</td>\n",
       "      <td>18cgutenbergtrimmed</td>\n",
       "      <td>Trimmed</td>\n",
       "      <td>True</td>\n",
       "      <td>0.168152</td>\n",
       "      <td>0.129347</td>\n",
       "    </tr>\n",
       "  </tbody>\n",
       "</table>\n",
       "<p>5 rows × 27 columns</p>\n",
       "</div>"
      ],
      "text/plain": [
       "                        docid                    author authordate  \\\n",
       "414            uva.x000372854  Coleridge, Samuel Taylor        NaN   \n",
       "68               uc1.b4102292           Harland, Marion        NaN   \n",
       "62   uc2.ark+=13960=t6542ns47            Tyndall, John,        NaN   \n",
       "59   uc2.ark+=13960=t3cz35s44            Morlae, Edward        NaN   \n",
       "83         njp.32101067567899            Cibber, Colley  1671-1757   \n",
       "\n",
       "                                                 title  latestcomp  hathidate  \\\n",
       "414                               Biographia Literaria        1817     1834.0   \n",
       "68                     Marion Harland's autobiography;        1910        NaN   \n",
       "62                       Hours of exercise in the Alps        1883        NaN   \n",
       "59                             A soldier of the Legion        1916     1916.0   \n",
       "83   An Apology for the Life of Mr. Colley Cibber, ...        1756     1756.0   \n",
       "\n",
       "                          imprint  \\\n",
       "414                           NaN   \n",
       "68   New York;London;Harper & bro   \n",
       "62     New York;D. Appleton;1883.   \n",
       "59   Boston;New York;Houghton Mif   \n",
       "83                            NaN   \n",
       "\n",
       "                                          gutenstring enumcron gbindex  ...  \\\n",
       "414                                               NaN      NaN    6081  ...   \n",
       "68   Harland, Marion | Marion Harland's Autobiography  <blank>   49003  ...   \n",
       "62      Tyndall, John | Hours of Exercise in the Alps  <blank>   47209  ...   \n",
       "59           Morlae, Edward | A Soldier of the Legion      NaN   46651  ...   \n",
       "83                                                NaN        1   44064  ...   \n",
       "\n",
       "     audience  authgender multiplehtids comments  coder               Folder  \\\n",
       "414       NaN           m           NaN      NaN    NaN                  NaN   \n",
       "68        NaN           u           NaN      NaN  wenyi      gutenbiotrimmed   \n",
       "62        NaN           m           NaN      NaN  wenyi      gutenbiotrimmed   \n",
       "59        NaN           m           NaN      NaN  wenyi      gutenbiotrimmed   \n",
       "83        NaN           m           NaN      NaN    ted  18cgutenbergtrimmed   \n",
       "\n",
       "     Trimmed isbio passagefails worderrors  \n",
       "414      NaN  True     0.053057   0.020831  \n",
       "68   Trimmed  True     0.014142   0.007880  \n",
       "62   Trimmed  True     0.025032   0.018501  \n",
       "59   Trimmed  True     0.094220   0.026580  \n",
       "83   Trimmed  True     0.168152   0.129347  \n",
       "\n",
       "[5 rows x 27 columns]"
      ]
     },
     "execution_count": 42,
     "metadata": {},
     "output_type": "execute_result"
    }
   ],
   "source": [
    "selected.head()"
   ]
  },
  {
   "cell_type": "code",
   "execution_count": 43,
   "id": "8b0a6a91-b5b0-4bca-a0fb-834b79374e7b",
   "metadata": {},
   "outputs": [],
   "source": [
    "dirtytext, cleantext = get_connected_texts('6081')"
   ]
  },
  {
   "cell_type": "code",
   "execution_count": 44,
   "id": "8ad24453-384d-4644-a2d8-b86010525d7f",
   "metadata": {},
   "outputs": [
    {
     "data": {
      "text/plain": [
       "834012"
      ]
     },
     "execution_count": 44,
     "metadata": {},
     "output_type": "execute_result"
    }
   ],
   "source": [
    "len(dirtytext)"
   ]
  },
  {
   "cell_type": "code",
   "execution_count": 45,
   "id": "68536443-c50c-4ca6-9462-2f354cb34425",
   "metadata": {},
   "outputs": [
    {
     "data": {
      "text/plain": [
       "830293"
      ]
     },
     "execution_count": 45,
     "metadata": {},
     "output_type": "execute_result"
    }
   ],
   "source": [
    "len(cleantext)"
   ]
  },
  {
   "cell_type": "code",
   "execution_count": 46,
   "id": "772d03fa-fab2-4f5c-a577-952bfcf1fac5",
   "metadata": {},
   "outputs": [],
   "source": []
  },
  {
   "cell_type": "code",
   "execution_count": 47,
   "id": "02b9e647-9247-4e52-b7e7-feaeffab9b51",
   "metadata": {},
   "outputs": [],
   "source": [
    "dsent = tokenize.sent_tokenize(dirtytext)"
   ]
  },
  {
   "cell_type": "code",
   "execution_count": 48,
   "id": "0943e88a-63bd-4c57-96f1-cc851790180d",
   "metadata": {},
   "outputs": [
    {
     "data": {
      "text/plain": [
       "4865"
      ]
     },
     "execution_count": 48,
     "metadata": {},
     "output_type": "execute_result"
    }
   ],
   "source": [
    "len(dsent)"
   ]
  },
  {
   "cell_type": "code",
   "execution_count": 52,
   "id": "4f38dae8-4a32-40b6-abbe-3349f036f91c",
   "metadata": {},
   "outputs": [
    {
     "data": {
      "text/plain": [
       "'For whether there ought to exist\\na class of words in the English, in any degree resembling the poetic\\n* It is no less an error in teachers, than a torment to the poor children, to en-\\nforce the necessity of reading as they would talk.'"
      ]
     },
     "execution_count": 52,
     "metadata": {},
     "output_type": "execute_result"
    }
   ],
   "source": [
    "dsent[1]"
   ]
  },
  {
   "cell_type": "code",
   "execution_count": 49,
   "id": "a1114fa9-f9ae-42ec-b31a-c23653e44540",
   "metadata": {},
   "outputs": [
    {
     "data": {
      "text/plain": [
       "168634"
      ]
     },
     "execution_count": 49,
     "metadata": {},
     "output_type": "execute_result"
    }
   ],
   "source": [
    "dword = tokenize.word_tokenize(dirtytext)\n",
    "len(dword)"
   ]
  },
  {
   "cell_type": "code",
   "execution_count": 53,
   "id": "59905a4a-cfa5-4ef9-9118-796c4c4085d7",
   "metadata": {},
   "outputs": [
    {
     "data": {
      "text/plain": [
       "['words',\n",
       " 'themselves',\n",
       " '.',\n",
       " 'For',\n",
       " 'whether',\n",
       " 'there',\n",
       " 'ought',\n",
       " 'to',\n",
       " 'exist',\n",
       " 'a',\n",
       " 'class',\n",
       " 'of',\n",
       " 'words',\n",
       " 'in',\n",
       " 'the',\n",
       " 'English',\n",
       " ',',\n",
       " 'in',\n",
       " 'any',\n",
       " 'degree',\n",
       " 'resembling',\n",
       " 'the',\n",
       " 'poetic',\n",
       " '*',\n",
       " 'It',\n",
       " 'is',\n",
       " 'no',\n",
       " 'less',\n",
       " 'an',\n",
       " 'error',\n",
       " 'in',\n",
       " 'teachers',\n",
       " ',',\n",
       " 'than',\n",
       " 'a']"
      ]
     },
     "execution_count": 53,
     "metadata": {},
     "output_type": "execute_result"
    }
   ],
   "source": [
    "dword[25:60]"
   ]
  },
  {
   "cell_type": "code",
   "execution_count": 54,
   "id": "88ac9f76-b9cf-4953-bbd6-82aba40cec21",
   "metadata": {},
   "outputs": [
    {
     "data": {
      "text/plain": [
       "[(1, 'new'), (3, 'med'), (5, 'old')]"
      ]
     },
     "execution_count": 54,
     "metadata": {},
     "output_type": "execute_result"
    }
   ],
   "source": [
    "positions = [(5, 'old'), (1, 'new'), (3, 'med')]\n",
    "positions.sort()\n",
    "positions"
   ]
  },
  {
   "cell_type": "code",
   "execution_count": 72,
   "id": "9daa3923-739d-4233-95a5-e7e9b790baee",
   "metadata": {},
   "outputs": [],
   "source": [
    "def get_initial_sentpair(dtext, ctext):\n",
    "    dwords = tokenize.word_tokenize(dtext)\n",
    "    cwords = tokenize.word_tokenize(ctext)\n",
    "    \n",
    "    positions = []\n",
    "    cwordcounts = Counter(cwords)\n",
    "    for word, count in cwordcounts.items():\n",
    "        if count == 1 and len(word) > 4:\n",
    "            positions.append((cwords.index(word), word))\n",
    "    positions.sort()\n",
    "    \n",
    "    dsents = tokenize.sent_tokenize(dtext)\n",
    "    csents = tokenize.sent_tokenize(ctext)\n",
    "    \n",
    "    dspos = -1\n",
    "    cspos = -1\n",
    "    \n",
    "    found = False\n",
    "    \n",
    "    for position, word in positions:\n",
    "        if word in dwords:\n",
    "            keyword = word\n",
    "            for idx, sentence in enumerate(csents):\n",
    "                if keyword in sentence:\n",
    "                    cspos = idx\n",
    "                    for idx, sentence in enumerate(dsents):\n",
    "                        if keyword in sentence:\n",
    "                            dspos = idx\n",
    "                            sentenceA = csents[cspos]\n",
    "                            sentenceB = dsents[dspos]\n",
    "                            matcher = SequenceMatcher(None, sentenceA, sentenceB)\n",
    "                            if matcher.ratio() > .7:\n",
    "                                print(dspos, cspos)\n",
    "                                found = True\n",
    "                                break\n",
    "                if found:\n",
    "                    break\n",
    "        if found:\n",
    "            break\n",
    "        \n",
    "    \n",
    "    return dspos, cspos, dsents, csents                \n",
    "            "
   ]
  },
  {
   "cell_type": "code",
   "execution_count": 73,
   "id": "e09883fd-973a-4de7-8bb1-2bbfbd5cf6a6",
   "metadata": {},
   "outputs": [
    {
     "name": "stdout",
     "output_type": "stream",
     "text": [
      "464 2\n"
     ]
    }
   ],
   "source": [
    "dspos, cspos, dsents, csents = get_initial_sentpair(dirtytext, cleantext)"
   ]
  },
  {
   "cell_type": "code",
   "execution_count": 74,
   "id": "a8b69741-2253-4afe-8ca9-a74bdb25591b",
   "metadata": {},
   "outputs": [
    {
     "data": {
      "text/plain": [
       "'If in looking\\nthrough all the succeeding volumes the reader should find this a\\nsolitary instance, I must submit to that painful forfeiture of esteem,\\nwhich awaits a groundless or exaggerated charge.'"
      ]
     },
     "execution_count": 74,
     "metadata": {},
     "output_type": "execute_result"
    }
   ],
   "source": [
    "dsents[dspos]"
   ]
  },
  {
   "cell_type": "code",
   "execution_count": 75,
   "id": "b428064f-6434-4b58-9838-c07a68aa6af7",
   "metadata": {},
   "outputs": [
    {
     "data": {
      "text/plain": [
       "'If in looking through\\n all the succeeding volumes the reader should find this a solitary\\n instance, I must submit to that painful forfeiture of esteem, which\\n awaits a groundless or exaggerated charge.'"
      ]
     },
     "execution_count": 75,
     "metadata": {},
     "output_type": "execute_result"
    }
   ],
   "source": [
    "csents[cspos]"
   ]
  },
  {
   "cell_type": "code",
   "execution_count": 127,
   "id": "53bd9aa8-7fda-411e-b35b-167882589c4a",
   "metadata": {},
   "outputs": [],
   "source": [
    "def get_matchqual(sentenceA, sentenceB):\n",
    "    sentenceA = sentenceA.replace('\\n', ' ')\n",
    "    sentenceB = sentenceB.replace('\\n', ' ')\n",
    "    matcher = SequenceMatcher(None, sentenceA, sentenceB)\n",
    "    return matcher.ratio()\n",
    "\n",
    "def get_sentpairs(dtext, ctext):\n",
    "    \n",
    "    dpaired = []\n",
    "    cpaired = []\n",
    "    \n",
    "    dspos, cspos, dsents, csents = get_initial_sentpair(dirtytext, cleantext)\n",
    "    \n",
    "    matches = 0\n",
    "    fails = 0\n",
    "    \n",
    "    while cspos < len(csents) and dspos < len(dsents) and matches <= 1000:\n",
    "        \n",
    "        matchqual = 0\n",
    "        doffset = 0\n",
    "        coffset = 0\n",
    "        matchfail = False\n",
    "        \n",
    "        while matchqual < 0.7 and (dspos + doffset) < len(dsents) and (cspos + coffset) < len(csents):\n",
    "            matchqual = get_matchqual(csents[cspos + coffset], dsents[dspos + doffset])\n",
    "\n",
    "            if matchqual < .7:\n",
    "                if not matchfail:\n",
    "                    # print('Fail clean:', csents[cspos], '\\nFail dirty: ', dsents[dspos])\n",
    "                    matchfail = True\n",
    "                if doffset < 60:\n",
    "                    doffset += 1\n",
    "                else:\n",
    "                    coffset += 1\n",
    "                    doffset = 0\n",
    "                    \n",
    "        \n",
    "        if matchfail:\n",
    "            dpaired.append('<match failed>')\n",
    "            cpaired.append('<match failed>')\n",
    "            fails += 1\n",
    "        \n",
    "        if (dspos + doffset) >= len(dsents) or (cspos + coffset) >= len(csents):\n",
    "            break\n",
    "        \n",
    "        cspos = cspos + coffset\n",
    "        dspos = dspos + doffset\n",
    "        \n",
    "        dpaired.append(dsents[dspos].replace('\\n', ' ').replace('\\t', ' ').replace('  ', ' '))\n",
    "        cpaired.append(csents[cspos].replace('\\n', ' ').replace('\\t', ' ').replace('  ', ' '))\n",
    "        \n",
    "        matches += 1\n",
    "        \n",
    "        cspos = cspos + 1\n",
    "        dspos = dspos + 1\n",
    "    \n",
    "    print(matches, \" matches, \", fails, \" fails.\")\n",
    "\n",
    "    return dpaired, cpaired\n",
    "    \n",
    "    "
   ]
  },
  {
   "cell_type": "code",
   "execution_count": 123,
   "id": "90a5f85b-60f2-4eb4-b6e9-d3ae8632e799",
   "metadata": {},
   "outputs": [
    {
     "name": "stdout",
     "output_type": "stream",
     "text": [
      "464 2\n",
      "816  matches,  219  fails.\n"
     ]
    }
   ],
   "source": [
    "dpairs, cpairs = get_sentpairs(dirtytext, cleantext)"
   ]
  },
  {
   "cell_type": "code",
   "execution_count": 126,
   "id": "175c5f89-547a-4b27-9fed-38b4b737675c",
   "metadata": {},
   "outputs": [
    {
     "data": {
      "text/plain": [
       "'The word postulate is borrowed from the science  of mathematics [50].'"
      ]
     },
     "execution_count": 126,
     "metadata": {},
     "output_type": "execute_result"
    }
   ],
   "source": [
    "cpairs[801]"
   ]
  },
  {
   "cell_type": "code",
   "execution_count": 129,
   "id": "5bd81ec2-3d54-45fe-ba82-2c8757685329",
   "metadata": {},
   "outputs": [
    {
     "name": "stdout",
     "output_type": "stream",
     "text": [
      "\n",
      "Start 9609\n",
      "1714 1767\n",
      "35  matches,  13  fails.\n",
      "\n",
      "Start HawkJLSbio\n",
      "116 2\n",
      "1001  matches,  245  fails.\n",
      "\n",
      "Start 39716\n",
      "18 3\n",
      "1001  matches,  48  fails.\n",
      "\n",
      "Start 36160\n",
      "378 0\n",
      "921  matches,  77  fails.\n",
      "\n",
      "Start 34240\n",
      "150 4\n",
      "746  matches,  45  fails.\n",
      "\n",
      "Start 43358\n",
      "2206 1\n",
      "291  matches,  48  fails.\n",
      "\n",
      "Start 37955\n",
      "75 1\n",
      "1001  matches,  75  fails.\n",
      "\n",
      "Start 35119\n",
      "1 1\n",
      "1001  matches,  36  fails.\n",
      "\n",
      "Start 6593\n",
      "14940 1\n",
      "19  matches,  11  fails.\n",
      "\n",
      "Start 40010\n",
      "81 481\n",
      "2  matches,  1  fails.\n",
      "\n",
      "Start 15697\n",
      "3 1\n",
      "1001  matches,  125  fails.\n",
      "\n",
      "Start 46651\n",
      "26 2\n",
      "937  matches,  46  fails.\n",
      "\n",
      "Start 41616\n",
      "18 0\n",
      "1001  matches,  29  fails.\n",
      "\n",
      "Start RereJMHbio\n",
      "650 0\n",
      "598  matches,  208  fails.\n",
      "\n",
      "Start 32835\n",
      "356 1\n",
      "846  matches,  101  fails.\n",
      "\n",
      "Start 44630\n",
      "1 0\n",
      "1001  matches,  14  fails.\n",
      "\n",
      "Start LennCFQ2fic\n",
      "3 7\n",
      "1001  matches,  285  fails.\n",
      "\n",
      "Start CumbRAE2bio\n",
      "141 67\n",
      "141  matches,  78  fails.\n",
      "\n",
      "Start BondWHLbio\n",
      "157 3\n",
      "361  matches,  174  fails.\n",
      "\n",
      "Start 35418\n",
      "1132 0\n",
      "1001  matches,  131  fails.\n"
     ]
    }
   ],
   "source": [
    "twentytostart = selected.sample(20)\n",
    "\n",
    "with open('samplesentences.tsv', mode = 'w', encoding = 'utf-8') as f1:\n",
    "    f1.write('gbindex\\trowctr\\tdirty_sentence\\tclean_sentence\\n')\n",
    "\n",
    "for idx, row in twentytostart.iterrows():\n",
    "    gbindex = str(row.gbindex)\n",
    "    print()\n",
    "    print('Start ' + gbindex)\n",
    "    dirtytext, cleantext = get_connected_texts(gbindex)\n",
    "    if len(dirtytext) < 10:\n",
    "        continue\n",
    "    \n",
    "    dpairs, cpairs = get_sentpairs(dirtytext, cleantext)\n",
    "    \n",
    "    ctr = 0\n",
    "    with open('samplesentences.tsv', mode = 'a', encoding = 'utf-8') as f1:\n",
    "        for d, c in zip(dpairs, cpairs):\n",
    "            f1.write(gbindex + '\\t' + str(ctr) + '\\t' + d + '\\t' + c + '\\n')\n",
    "            ctr += 1\n",
    "    "
   ]
  },
  {
   "cell_type": "code",
   "execution_count": 130,
   "id": "462ecbcb-2b8f-4d6d-980f-603b85858f6b",
   "metadata": {},
   "outputs": [],
   "source": [
    "twentytostart.to_csv('sentencemetav1.tsv', sep = '\\t', index = False)"
   ]
  },
  {
   "cell_type": "code",
   "execution_count": 98,
   "id": "1e7707c1-2d44-488a-973b-e2e7c23e66ac",
   "metadata": {},
   "outputs": [
    {
     "data": {
      "text/plain": [
       "'Or lastly, the second of the three following stanzas, compared both with  the first and the third.'"
      ]
     },
     "execution_count": 98,
     "metadata": {},
     "output_type": "execute_result"
    }
   ],
   "source": [
    "cpairs[100]"
   ]
  },
  {
   "cell_type": "code",
   "execution_count": 99,
   "id": "9f149a7d-a553-4d51-a75d-16b7ea1af701",
   "metadata": {},
   "outputs": [
    {
     "data": {
      "text/plain": [
       "'Or, lastly, the second of the three following stanzas, compared both with the first and the third.'"
      ]
     },
     "execution_count": 99,
     "metadata": {},
     "output_type": "execute_result"
    }
   ],
   "source": [
    "dpairs[100]"
   ]
  },
  {
   "cell_type": "code",
   "execution_count": 106,
   "id": "6d786405-a1b8-4245-baa1-95bf669319bb",
   "metadata": {},
   "outputs": [
    {
     "data": {
      "text/plain": [
       "210"
      ]
     },
     "execution_count": 106,
     "metadata": {},
     "output_type": "execute_result"
    }
   ],
   "source": [
    "sum([True for x in cpairs if x == '<match failed>'])"
   ]
  },
  {
   "cell_type": "code",
   "execution_count": 107,
   "id": "1c3aa545-89df-428a-8ce9-44710c72493e",
   "metadata": {},
   "outputs": [
    {
     "data": {
      "text/plain": [
       "210"
      ]
     },
     "execution_count": 107,
     "metadata": {},
     "output_type": "execute_result"
    }
   ],
   "source": [
    "sum([True for x in dpairs if x == '<match failed>'])"
   ]
  },
  {
   "cell_type": "code",
   "execution_count": null,
   "id": "96eb2376-2ba6-47fb-a145-a0a251ab7ede",
   "metadata": {},
   "outputs": [],
   "source": []
  }
 ],
 "metadata": {
  "kernelspec": {
   "display_name": "Python 3",
   "language": "python",
   "name": "python3"
  },
  "language_info": {
   "codemirror_mode": {
    "name": "ipython",
    "version": 3
   },
   "file_extension": ".py",
   "mimetype": "text/x-python",
   "name": "python",
   "nbconvert_exporter": "python",
   "pygments_lexer": "ipython3",
   "version": "3.7.4"
  }
 },
 "nbformat": 4,
 "nbformat_minor": 5
}
