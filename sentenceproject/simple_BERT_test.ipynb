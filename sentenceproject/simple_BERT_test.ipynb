{
 "cells": [
  {
   "cell_type": "markdown",
   "metadata": {},
   "source": [
    "# Using BERT for next sentence prediction\n",
    "\n",
    "How much difference does OCR make? First pass at the question.\n",
    "\n",
    "The overall strategy here is going to be to construct pairs of actually-sequential sentences from books of biography and fiction. We'll construct pairs using both dirty and clean texts, making sure the sentences match as closely as possible. For each pair we'll calculate the probability that they're really sequential. Of course they all *are* really sequential, so this probability should be high. But some recent papers have argued that there's a systematic difference here, where transitions seem more probable / predictable in fiction.\n",
    "\n",
    "We're not really going to answer that question. But we will ask whether the differences between books, and especially the difference between biography and fiction, are significantly disrupted by text quality.\n",
    "\n",
    "**First, we load BERT.**"
   ]
  },
  {
   "cell_type": "code",
   "execution_count": 71,
   "metadata": {},
   "outputs": [],
   "source": [
    "import torch, random\n",
    "from transformers import BertTokenizer, BertForNextSentencePrediction\n",
    "from scipy.stats import ttest_ind"
   ]
  },
  {
   "cell_type": "markdown",
   "metadata": {},
   "source": [
    "**Then write a function to do next sentence prediction:**"
   ]
  },
  {
   "cell_type": "code",
   "execution_count": 72,
   "metadata": {},
   "outputs": [
    {
     "name": "stdout",
     "output_type": "stream",
     "text": [
      "built tokenizer\n"
     ]
    },
    {
     "name": "stderr",
     "output_type": "stream",
     "text": [
      "Some weights of the model checkpoint at bert-base-uncased were not used when initializing BertForNextSentencePrediction: ['cls.predictions.transform.LayerNorm.weight', 'cls.predictions.transform.LayerNorm.bias', 'cls.predictions.transform.dense.bias', 'cls.predictions.bias', 'cls.predictions.decoder.weight', 'cls.predictions.transform.dense.weight']\n",
      "- This IS expected if you are initializing BertForNextSentencePrediction from the checkpoint of a model trained on another task or with another architecture (e.g. initializing a BertForSequenceClassification model from a BertForPreTraining model).\n",
      "- This IS NOT expected if you are initializing BertForNextSentencePrediction from the checkpoint of a model that you expect to be exactly identical (initializing a BertForSequenceClassification model from a BertForSequenceClassification model).\n"
     ]
    },
    {
     "name": "stdout",
     "output_type": "stream",
     "text": [
      "built model\n"
     ]
    }
   ],
   "source": [
    "tokenizer = BertTokenizer.from_pretrained('bert-base-uncased')\n",
    "print('built tokenizer')\n",
    "model = BertForNextSentencePrediction.from_pretrained('bert-base-uncased')\n",
    "model.eval()\n",
    "print('built model')"
   ]
  },
  {
   "cell_type": "code",
   "execution_count": 2,
   "metadata": {},
   "outputs": [],
   "source": [
    "def get_raw_output(firstsentence, secondsentence, tokenizer, model):\n",
    "    \n",
    "    encoding = tokenizer.encode_plus(firstsentence, secondsentence, return_tensors = 'pt', padding = False)\n",
    "    result = model(**encoding)\n",
    "\n",
    "    return result\n",
    "\n",
    "def get_logits(firstsentence, secondsentence, tokenizer, model):\n",
    "\n",
    "    encoding = tokenizer.encode_plus(firstsentence, secondsentence, return_tensors = 'pt', padding = False)\n",
    "    result_object = model(**encoding)\n",
    "    \n",
    "    logits = result_object['logits'].tolist()[0]\n",
    "    \n",
    "    return logits"
   ]
  },
  {
   "cell_type": "markdown",
   "metadata": {},
   "source": [
    "The changes to this function are necessitated because [HuggingFace has implemented a new way to wrap \"model outputs\"](https://huggingface.co/transformers/main_classes/output.html) since I originally wrote this.\n",
    "\n",
    "You used to get two numeric results. Now you get a NextSentencePredictorOutput, which in turn wraps the results as PyTorch Tensors. Let's look at it."
   ]
  },
  {
   "cell_type": "code",
   "execution_count": 3,
   "metadata": {},
   "outputs": [],
   "source": [
    "firstsentence = \"I was walking to the store one day to buy groceries.\"\n",
    "secondsentence = \"At the store I bought bananas and milk.\""
   ]
  },
  {
   "cell_type": "code",
   "execution_count": 4,
   "metadata": {},
   "outputs": [
    {
     "data": {
      "text/plain": [
       "NextSentencePredictorOutput(loss=None, logits=tensor([[ 6.2713, -6.1164]], grad_fn=<AddmmBackward>), hidden_states=None, attentions=None)"
      ]
     },
     "execution_count": 4,
     "metadata": {},
     "output_type": "execute_result"
    }
   ],
   "source": [
    "result = get_raw_output(firstsentence, secondsentence, tokenizer, model)\n",
    "result"
   ]
  },
  {
   "cell_type": "code",
   "execution_count": 5,
   "metadata": {},
   "outputs": [
    {
     "data": {
      "text/plain": [
       "tensor([[ 6.2713, -6.1164]], grad_fn=<AddmmBackward>)"
      ]
     },
     "execution_count": 5,
     "metadata": {},
     "output_type": "execute_result"
    }
   ],
   "source": [
    "result[0]"
   ]
  },
  {
   "cell_type": "markdown",
   "metadata": {},
   "source": [
    "After reading [the HuggingFace documentation](https://huggingface.co/transformers/main_classes/output.html) and [Googling Stack Overflow](https://stackoverflow.com/questions/53903373/convert-pytorch-tensor-to-python-list) I was able to write the new get_logits function, which unpacks those objects to get numbers we can deal with."
   ]
  },
  {
   "cell_type": "code",
   "execution_count": 6,
   "metadata": {},
   "outputs": [
    {
     "data": {
      "text/plain": [
       "[6.2712578773498535, -6.116359710693359]"
      ]
     },
     "execution_count": 6,
     "metadata": {},
     "output_type": "execute_result"
    }
   ],
   "source": [
    "get_logits(firstsentence, secondsentence, tokenizer, model)"
   ]
  },
  {
   "cell_type": "markdown",
   "metadata": {},
   "source": [
    "The relation between logits and probability makes my head hurt to explain, so I'm just going to [point at Wikipedia.](https://en.wikipedia.org/wiki/Logit)\n",
    "\n",
    "But for a quick and dirty approach I wrote this function which *loosely* translates BERT's logits output into a probability for the sequence. Also checked [this blog post](https://towardsdatascience.com/bert-for-next-sentence-prediction-466b67f8226f) to confirm that the probability of \"yes, this is the next sentence\" is associated with the first logit."
   ]
  },
  {
   "cell_type": "code",
   "execution_count": 7,
   "metadata": {},
   "outputs": [],
   "source": [
    "import math\n",
    "\n",
    "def get_probability(firstsent, secondsent):\n",
    "    '''\n",
    "    \n",
    "    :param logits: a tensor produced by BERT\n",
    "    :return: probability of the first category after softmax\n",
    "    '''\n",
    "    global tokenizer, model\n",
    "    \n",
    "    logits = get_logits(firstsent, secondsent, tokenizer, model)\n",
    "    \n",
    "    poslogit = logits[0]\n",
    "    neglogit = logits[1]\n",
    "\n",
    "    pospart = math.pow(2.72, poslogit)\n",
    "    negpart = math.pow(2.72, neglogit)\n",
    "\n",
    "    posprob = pospart / (pospart + negpart)\n",
    "\n",
    "    return round(posprob, 6)"
   ]
  },
  {
   "cell_type": "code",
   "execution_count": 8,
   "metadata": {},
   "outputs": [
    {
     "data": {
      "text/plain": [
       "0.999996"
      ]
     },
     "execution_count": 8,
     "metadata": {},
     "output_type": "execute_result"
    }
   ],
   "source": [
    "firstsentence = \"I was walking to the store one day to buy groceries.\"\n",
    "secondsentence = \"At the store I bought bananas and milk.\"\n",
    "get_probability(firstsentence, secondsentence)"
   ]
  },
  {
   "cell_type": "markdown",
   "metadata": {},
   "source": [
    "Ah, now we can see that BERT considers that a pretty probable sequence. Let's try a less probable sequence.\n",
    "\n",
    "We'll use the same first sentence about walking to the store, and for our second sentence\n",
    "\n",
    "    Psychedelics are a hallucinogenic class of psychoactive drug whose primary effect is to trigger non-ordinary states of consciousness and psychedelic experiences via serotonin 2A receptor agonism.\n",
    "    \n",
    "Which is from Wikipedia on \"psychedelic drug.\"\n"
   ]
  },
  {
   "cell_type": "code",
   "execution_count": 9,
   "metadata": {},
   "outputs": [
    {
     "data": {
      "text/plain": [
       "5e-05"
      ]
     },
     "execution_count": 9,
     "metadata": {},
     "output_type": "execute_result"
    }
   ],
   "source": [
    "firstsentence = \"I was walking to the store one day to buy groceries.\"\n",
    "secondsentence = \"Psychedelics are a hallucinogenic class of psychoactive drug whose primary effect is to trigger non-ordinary states of consciousness and psychedelic experiences via serotonin 2A receptor agonism.\"\n",
    "get_probability(firstsentence, secondsentence)"
   ]
  },
  {
   "cell_type": "markdown",
   "metadata": {},
   "source": [
    "That's a much less probable sequence! Let's try a slightly weaker non-sequitur."
   ]
  },
  {
   "cell_type": "code",
   "execution_count": 10,
   "metadata": {},
   "outputs": [
    {
     "data": {
      "text/plain": [
       "NextSentencePredictorOutput(loss=None, logits=tensor([[ 6.2713, -6.1164]], grad_fn=<AddmmBackward>), hidden_states=None, attentions=None)"
      ]
     },
     "execution_count": 10,
     "metadata": {},
     "output_type": "execute_result"
    }
   ],
   "source": [
    "result"
   ]
  },
  {
   "cell_type": "code",
   "execution_count": 11,
   "metadata": {},
   "outputs": [
    {
     "data": {
      "text/plain": [
       "0.055497"
      ]
     },
     "execution_count": 11,
     "metadata": {},
     "output_type": "execute_result"
    }
   ],
   "source": [
    "firstsentence = \"I was walking to the store one day to buy groceries.\"\n",
    "secondsentence = \"Everything is closed due to the pandemic.\"\n",
    "get_probability(firstsentence, secondsentence)"
   ]
  },
  {
   "cell_type": "markdown",
   "metadata": {},
   "source": [
    "Okay, that probability is slightly higher. Still unlikely. But not *totally* improbable. It might be higher if BERT had been trained in 2021.\n",
    "\n",
    "## Sentence data\n",
    "\n",
    "Now let's load the data."
   ]
  },
  {
   "cell_type": "code",
   "execution_count": 13,
   "metadata": {},
   "outputs": [],
   "source": [
    "import pandas as pd\n",
    "import numpy as np"
   ]
  },
  {
   "cell_type": "markdown",
   "metadata": {},
   "source": [
    "Each row of the data has four fields: a Gutenberg index, a row counter that is sequential within a single volume, the dirty_sentence and the clean_sentence.\n",
    "\n",
    "This doesn't read easily into pandas (too many weird characters), so I've written some Python to parse it line by line.\n",
    "\n",
    "This code creates three aligned lists: ```dirtytuples``` (pairs of dirty-ocr sentences), ```cleantuples``` (pairs of clean sentences), and the ```gbindices``` associated with the aligned pairs."
   ]
  },
  {
   "cell_type": "code",
   "execution_count": 70,
   "metadata": {},
   "outputs": [
    {
     "name": "stdout",
     "output_type": "stream",
     "text": [
      "4\n",
      "47811\n"
     ]
    }
   ],
   "source": [
    "oldlen = 0\n",
    "oldcleansent = '<>'\n",
    "olddirtysent = '<>'\n",
    "\n",
    "dirtytuples = []\n",
    "cleantuples = []\n",
    "gbindices = []\n",
    "\n",
    "with open('/Users/tunder/Box Sync/NEHproject/sentencedata/samplesentences.tsv', mode = 'r', encoding = 'utf-8') as f:\n",
    "    for line in f:\n",
    "        fields = line.strip().split('\\t')\n",
    "        \n",
    "        if len(fields) != oldlen:\n",
    "            oldlen = len(fields)\n",
    "            print(oldlen)\n",
    "            \n",
    "        if fields[0] == 'gbindex':\n",
    "            continue\n",
    "        elif fields[2].startswith('<match'):\n",
    "            oldcleansent = '<>'\n",
    "            olddirtysent = '<>'\n",
    "        elif oldcleansent == '<>':\n",
    "            olddirtysent = fields[2]\n",
    "            oldcleansent = fields[3]\n",
    "        else:\n",
    "            dirtypair = (olddirtysent, fields[2])\n",
    "            cleanpair = (oldcleansent, fields[3])\n",
    "            gbindex = fields[0]\n",
    "            dirtytuples.append(dirtypair)\n",
    "            cleantuples.append(cleanpair)\n",
    "            gbindices.append(gbindex)\n",
    "            \n",
    "            olddirtysent = fields[2]\n",
    "            oldcleansent = fields[3]\n",
    "\n",
    "print(len(gbindices))          \n",
    "        "
   ]
  },
  {
   "cell_type": "markdown",
   "metadata": {},
   "source": [
    "We rearrange the pairs of sentences into dictionaries keyed by Gutenberg index; the main reason for this is that we're only going to calculate probability for a subset, and we want to distribute that subset randomly but as evenly as possible across volumes.\n",
    "\n",
    "Then we do 4000 iterations, each time selecting a \"key\" (gbindex / volume), and (if there are still pairs of sentences for that volume) a pair of sentences from it. (Really a *pair* of pairs of sentences, clean and dirty.)\n",
    "\n",
    "We calculate probabilities and store them in two dicts, ```gbclean``` and ```gbdirty.```\n",
    "\n",
    "**If the clean and dirty probabilities for a sentence pair diverge by more than .50, we print out the pair. This is a long list, but a few examples can be worth inspection. You'll notice that relatively minor changes (a page number or a misplaced quotation mark) can drastically reduce -- or sometimes, surprisingly, increase -- the measured probability, flipping it from near zero to near one or vice-versa.**"
   ]
  },
  {
   "cell_type": "code",
   "execution_count": 78,
   "metadata": {},
   "outputs": [],
   "source": [
    "def check_punct(atuple):\n",
    "    hyphenbreak = False\n",
    "    quotation = False\n",
    "    hasnumeric = False\n",
    "    \n",
    "    for astring in atuple:\n",
    "        if '\"' in astring or '“' in astring or '”' in astring:\n",
    "            quotation = True\n",
    "        if '1' in astring or '0' in astring or '2' in astring or '3' in astring or '4' in astring or '5' in astring:\n",
    "            hasnumeric = True\n",
    "        if '6' in astring or '7' in astring or '8' in astring or '9' in astring:\n",
    "            hasnumeric = True\n",
    "        if '- ' in astring:\n",
    "            hyphenbreak = True\n",
    "    \n",
    "    return hyphenbreak, quotation, hasnumeric\n",
    "  "
   ]
  },
  {
   "cell_type": "code",
   "execution_count": 74,
   "metadata": {},
   "outputs": [
    {
     "data": {
      "text/html": [
       "<div>\n",
       "<style scoped>\n",
       "    .dataframe tbody tr th:only-of-type {\n",
       "        vertical-align: middle;\n",
       "    }\n",
       "\n",
       "    .dataframe tbody tr th {\n",
       "        vertical-align: top;\n",
       "    }\n",
       "\n",
       "    .dataframe thead th {\n",
       "        text-align: right;\n",
       "    }\n",
       "</style>\n",
       "<table border=\"1\" class=\"dataframe\">\n",
       "  <thead>\n",
       "    <tr style=\"text-align: right;\">\n",
       "      <th></th>\n",
       "      <th>docid</th>\n",
       "      <th>author</th>\n",
       "      <th>authordate</th>\n",
       "      <th>title</th>\n",
       "      <th>latestcomp</th>\n",
       "      <th>hathidate</th>\n",
       "      <th>imprint</th>\n",
       "      <th>gutenstring</th>\n",
       "      <th>enumcron</th>\n",
       "      <th>gbindex</th>\n",
       "      <th>...</th>\n",
       "      <th>audience</th>\n",
       "      <th>authgender</th>\n",
       "      <th>multiplehtids</th>\n",
       "      <th>comments</th>\n",
       "      <th>coder</th>\n",
       "      <th>Folder</th>\n",
       "      <th>Trimmed</th>\n",
       "      <th>isbio</th>\n",
       "      <th>passagefails</th>\n",
       "      <th>worderrors</th>\n",
       "    </tr>\n",
       "  </thead>\n",
       "  <tbody>\n",
       "    <tr>\n",
       "      <th>0</th>\n",
       "      <td>inu.30000115426458</td>\n",
       "      <td>Fielding, Henry</td>\n",
       "      <td>1707-1754</td>\n",
       "      <td>The history of the adventures of Joseph Andrew...</td>\n",
       "      <td>1742</td>\n",
       "      <td>1743.0</td>\n",
       "      <td>NaN</td>\n",
       "      <td>NaN</td>\n",
       "      <td>2</td>\n",
       "      <td>9609</td>\n",
       "      <td>...</td>\n",
       "      <td>NaN</td>\n",
       "      <td>m</td>\n",
       "      <td>n</td>\n",
       "      <td>two volumes</td>\n",
       "      <td>ted</td>\n",
       "      <td>18cgutenbergtrimmed</td>\n",
       "      <td>Trimmed</td>\n",
       "      <td>False</td>\n",
       "      <td>0.028328</td>\n",
       "      <td>0.150914</td>\n",
       "    </tr>\n",
       "    <tr>\n",
       "      <th>1</th>\n",
       "      <td>mdp.39015014138518</td>\n",
       "      <td>Hawkins, John</td>\n",
       "      <td>1719-1789</td>\n",
       "      <td>The Life of Samuel Johnson, LLD</td>\n",
       "      <td>1787</td>\n",
       "      <td>1787.0</td>\n",
       "      <td>London: J Buckland</td>\n",
       "      <td>NaN</td>\n",
       "      <td>NaN</td>\n",
       "      <td>HawkJLSbio</td>\n",
       "      <td>...</td>\n",
       "      <td>NaN</td>\n",
       "      <td>m</td>\n",
       "      <td>NaN</td>\n",
       "      <td>NaN</td>\n",
       "      <td>NaN</td>\n",
       "      <td>NaN</td>\n",
       "      <td>NaN</td>\n",
       "      <td>True</td>\n",
       "      <td>0.059192</td>\n",
       "      <td>0.036669</td>\n",
       "    </tr>\n",
       "    <tr>\n",
       "      <th>2</th>\n",
       "      <td>uc2.ark+=13960=t7pn8z31x</td>\n",
       "      <td>Hawthorne, Nathaniel</td>\n",
       "      <td>1804-1864.</td>\n",
       "      <td>Little masterpieces</td>\n",
       "      <td>1864</td>\n",
       "      <td>1897.0</td>\n",
       "      <td>New York;Doubleday &amp; McClure</td>\n",
       "      <td>Hawthorne, Nathaniel | Little Masterpieces</td>\n",
       "      <td>NaN</td>\n",
       "      <td>39716</td>\n",
       "      <td>...</td>\n",
       "      <td>NaN</td>\n",
       "      <td>m</td>\n",
       "      <td>NaN</td>\n",
       "      <td>NaN</td>\n",
       "      <td>peizhen</td>\n",
       "      <td>NaN</td>\n",
       "      <td>NaN</td>\n",
       "      <td>False</td>\n",
       "      <td>0.025850</td>\n",
       "      <td>0.015333</td>\n",
       "    </tr>\n",
       "    <tr>\n",
       "      <th>3</th>\n",
       "      <td>uc2.ark+=13960=t78s4tc10</td>\n",
       "      <td>Kavanagh, Julia</td>\n",
       "      <td>1824-1877.</td>\n",
       "      <td>Rachel Gray</td>\n",
       "      <td>1856</td>\n",
       "      <td>1856.0</td>\n",
       "      <td>New York;Appleton;1856.</td>\n",
       "      <td>Kavanagh, Julia | Rachel Gray</td>\n",
       "      <td>NaN</td>\n",
       "      <td>36160</td>\n",
       "      <td>...</td>\n",
       "      <td>NaN</td>\n",
       "      <td>f</td>\n",
       "      <td>NaN</td>\n",
       "      <td>NaN</td>\n",
       "      <td>peizhen</td>\n",
       "      <td>NaN</td>\n",
       "      <td>NaN</td>\n",
       "      <td>False</td>\n",
       "      <td>0.074475</td>\n",
       "      <td>0.026068</td>\n",
       "    </tr>\n",
       "    <tr>\n",
       "      <th>4</th>\n",
       "      <td>coo1.ark+=13960=t2t447q6w</td>\n",
       "      <td>Boldrewood, Rolf</td>\n",
       "      <td>1826-1915.</td>\n",
       "      <td>Nevermore</td>\n",
       "      <td>1892</td>\n",
       "      <td>1892.0</td>\n",
       "      <td>London and New York, Macmillan and co., 1892.</td>\n",
       "      <td>Boldrewood, Rolf | Nevermore</td>\n",
       "      <td>NaN</td>\n",
       "      <td>34240</td>\n",
       "      <td>...</td>\n",
       "      <td>NaN</td>\n",
       "      <td>m</td>\n",
       "      <td>NaN</td>\n",
       "      <td>NaN</td>\n",
       "      <td>ted</td>\n",
       "      <td>NaN</td>\n",
       "      <td>NaN</td>\n",
       "      <td>False</td>\n",
       "      <td>0.098180</td>\n",
       "      <td>0.009523</td>\n",
       "    </tr>\n",
       "  </tbody>\n",
       "</table>\n",
       "<p>5 rows × 27 columns</p>\n",
       "</div>"
      ],
      "text/plain": [
       "                       docid                author  authordate  \\\n",
       "0         inu.30000115426458       Fielding, Henry   1707-1754   \n",
       "1         mdp.39015014138518         Hawkins, John   1719-1789   \n",
       "2   uc2.ark+=13960=t7pn8z31x  Hawthorne, Nathaniel  1804-1864.   \n",
       "3   uc2.ark+=13960=t78s4tc10       Kavanagh, Julia  1824-1877.   \n",
       "4  coo1.ark+=13960=t2t447q6w      Boldrewood, Rolf  1826-1915.   \n",
       "\n",
       "                                               title  latestcomp  hathidate  \\\n",
       "0  The history of the adventures of Joseph Andrew...        1742     1743.0   \n",
       "1                    The Life of Samuel Johnson, LLD        1787     1787.0   \n",
       "2                                Little masterpieces        1864     1897.0   \n",
       "3                                        Rachel Gray        1856     1856.0   \n",
       "4                                          Nevermore        1892     1892.0   \n",
       "\n",
       "                                         imprint  \\\n",
       "0                                            NaN   \n",
       "1                             London: J Buckland   \n",
       "2                   New York;Doubleday & McClure   \n",
       "3                        New York;Appleton;1856.   \n",
       "4  London and New York, Macmillan and co., 1892.   \n",
       "\n",
       "                                  gutenstring enumcron     gbindex  ...  \\\n",
       "0                                         NaN        2        9609  ...   \n",
       "1                                         NaN      NaN  HawkJLSbio  ...   \n",
       "2  Hawthorne, Nathaniel | Little Masterpieces      NaN       39716  ...   \n",
       "3               Kavanagh, Julia | Rachel Gray      NaN       36160  ...   \n",
       "4                Boldrewood, Rolf | Nevermore      NaN       34240  ...   \n",
       "\n",
       "   audience  authgender  multiplehtids     comments    coder  \\\n",
       "0       NaN           m              n  two volumes      ted   \n",
       "1       NaN           m            NaN          NaN      NaN   \n",
       "2       NaN           m            NaN          NaN  peizhen   \n",
       "3       NaN           f            NaN          NaN  peizhen   \n",
       "4       NaN           m            NaN          NaN      ted   \n",
       "\n",
       "                Folder  Trimmed  isbio passagefails worderrors  \n",
       "0  18cgutenbergtrimmed  Trimmed  False     0.028328   0.150914  \n",
       "1                  NaN      NaN   True     0.059192   0.036669  \n",
       "2                  NaN      NaN  False     0.025850   0.015333  \n",
       "3                  NaN      NaN  False     0.074475   0.026068  \n",
       "4                  NaN      NaN  False     0.098180   0.009523  \n",
       "\n",
       "[5 rows x 27 columns]"
      ]
     },
     "execution_count": 74,
     "metadata": {},
     "output_type": "execute_result"
    }
   ],
   "source": [
    "meta = pd.read_csv('sentencemeta.tsv', sep = '\\t')\n",
    "meta.head()"
   ]
  },
  {
   "cell_type": "code",
   "execution_count": 94,
   "metadata": {},
   "outputs": [
    {
     "name": "stdout",
     "output_type": "stream",
     "text": [
      "\n",
      "0\n",
      "1 826\n",
      "40010  is dead.\n",
      "6593  is dead.\n",
      "1001 52\n",
      "75 3996\n",
      "clean:  Ttest_indResult(statistic=-2.950817366318367, pvalue=0.003206265691946096)\n",
      "dirty:  Ttest_indResult(statistic=-3.8504681108883654, pvalue=0.00012160614323496583)\n",
      "\n",
      "1\n",
      "1 885\n",
      "40010  is dead.\n",
      "6593  is dead.\n",
      "1001 908\n",
      "RichSPO3fic  is dead.\n",
      "31473  is dead.\n",
      "158 3992\n",
      "clean:  Ttest_indResult(statistic=-1.7620117413791672, pvalue=0.07822052050629599)\n",
      "dirty:  Ttest_indResult(statistic=-2.0632009528340474, pvalue=0.03922272228497866)\n",
      "\n",
      "2\n",
      "RichSPO3fic  is dead.\n",
      "1 0\n",
      "40010  is dead.\n",
      "9609  is dead.\n",
      "6593  is dead.\n",
      "CumbRAE2bio  is dead.\n",
      "31473  is dead.\n",
      "1001 810\n",
      "56605  is dead.\n",
      "DefoDLSfic  is dead.\n",
      "228 3984\n",
      "clean:  Ttest_indResult(statistic=-2.091695868409204, pvalue=0.036592208259770664)\n",
      "dirty:  Ttest_indResult(statistic=-2.157038474729613, pvalue=0.031122066507428478)\n",
      "\n",
      "3\n",
      "1 893\n",
      "CumbRAE2bio  is dead.\n",
      "DefoDLSfic  is dead.\n",
      "RichSPO3fic  is dead.\n",
      "9609  is dead.\n",
      "40010  is dead.\n",
      "6593  is dead.\n",
      "56605  is dead.\n",
      "31473  is dead.\n",
      "1001 845\n",
      "49332  is dead.\n",
      "311 3982\n",
      "clean:  Ttest_indResult(statistic=-2.2972289609475443, pvalue=0.02170912849446504)\n",
      "dirty:  Ttest_indResult(statistic=-3.295602478049022, pvalue=0.0009993724109970553)\n",
      "\n",
      "4\n",
      "1 478\n",
      "RichSPO3fic  is dead.\n",
      "56605  is dead.\n",
      "40010  is dead.\n",
      "9609  is dead.\n",
      "31473  is dead.\n",
      "6593  is dead.\n",
      "32424  is dead.\n",
      "DefoDLSfic  is dead.\n",
      "1001 270\n",
      "395 3984\n",
      "clean:  Ttest_indResult(statistic=-4.891856206904124, pvalue=1.0791209817882291e-06)\n",
      "dirty:  Ttest_indResult(statistic=-5.768695434430003, pvalue=9.242537176296261e-09)\n"
     ]
    }
   ],
   "source": [
    "gbdict = dict()\n",
    "\n",
    "ctr = 0\n",
    "for a, b, c in zip(gbindices, cleantuples, dirtytuples):\n",
    "    if a not in gbdict:\n",
    "        gbdict[a] = []\n",
    "    gbdict[a].append((b, c, ctr))\n",
    "    ctr += 1\n",
    "\n",
    "countersrecorded = set()\n",
    "tetragramata = []\n",
    "\n",
    "allhyphen = []\n",
    "allnumeric = []\n",
    "allquote = []\n",
    "allall = []\n",
    "\n",
    "allficcleanprobs = []\n",
    "allbiocleanprobs = []\n",
    "allficdirtyprobs = []\n",
    "allbiodirtyprobs = []\n",
    "\n",
    "for outeriteration in range(5):\n",
    "    print()\n",
    "    print(outeriteration)\n",
    "    keycount = 0\n",
    "    keylist = []\n",
    "\n",
    "    for key in gbdict.keys():\n",
    "        random.shuffle(gbdict[key])\n",
    "        keycount += 1\n",
    "        keylist.append(key)\n",
    "\n",
    "    keylist = random.sample(keylist, 72)\n",
    "\n",
    "    gbclean = dict()\n",
    "    gbdirty = dict()\n",
    "    \n",
    "    hyphenprobs = []\n",
    "    numericprobs = []\n",
    "    quoteprobs = []\n",
    "    allprobs = []\n",
    "\n",
    "    for i in range(2000):\n",
    "\n",
    "        if i % 1000 == 1:\n",
    "            print(i, len(gbdict[key]))\n",
    "\n",
    "        key = random.choice(keylist)\n",
    "\n",
    "        if len(gbdict[key]) < 1:\n",
    "            keylist.pop(keylist.index(key))\n",
    "            print(key, \" is dead.\")\n",
    "            continue\n",
    "\n",
    "        else:     \n",
    "            cleantuple, dirtytuple, counteridx = gbdict[key].pop(-1)\n",
    "\n",
    "        if key not in gbclean:\n",
    "            gbclean[key] = []\n",
    "            gbdirty[key] = []\n",
    "\n",
    "        dirtyprob = get_probability(dirtytuple[0], dirtytuple[1])\n",
    "        cleanprob = get_probability(cleantuple[0], cleantuple[1])\n",
    "        \n",
    "        hyphenbreak, quotation, hasnumeric = check_punct(dirtytuple)\n",
    "        \n",
    "        allprobs.append(dirtyprob)\n",
    "        if hyphenbreak:\n",
    "            hyphenprobs.append(dirtyprob)\n",
    "        if quotation:\n",
    "            quoteprobs.append(dirtyprob)\n",
    "        if hasnumeric:\n",
    "            numericprobs.append(dirtyprob)\n",
    "        \n",
    "        allprobs.append(cleanprob)\n",
    "        hyphenbreak, quotation, hasnumeric = check_punct(cleantuple)\n",
    "        if hyphenbreak:\n",
    "            hyphenprobs.append(cleanprob)\n",
    "        if quotation:\n",
    "            quoteprobs.append(cleanprob)\n",
    "        if hasnumeric:\n",
    "            numericprobs.append(cleanprob)\n",
    "\n",
    "        gbdirty[key].append(dirtyprob)\n",
    "        gbclean[key].append(cleanprob)\n",
    "\n",
    "        if abs(dirtyprob-cleanprob) > .25 and counteridx not in countersrecorded:\n",
    "            tetragram = (cleantuple, dirtytuple, round(cleanprob, 4), round(dirtyprob, 4))\n",
    "            countersrecorded.add(counteridx)\n",
    "            tetragramata.append(tetragram)\n",
    "        \n",
    "    print(len(tetragramata), len(allprobs))\n",
    "\n",
    "    keylist = list(gbclean.keys())\n",
    "    \n",
    "    ficcleanprobs = []\n",
    "    biocleanprobs = []\n",
    "    ficdirtyprobs = []\n",
    "    biodirtyprobs = []\n",
    "\n",
    "    for key in keylist:\n",
    "        genre = meta.loc[meta.gbindex == key, 'genre'].values[0]\n",
    "        if 'fic' in genre:\n",
    "            ficcleanprobs.extend(gbclean[key])\n",
    "            ficdirtyprobs.extend(gbdirty[key])\n",
    "        elif 'bio' in genre:\n",
    "            biocleanprobs.extend(gbclean[key])\n",
    "            biodirtyprobs.extend(gbdirty[key])\n",
    "        else:\n",
    "            print(genre)\n",
    "\n",
    "    print('clean: ', ttest_ind(ficcleanprobs, biocleanprobs))\n",
    "    print('dirty: ', ttest_ind(ficdirtyprobs, biodirtyprobs))\n",
    "    \n",
    "    allficcleanprobs.append(ficcleanprobs)\n",
    "    allbiocleanprobs.append(biocleanprobs)\n",
    "    allficdirtyprobs.append(ficdirtyprobs)\n",
    "    allbiodirtyprobs.append(biodirtyprobs)\n",
    "    \n",
    "    allhyphen.append(hyphenprobs)\n",
    "    allquote.append(quoteprobs)\n",
    "    allnumeric.append(numericprobs)\n",
    "    allall.append(allprobs)\n",
    "    "
   ]
  },
  {
   "cell_type": "code",
   "execution_count": 99,
   "metadata": {},
   "outputs": [],
   "source": [
    "means = []\n",
    "ficbio = []\n",
    "dirtyclean = []\n",
    "subset = []\n",
    "\n",
    "anan = float('nan')\n",
    "\n",
    "for i in range(5):\n",
    "    means.append(np.mean(allhyphen[i]))\n",
    "    ficbio.append(anan)\n",
    "    dirtyclean.append(anan)\n",
    "    subset.append('hyphen')\n",
    "    \n",
    "    means.append(np.mean(allquote[i]))\n",
    "    ficbio.append(anan)\n",
    "    dirtyclean.append(anan)\n",
    "    subset.append('quote')\n",
    "    \n",
    "    means.append(np.mean(allnumeric[i]))\n",
    "    ficbio.append(anan)\n",
    "    dirtyclean.append(anan)\n",
    "    subset.append('numeric')\n",
    "    \n",
    "    means.append(np.mean(allall[i]))\n",
    "    ficbio.append(anan)\n",
    "    dirtyclean.append(anan)\n",
    "    subset.append('all')\n",
    "    \n",
    "    \n",
    "    means.append(np.mean(allficcleanprobs[i]))\n",
    "    ficbio.append('fic')\n",
    "    dirtyclean.append('clean')\n",
    "    subset.append('cleanfic')\n",
    "    \n",
    "    means.append(np.mean(allficdirtyprobs[i]))\n",
    "    ficbio.append('fic')\n",
    "    dirtyclean.append('dirty')\n",
    "    subset.append('dirtyfic')\n",
    "    \n",
    "    means.append(np.mean(allbiocleanprobs[i]))\n",
    "    ficbio.append('bio')\n",
    "    dirtyclean.append('clean')\n",
    "    subset.append('cleanbio')\n",
    "    \n",
    "    means.append(np.mean(allbiodirtyprobs[i]))\n",
    "    ficbio.append('bio')\n",
    "    dirtyclean.append('dirty')\n",
    "    subset.append('dirtybio')\n",
    "\n",
    "    \n",
    "df = pd.DataFrame({'mean': means, 'subset': subset, 'ficbio': ficbio, 'dirtyclean': dirtyclean})"
   ]
  },
  {
   "cell_type": "code",
   "execution_count": 104,
   "metadata": {},
   "outputs": [],
   "source": [
    "import seaborn as sns\n",
    "from matplotlib import pyplot as plt"
   ]
  },
  {
   "cell_type": "code",
   "execution_count": 108,
   "metadata": {},
   "outputs": [
    {
     "data": {
      "text/plain": [
       "<AxesSubplot:xlabel='subset', ylabel='mean'>"
      ]
     },
     "execution_count": 108,
     "metadata": {},
     "output_type": "execute_result"
    },
    {
     "data": {
      "image/png": "[encoded data removed]",
      "text/plain": [
       "<Figure size 648x432 with 1 Axes>"
      ]
     },
     "metadata": {
      "needs_background": "light"
     },
     "output_type": "display_data"
    }
   ],
   "source": [
    "plt.figure(figsize = (9, 6))\n",
    "sns.swarmplot(data = df, x = 'subset', y = 'mean', size = 7)"
   ]
  },
  {
   "cell_type": "code",
   "execution_count": 91,
   "metadata": {},
   "outputs": [
    {
     "data": {
      "text/plain": [
       "0.93801425390625"
      ]
     },
     "execution_count": 91,
     "metadata": {},
     "output_type": "execute_result"
    }
   ],
   "source": [
    "np.mean(numericprobs)"
   ]
  },
  {
   "cell_type": "code",
   "execution_count": 92,
   "metadata": {},
   "outputs": [
    {
     "data": {
      "text/plain": [
       "0.9278837541778076"
      ]
     },
     "execution_count": 92,
     "metadata": {},
     "output_type": "execute_result"
    }
   ],
   "source": [
    "np.mean(allprobs)"
   ]
  },
  {
   "cell_type": "code",
   "execution_count": null,
   "metadata": {},
   "outputs": [],
   "source": [
    "for aseries in [allficcleanp]"
   ]
  },
  {
   "cell_type": "markdown",
   "metadata": {},
   "source": [
    "### Assess results\n",
    "\n",
    "Are the books roughly in the same order no matter whether we use dirty or clean texts?"
   ]
  },
  {
   "cell_type": "code",
   "execution_count": 65,
   "metadata": {},
   "outputs": [],
   "source": [
    "from scipy.stats import pearsonr, spearmanr"
   ]
  },
  {
   "cell_type": "code",
   "execution_count": 66,
   "metadata": {},
   "outputs": [
    {
     "name": "stdout",
     "output_type": "stream",
     "text": [
      "Pearson:  (0.9527454884159031, 9.395404391083857e-11)\n",
      "Spearman:  SpearmanrResult(correlation=0.9744360902255638, pvalue=4.0365222137155066e-13)\n"
     ]
    }
   ],
   "source": [
    "keylist = list(gbclean.keys())\n",
    "\n",
    "cleanprobs = []\n",
    "dirtyprobs = []\n",
    "\n",
    "for key in keylist:\n",
    "    cleanprobs.append(np.mean(gbclean[key]))\n",
    "    dirtyprobs.append(np.mean(gbdirty[key]))\n",
    "\n",
    "print('Pearson: ', pearsonr(cleanprobs, dirtyprobs))\n",
    "print('Spearman: ', spearmanr(cleanprobs, dirtyprobs))"
   ]
  },
  {
   "cell_type": "markdown",
   "metadata": {},
   "source": [
    "**Yes, correlation between the book averages is very high.**"
   ]
  },
  {
   "cell_type": "markdown",
   "metadata": {},
   "source": [
    "### But what if we compare biography to fiction?\n",
    "\n",
    "Read in metadata so we can infer genre."
   ]
  },
  {
   "cell_type": "code",
   "execution_count": 53,
   "metadata": {},
   "outputs": [
    {
     "data": {
      "text/html": [
       "<div>\n",
       "<style scoped>\n",
       "    .dataframe tbody tr th:only-of-type {\n",
       "        vertical-align: middle;\n",
       "    }\n",
       "\n",
       "    .dataframe tbody tr th {\n",
       "        vertical-align: top;\n",
       "    }\n",
       "\n",
       "    .dataframe thead th {\n",
       "        text-align: right;\n",
       "    }\n",
       "</style>\n",
       "<table border=\"1\" class=\"dataframe\">\n",
       "  <thead>\n",
       "    <tr style=\"text-align: right;\">\n",
       "      <th></th>\n",
       "      <th>docid</th>\n",
       "      <th>author</th>\n",
       "      <th>authordate</th>\n",
       "      <th>title</th>\n",
       "      <th>latestcomp</th>\n",
       "      <th>hathidate</th>\n",
       "      <th>imprint</th>\n",
       "      <th>gutenstring</th>\n",
       "      <th>enumcron</th>\n",
       "      <th>gbindex</th>\n",
       "      <th>...</th>\n",
       "      <th>audience</th>\n",
       "      <th>authgender</th>\n",
       "      <th>multiplehtids</th>\n",
       "      <th>comments</th>\n",
       "      <th>coder</th>\n",
       "      <th>Folder</th>\n",
       "      <th>Trimmed</th>\n",
       "      <th>isbio</th>\n",
       "      <th>passagefails</th>\n",
       "      <th>worderrors</th>\n",
       "    </tr>\n",
       "  </thead>\n",
       "  <tbody>\n",
       "    <tr>\n",
       "      <th>0</th>\n",
       "      <td>inu.30000115426458</td>\n",
       "      <td>Fielding, Henry</td>\n",
       "      <td>1707-1754</td>\n",
       "      <td>The history of the adventures of Joseph Andrew...</td>\n",
       "      <td>1742</td>\n",
       "      <td>1743.0</td>\n",
       "      <td>NaN</td>\n",
       "      <td>NaN</td>\n",
       "      <td>2</td>\n",
       "      <td>9609</td>\n",
       "      <td>...</td>\n",
       "      <td>NaN</td>\n",
       "      <td>m</td>\n",
       "      <td>n</td>\n",
       "      <td>two volumes</td>\n",
       "      <td>ted</td>\n",
       "      <td>18cgutenbergtrimmed</td>\n",
       "      <td>Trimmed</td>\n",
       "      <td>False</td>\n",
       "      <td>0.028328</td>\n",
       "      <td>0.150914</td>\n",
       "    </tr>\n",
       "    <tr>\n",
       "      <th>1</th>\n",
       "      <td>mdp.39015014138518</td>\n",
       "      <td>Hawkins, John</td>\n",
       "      <td>1719-1789</td>\n",
       "      <td>The Life of Samuel Johnson, LLD</td>\n",
       "      <td>1787</td>\n",
       "      <td>1787.0</td>\n",
       "      <td>London: J Buckland</td>\n",
       "      <td>NaN</td>\n",
       "      <td>NaN</td>\n",
       "      <td>HawkJLSbio</td>\n",
       "      <td>...</td>\n",
       "      <td>NaN</td>\n",
       "      <td>m</td>\n",
       "      <td>NaN</td>\n",
       "      <td>NaN</td>\n",
       "      <td>NaN</td>\n",
       "      <td>NaN</td>\n",
       "      <td>NaN</td>\n",
       "      <td>True</td>\n",
       "      <td>0.059192</td>\n",
       "      <td>0.036669</td>\n",
       "    </tr>\n",
       "    <tr>\n",
       "      <th>2</th>\n",
       "      <td>uc2.ark+=13960=t7pn8z31x</td>\n",
       "      <td>Hawthorne, Nathaniel</td>\n",
       "      <td>1804-1864.</td>\n",
       "      <td>Little masterpieces</td>\n",
       "      <td>1864</td>\n",
       "      <td>1897.0</td>\n",
       "      <td>New York;Doubleday &amp; McClure</td>\n",
       "      <td>Hawthorne, Nathaniel | Little Masterpieces</td>\n",
       "      <td>NaN</td>\n",
       "      <td>39716</td>\n",
       "      <td>...</td>\n",
       "      <td>NaN</td>\n",
       "      <td>m</td>\n",
       "      <td>NaN</td>\n",
       "      <td>NaN</td>\n",
       "      <td>peizhen</td>\n",
       "      <td>NaN</td>\n",
       "      <td>NaN</td>\n",
       "      <td>False</td>\n",
       "      <td>0.025850</td>\n",
       "      <td>0.015333</td>\n",
       "    </tr>\n",
       "    <tr>\n",
       "      <th>3</th>\n",
       "      <td>uc2.ark+=13960=t78s4tc10</td>\n",
       "      <td>Kavanagh, Julia</td>\n",
       "      <td>1824-1877.</td>\n",
       "      <td>Rachel Gray</td>\n",
       "      <td>1856</td>\n",
       "      <td>1856.0</td>\n",
       "      <td>New York;Appleton;1856.</td>\n",
       "      <td>Kavanagh, Julia | Rachel Gray</td>\n",
       "      <td>NaN</td>\n",
       "      <td>36160</td>\n",
       "      <td>...</td>\n",
       "      <td>NaN</td>\n",
       "      <td>f</td>\n",
       "      <td>NaN</td>\n",
       "      <td>NaN</td>\n",
       "      <td>peizhen</td>\n",
       "      <td>NaN</td>\n",
       "      <td>NaN</td>\n",
       "      <td>False</td>\n",
       "      <td>0.074475</td>\n",
       "      <td>0.026068</td>\n",
       "    </tr>\n",
       "    <tr>\n",
       "      <th>4</th>\n",
       "      <td>coo1.ark+=13960=t2t447q6w</td>\n",
       "      <td>Boldrewood, Rolf</td>\n",
       "      <td>1826-1915.</td>\n",
       "      <td>Nevermore</td>\n",
       "      <td>1892</td>\n",
       "      <td>1892.0</td>\n",
       "      <td>London and New York, Macmillan and co., 1892.</td>\n",
       "      <td>Boldrewood, Rolf | Nevermore</td>\n",
       "      <td>NaN</td>\n",
       "      <td>34240</td>\n",
       "      <td>...</td>\n",
       "      <td>NaN</td>\n",
       "      <td>m</td>\n",
       "      <td>NaN</td>\n",
       "      <td>NaN</td>\n",
       "      <td>ted</td>\n",
       "      <td>NaN</td>\n",
       "      <td>NaN</td>\n",
       "      <td>False</td>\n",
       "      <td>0.098180</td>\n",
       "      <td>0.009523</td>\n",
       "    </tr>\n",
       "  </tbody>\n",
       "</table>\n",
       "<p>5 rows × 27 columns</p>\n",
       "</div>"
      ],
      "text/plain": [
       "                       docid                author  authordate  \\\n",
       "0         inu.30000115426458       Fielding, Henry   1707-1754   \n",
       "1         mdp.39015014138518         Hawkins, John   1719-1789   \n",
       "2   uc2.ark+=13960=t7pn8z31x  Hawthorne, Nathaniel  1804-1864.   \n",
       "3   uc2.ark+=13960=t78s4tc10       Kavanagh, Julia  1824-1877.   \n",
       "4  coo1.ark+=13960=t2t447q6w      Boldrewood, Rolf  1826-1915.   \n",
       "\n",
       "                                               title  latestcomp  hathidate  \\\n",
       "0  The history of the adventures of Joseph Andrew...        1742     1743.0   \n",
       "1                    The Life of Samuel Johnson, LLD        1787     1787.0   \n",
       "2                                Little masterpieces        1864     1897.0   \n",
       "3                                        Rachel Gray        1856     1856.0   \n",
       "4                                          Nevermore        1892     1892.0   \n",
       "\n",
       "                                         imprint  \\\n",
       "0                                            NaN   \n",
       "1                             London: J Buckland   \n",
       "2                   New York;Doubleday & McClure   \n",
       "3                        New York;Appleton;1856.   \n",
       "4  London and New York, Macmillan and co., 1892.   \n",
       "\n",
       "                                  gutenstring enumcron     gbindex  ...  \\\n",
       "0                                         NaN        2        9609  ...   \n",
       "1                                         NaN      NaN  HawkJLSbio  ...   \n",
       "2  Hawthorne, Nathaniel | Little Masterpieces      NaN       39716  ...   \n",
       "3               Kavanagh, Julia | Rachel Gray      NaN       36160  ...   \n",
       "4                Boldrewood, Rolf | Nevermore      NaN       34240  ...   \n",
       "\n",
       "   audience  authgender  multiplehtids     comments    coder  \\\n",
       "0       NaN           m              n  two volumes      ted   \n",
       "1       NaN           m            NaN          NaN      NaN   \n",
       "2       NaN           m            NaN          NaN  peizhen   \n",
       "3       NaN           f            NaN          NaN  peizhen   \n",
       "4       NaN           m            NaN          NaN      ted   \n",
       "\n",
       "                Folder  Trimmed  isbio passagefails worderrors  \n",
       "0  18cgutenbergtrimmed  Trimmed  False     0.028328   0.150914  \n",
       "1                  NaN      NaN   True     0.059192   0.036669  \n",
       "2                  NaN      NaN  False     0.025850   0.015333  \n",
       "3                  NaN      NaN  False     0.074475   0.026068  \n",
       "4                  NaN      NaN  False     0.098180   0.009523  \n",
       "\n",
       "[5 rows x 27 columns]"
      ]
     },
     "execution_count": 53,
     "metadata": {},
     "output_type": "execute_result"
    }
   ],
   "source": [
    "meta = pd.read_csv('sentencemetav1.tsv', sep = '\\t')\n",
    "meta.head()"
   ]
  },
  {
   "cell_type": "code",
   "execution_count": 54,
   "metadata": {},
   "outputs": [
    {
     "data": {
      "text/plain": [
       "Index(['docid', 'author', 'authordate', 'title', 'latestcomp', 'hathidate',\n",
       "       'imprint', 'gutenstring', 'enumcron', 'gbindex', 'nonficprob',\n",
       "       'juvenileprob', 'LOCgenres', 'LOCsubjects', 'contents', 'instances',\n",
       "       'genre', 'audience', 'authgender', 'multiplehtids', 'comments', 'coder',\n",
       "       'Folder', 'Trimmed', 'isbio', 'passagefails', 'worderrors'],\n",
       "      dtype='object')"
      ]
     },
     "execution_count": 54,
     "metadata": {},
     "output_type": "execute_result"
    }
   ],
   "source": [
    "meta.columns"
   ]
  },
  {
   "cell_type": "markdown",
   "metadata": {},
   "source": [
    "Let's reorganize the probabilities-by-volume into master lists for fiction and biography, and then do t tests on the paired lists for both clean and dirty data."
   ]
  },
  {
   "cell_type": "code",
   "execution_count": 68,
   "metadata": {},
   "outputs": [
    {
     "name": "stdout",
     "output_type": "stream",
     "text": [
      "clean:  Ttest_indResult(statistic=-1.2552356633919197, pvalue=0.209466695373298)\n",
      "dirty:  Ttest_indResult(statistic=-2.5526956935666116, pvalue=0.010726182227341407)\n"
     ]
    }
   ],
   "source": [
    "from scipy.stats import ttest_ind\n",
    "keylist = list(gbclean.keys())\n",
    "ficcleanprobs = []\n",
    "biocleanprobs = []\n",
    "ficdirtyprobs = []\n",
    "biodirtyprobs = []\n",
    "\n",
    "for key in keylist:\n",
    "    genre = meta.loc[meta.gbindex == key, 'genre'].values[0]\n",
    "    if 'fic' in genre:\n",
    "        ficcleanprobs.extend(gbclean[key])\n",
    "        ficdirtyprobs.extend(gbdirty[key])\n",
    "    elif 'bio' in genre:\n",
    "        biocleanprobs.extend(gbclean[key])\n",
    "        biodirtyprobs.extend(gbdirty[key])\n",
    "    else:\n",
    "        print(genre)\n",
    "        \n",
    "print('clean: ', ttest_ind(ficcleanprobs, biocleanprobs))\n",
    "print('dirty: ', ttest_ind(ficdirtyprobs, biodirtyprobs))\n",
    "        "
   ]
  },
  {
   "cell_type": "markdown",
   "metadata": {},
   "source": [
    "**Wow, that could be a distortion.** We get a significant difference between biography and fiction, but only using the dirty data!\n",
    "\n",
    "What are the actual means we're talking about here?"
   ]
  },
  {
   "cell_type": "code",
   "execution_count": 63,
   "metadata": {},
   "outputs": [
    {
     "name": "stdout",
     "output_type": "stream",
     "text": [
      "0.937915840296496 0.9471690701195219\n",
      "0.9243410377358491 0.9441725521912351\n"
     ]
    }
   ],
   "source": [
    "print(np.mean(ficcleanprobs), np.mean(biocleanprobs))\n",
    "print(np.mean(ficdirtyprobs), np.mean(biodirtyprobs))"
   ]
  },
  {
   "cell_type": "markdown",
   "metadata": {},
   "source": [
    "One working hypothesis here is that quotation marks tend to reduce perceived probability of transition. They're more common in fiction to start with, and *misplaced* quotation marks seem to be especially fatal. So there could be something about next-sentence prediction, and about the bio/fic boundary, that makes bad OCR esp fatal here.\n",
    "\n",
    "It's also notable that dirty probabilities are generally (and significantly) lower than clean."
   ]
  }
 ],
 "metadata": {
  "kernelspec": {
   "display_name": "Python 3",
   "language": "python",
   "name": "python3"
  },
  "language_info": {
   "codemirror_mode": {
    "name": "ipython",
    "version": 3
   },
   "file_extension": ".py",
   "mimetype": "text/x-python",
   "name": "python",
   "nbconvert_exporter": "python",
   "pygments_lexer": "ipython3",
   "version": "3.7.6"
  }
 },
 "nbformat": 4,
 "nbformat_minor": 4
}
