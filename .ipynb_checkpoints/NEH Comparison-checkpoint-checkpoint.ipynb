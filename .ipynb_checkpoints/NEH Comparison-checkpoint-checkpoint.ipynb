{
 "cells": [
  {
   "cell_type": "code",
   "execution_count": 1,
   "metadata": {},
   "outputs": [],
   "source": [
    "import pandas as pd\n",
    "import numpy as np\n",
    "from pathlib import Path"
   ]
  },
  {
   "cell_type": "code",
   "execution_count": 9,
   "metadata": {},
   "outputs": [
    {
     "data": {
      "text/plain": [
       "98"
      ]
     },
     "execution_count": 9,
     "metadata": {},
     "output_type": "execute_result"
    }
   ],
   "source": [
    "bio = pd.read_csv('bio_wehave.csv',  encoding = 'utf-8')  #Wenyi's files he sent on slack\n",
    "len(bio)"
   ]
  },
  {
   "cell_type": "code",
   "execution_count": 3,
   "metadata": {},
   "outputs": [
    {
     "data": {
      "text/html": [
       "<div>\n",
       "<style scoped>\n",
       "    .dataframe tbody tr th:only-of-type {\n",
       "        vertical-align: middle;\n",
       "    }\n",
       "\n",
       "    .dataframe tbody tr th {\n",
       "        vertical-align: top;\n",
       "    }\n",
       "\n",
       "    .dataframe thead th {\n",
       "        text-align: right;\n",
       "    }\n",
       "</style>\n",
       "<table border=\"1\" class=\"dataframe\">\n",
       "  <thead>\n",
       "    <tr style=\"text-align: right;\">\n",
       "      <th></th>\n",
       "      <th>Unnamed: 0</th>\n",
       "      <th>docid</th>\n",
       "      <th>Success</th>\n",
       "      <th>Pages</th>\n",
       "      <th>Multivolumes</th>\n",
       "    </tr>\n",
       "  </thead>\n",
       "  <tbody>\n",
       "    <tr>\n",
       "      <th>0</th>\n",
       "      <td>1.0</td>\n",
       "      <td>loc.ark=+13960+t5p851b8s</td>\n",
       "      <td>y</td>\n",
       "      <td>412.0</td>\n",
       "      <td>NaN</td>\n",
       "    </tr>\n",
       "    <tr>\n",
       "      <th>1</th>\n",
       "      <td>2.0</td>\n",
       "      <td>hvd.32044070870779</td>\n",
       "      <td>y</td>\n",
       "      <td>454.0</td>\n",
       "      <td>NaN</td>\n",
       "    </tr>\n",
       "    <tr>\n",
       "      <th>2</th>\n",
       "      <td>3.0</td>\n",
       "      <td>mdp.39015005892362</td>\n",
       "      <td>y</td>\n",
       "      <td>278.0</td>\n",
       "      <td>NaN</td>\n",
       "    </tr>\n",
       "    <tr>\n",
       "      <th>3</th>\n",
       "      <td>4.0</td>\n",
       "      <td>mdp.39015051108531</td>\n",
       "      <td>y</td>\n",
       "      <td>220.0</td>\n",
       "      <td>NaN</td>\n",
       "    </tr>\n",
       "    <tr>\n",
       "      <th>4</th>\n",
       "      <td>5.0</td>\n",
       "      <td>loc.ark=+13960+t6b27z54n</td>\n",
       "      <td>y</td>\n",
       "      <td>358.0</td>\n",
       "      <td>NaN</td>\n",
       "    </tr>\n",
       "  </tbody>\n",
       "</table>\n",
       "</div>"
      ],
      "text/plain": [
       "   Unnamed: 0                     docid Success  Pages Multivolumes\n",
       "0         1.0  loc.ark=+13960+t5p851b8s       y  412.0          NaN\n",
       "1         2.0        hvd.32044070870779       y  454.0          NaN\n",
       "2         3.0        mdp.39015005892362       y  278.0          NaN\n",
       "3         4.0        mdp.39015051108531       y  220.0          NaN\n",
       "4         5.0  loc.ark=+13960+t6b27z54n       y  358.0          NaN"
      ]
     },
     "execution_count": 3,
     "metadata": {},
     "output_type": "execute_result"
    }
   ],
   "source": [
    "bio.head()"
   ]
  },
  {
   "cell_type": "code",
   "execution_count": 8,
   "metadata": {},
   "outputs": [
    {
     "data": {
      "text/plain": [
       "565"
      ]
     },
     "execution_count": 8,
     "metadata": {},
     "output_type": "execute_result"
    }
   ],
   "source": [
    "fic = pd.read_csv('fiction_wehave.csv',  encoding = 'utf-8') #the other Wenyi file\n",
    "fic.head()\n",
    "len(fic)"
   ]
  },
  {
   "cell_type": "code",
   "execution_count": 5,
   "metadata": {},
   "outputs": [],
   "source": [
    "ficids = fic.loc[(fic['docid'] != 'NA')]\n",
    "bioids = bio.loc[(bio['docid'] != 'NA')]\n",
    "whatwehave = ficids.append(bioids) "
   ]
  },
  {
   "cell_type": "code",
   "execution_count": 7,
   "metadata": {},
   "outputs": [
    {
     "data": {
      "text/plain": [
       "663"
      ]
     },
     "execution_count": 7,
     "metadata": {},
     "output_type": "execute_result"
    }
   ],
   "source": [
    "len(whatwehave)  #sounds about right, with Wenyi's summary?"
   ]
  },
  {
   "cell_type": "code",
   "execution_count": 43,
   "metadata": {},
   "outputs": [],
   "source": [
    "#Things that *might* be missing -- based on date updated, we added to the ted fic file and you & I added extra older texts!\n",
    "\n",
    "tedfic = pd.read_csv('we added to ted_fic.csv',  encoding = 'utf-8') \n",
    "extra18cbio = pd.read_csv('extra18cbio.csv',  encoding = 'utf-8') \n",
    "extra18cfic = pd.read_csv('extra 18cFiction.csv',  encoding = 'utf-8') "
   ]
  },
  {
   "cell_type": "code",
   "execution_count": 53,
   "metadata": {},
   "outputs": [
    {
     "data": {
      "text/plain": [
       "175"
      ]
     },
     "execution_count": 53,
     "metadata": {},
     "output_type": "execute_result"
    }
   ],
   "source": [
    "tedficids = tedfic.loc[(tedfic['docid'] != 'NA')]\n",
    "extra18cbioids = extra18cbio.loc[(extra18cbio['docid'] != 'NA')]\n",
    "whatwemiss = tedficids.append(extra18cbioids) \n",
    "len(tedficids)"
   ]
  },
  {
   "cell_type": "code",
   "execution_count": 19,
   "metadata": {},
   "outputs": [],
   "source": [
    "extra18cficids = extra18cfic.loc[(extra18cfic['docid'] != 'NA')]\n",
    "whatwemiss2 = whatwemiss.append(extra18cficids)"
   ]
  },
  {
   "cell_type": "code",
   "execution_count": 20,
   "metadata": {},
   "outputs": [
    {
     "data": {
      "text/plain": [
       "230"
      ]
     },
     "execution_count": 20,
     "metadata": {},
     "output_type": "execute_result"
    }
   ],
   "source": [
    "len(whatwemiss2)"
   ]
  },
  {
   "cell_type": "code",
   "execution_count": 44,
   "metadata": {},
   "outputs": [
    {
     "data": {
      "text/plain": [
       "False    593\n",
       "True      70\n",
       "Name: docid, dtype: int64"
      ]
     },
     "execution_count": 44,
     "metadata": {},
     "output_type": "execute_result"
    }
   ],
   "source": [
    "whatwehave['docid'].isin(whatwemiss2['docid']).value_counts() #70 of the ted fic books had already been collected in Wenyi's first run "
   ]
  },
  {
   "cell_type": "code",
   "execution_count": 54,
   "metadata": {
    "scrolled": true
   },
   "outputs": [
    {
     "data": {
      "text/plain": [
       "160"
      ]
     },
     "execution_count": 54,
     "metadata": {},
     "output_type": "execute_result"
    }
   ],
   "source": [
    "len(extra18cbioids) + len(extra18cficids) + 105 # 105 = tedfic length - the number of books already collected "
   ]
  },
  {
   "cell_type": "code",
   "execution_count": 41,
   "metadata": {},
   "outputs": [],
   "source": [
    "missingbooks = set(whatwemiss2['docid']).difference(set(whatwehave['docid'])) "
   ]
  },
  {
   "cell_type": "code",
   "execution_count": 36,
   "metadata": {},
   "outputs": [
    {
     "data": {
      "text/plain": [
       "160"
      ]
     },
     "execution_count": 36,
     "metadata": {},
     "output_type": "execute_result"
    }
   ],
   "source": [
    "len(missingbooks) #math checks out"
   ]
  },
  {
   "cell_type": "code",
   "execution_count": 49,
   "metadata": {},
   "outputs": [],
   "source": [
    "bookstoadd = whatwemiss2.loc[(whatwemiss2['docid'].isin(missingbooks))]"
   ]
  },
  {
   "cell_type": "code",
   "execution_count": 50,
   "metadata": {},
   "outputs": [
    {
     "data": {
      "text/html": [
       "<div>\n",
       "<style scoped>\n",
       "    .dataframe tbody tr th:only-of-type {\n",
       "        vertical-align: middle;\n",
       "    }\n",
       "\n",
       "    .dataframe tbody tr th {\n",
       "        vertical-align: top;\n",
       "    }\n",
       "\n",
       "    .dataframe thead th {\n",
       "        text-align: right;\n",
       "    }\n",
       "</style>\n",
       "<table border=\"1\" class=\"dataframe\">\n",
       "  <thead>\n",
       "    <tr style=\"text-align: right;\">\n",
       "      <th></th>\n",
       "      <th>docid</th>\n",
       "      <th>author</th>\n",
       "      <th>authordate</th>\n",
       "      <th>title</th>\n",
       "      <th>latestcomp</th>\n",
       "      <th>hathidate</th>\n",
       "      <th>imprint</th>\n",
       "      <th>gutenstring</th>\n",
       "      <th>enumcron</th>\n",
       "      <th>gbindex</th>\n",
       "      <th>...</th>\n",
       "      <th>LOCgenres</th>\n",
       "      <th>LOCsubjects</th>\n",
       "      <th>contents</th>\n",
       "      <th>instances</th>\n",
       "      <th>genre</th>\n",
       "      <th>audience</th>\n",
       "      <th>authgender</th>\n",
       "      <th>multiplehtids</th>\n",
       "      <th>comments</th>\n",
       "      <th>coder</th>\n",
       "    </tr>\n",
       "  </thead>\n",
       "  <tbody>\n",
       "    <tr>\n",
       "      <th>0</th>\n",
       "      <td>uc2.ark+=13960=t8df6n879</td>\n",
       "      <td>Abbott, Edwin Abbott</td>\n",
       "      <td>1838-1926.</td>\n",
       "      <td>Philochristus</td>\n",
       "      <td>1878</td>\n",
       "      <td>1878.0</td>\n",
       "      <td>London;Macmillan;1878.</td>\n",
       "      <td>Abbott, Edwin Abbott | Philochristus</td>\n",
       "      <td>NaN</td>\n",
       "      <td>48843</td>\n",
       "      <td>...</td>\n",
       "      <td>NaN</td>\n",
       "      <td>Jesus Christ</td>\n",
       "      <td>NaN</td>\n",
       "      <td>1.0</td>\n",
       "      <td>fic | historical</td>\n",
       "      <td>NaN</td>\n",
       "      <td>m</td>\n",
       "      <td>NaN</td>\n",
       "      <td>some utf-8 errors in Gutenberg text</td>\n",
       "      <td>NaN</td>\n",
       "    </tr>\n",
       "    <tr>\n",
       "      <th>1</th>\n",
       "      <td>loc.ark+=13960=t0sq92228</td>\n",
       "      <td>Abbott, Henry</td>\n",
       "      <td>1850-</td>\n",
       "      <td>Lost Pond</td>\n",
       "      <td>1915</td>\n",
       "      <td>1915.0</td>\n",
       "      <td>New York;1915.</td>\n",
       "      <td>Abbott, Henry | Lost Pond</td>\n",
       "      <td>NaN</td>\n",
       "      <td>34669</td>\n",
       "      <td>...</td>\n",
       "      <td>NaN</td>\n",
       "      <td>Description and travel|Adirondack Mountains (N...</td>\n",
       "      <td>NaN</td>\n",
       "      <td>1.0</td>\n",
       "      <td>bio</td>\n",
       "      <td>NaN</td>\n",
       "      <td>m</td>\n",
       "      <td>NaN</td>\n",
       "      <td>very short</td>\n",
       "      <td>NaN</td>\n",
       "    </tr>\n",
       "    <tr>\n",
       "      <th>7</th>\n",
       "      <td>uc2.ark+=13960=t40s0065x</td>\n",
       "      <td>Alcock, Deborah</td>\n",
       "      <td>1835-1913.</td>\n",
       "      <td>The Spanish brothers</td>\n",
       "      <td>1888</td>\n",
       "      <td>1891.0</td>\n",
       "      <td>London ; New York;T. Nelson;</td>\n",
       "      <td>Alcock, Deborah | The Spanish Brothers</td>\n",
       "      <td>NaN</td>\n",
       "      <td>44262</td>\n",
       "      <td>...</td>\n",
       "      <td>NaN</td>\n",
       "      <td>NaN</td>\n",
       "      <td>NaN</td>\n",
       "      <td>1.0</td>\n",
       "      <td>fic | historical</td>\n",
       "      <td>NaN</td>\n",
       "      <td>f</td>\n",
       "      <td>NaN</td>\n",
       "      <td>NaN</td>\n",
       "      <td>NaN</td>\n",
       "    </tr>\n",
       "    <tr>\n",
       "      <th>11</th>\n",
       "      <td>uc2.ark+=13960=t7zk56x55</td>\n",
       "      <td>Allen, James Lane</td>\n",
       "      <td>1849-1925.</td>\n",
       "      <td>The Kentucky warbler</td>\n",
       "      <td>1918</td>\n",
       "      <td>1918.0</td>\n",
       "      <td>Garden City, New York;Double</td>\n",
       "      <td>Allen, James Lane | The Kentucky Warbler</td>\n",
       "      <td>NaN</td>\n",
       "      <td>46905</td>\n",
       "      <td>...</td>\n",
       "      <td>NaN</td>\n",
       "      <td>NaN</td>\n",
       "      <td>NaN</td>\n",
       "      <td>3.0</td>\n",
       "      <td>fic</td>\n",
       "      <td>NaN</td>\n",
       "      <td>m</td>\n",
       "      <td>NaN</td>\n",
       "      <td>NaN</td>\n",
       "      <td>NaN</td>\n",
       "    </tr>\n",
       "    <tr>\n",
       "      <th>12</th>\n",
       "      <td>uc2.ark+=13960=t1vd6r264</td>\n",
       "      <td>Allen, Willis Boyd</td>\n",
       "      <td>1855-1938.</td>\n",
       "      <td>The north Pacific</td>\n",
       "      <td>1905</td>\n",
       "      <td>1905.0</td>\n",
       "      <td>New York;E.P. Dutton &amp; Compa</td>\n",
       "      <td>Allen, Willis Boyd | The North Pacific</td>\n",
       "      <td>NaN</td>\n",
       "      <td>45413</td>\n",
       "      <td>...</td>\n",
       "      <td>NaN</td>\n",
       "      <td>Russo-Japanese War, 1904-1905</td>\n",
       "      <td>NaN</td>\n",
       "      <td>1.0</td>\n",
       "      <td>fic</td>\n",
       "      <td>NaN</td>\n",
       "      <td>m</td>\n",
       "      <td>NaN</td>\n",
       "      <td>NaN</td>\n",
       "      <td>NaN</td>\n",
       "    </tr>\n",
       "  </tbody>\n",
       "</table>\n",
       "<p>5 rows × 22 columns</p>\n",
       "</div>"
      ],
      "text/plain": [
       "                       docid                author  authordate  \\\n",
       "0   uc2.ark+=13960=t8df6n879  Abbott, Edwin Abbott  1838-1926.   \n",
       "1   loc.ark+=13960=t0sq92228         Abbott, Henry       1850-   \n",
       "7   uc2.ark+=13960=t40s0065x       Alcock, Deborah  1835-1913.   \n",
       "11  uc2.ark+=13960=t7zk56x55     Allen, James Lane  1849-1925.   \n",
       "12  uc2.ark+=13960=t1vd6r264    Allen, Willis Boyd  1855-1938.   \n",
       "\n",
       "                   title  latestcomp  hathidate                       imprint  \\\n",
       "0          Philochristus        1878     1878.0        London;Macmillan;1878.   \n",
       "1              Lost Pond        1915     1915.0                New York;1915.   \n",
       "7   The Spanish brothers        1888     1891.0  London ; New York;T. Nelson;   \n",
       "11  The Kentucky warbler        1918     1918.0  Garden City, New York;Double   \n",
       "12     The north Pacific        1905     1905.0  New York;E.P. Dutton & Compa   \n",
       "\n",
       "                                 gutenstring enumcron gbindex  ...  LOCgenres  \\\n",
       "0       Abbott, Edwin Abbott | Philochristus      NaN   48843  ...        NaN   \n",
       "1                  Abbott, Henry | Lost Pond      NaN   34669  ...        NaN   \n",
       "7     Alcock, Deborah | The Spanish Brothers      NaN   44262  ...        NaN   \n",
       "11  Allen, James Lane | The Kentucky Warbler      NaN   46905  ...        NaN   \n",
       "12    Allen, Willis Boyd | The North Pacific      NaN   45413  ...        NaN   \n",
       "\n",
       "                                          LOCsubjects contents instances  \\\n",
       "0                                        Jesus Christ      NaN       1.0   \n",
       "1   Description and travel|Adirondack Mountains (N...      NaN       1.0   \n",
       "7                                                 NaN      NaN       1.0   \n",
       "11                                                NaN      NaN       3.0   \n",
       "12                      Russo-Japanese War, 1904-1905      NaN       1.0   \n",
       "\n",
       "               genre  audience authgender multiplehtids  \\\n",
       "0   fic | historical       NaN          m           NaN   \n",
       "1                bio       NaN          m           NaN   \n",
       "7   fic | historical       NaN          f           NaN   \n",
       "11               fic       NaN          m           NaN   \n",
       "12               fic       NaN          m           NaN   \n",
       "\n",
       "                               comments coder  \n",
       "0   some utf-8 errors in Gutenberg text   NaN  \n",
       "1                            very short   NaN  \n",
       "7                                   NaN   NaN  \n",
       "11                                  NaN   NaN  \n",
       "12                                  NaN   NaN  \n",
       "\n",
       "[5 rows x 22 columns]"
      ]
     },
     "execution_count": 50,
     "metadata": {},
     "output_type": "execute_result"
    }
   ],
   "source": [
    "bookstoadd.head()"
   ]
  },
  {
   "cell_type": "code",
   "execution_count": 51,
   "metadata": {},
   "outputs": [
    {
     "data": {
      "text/plain": [
       "160"
      ]
     },
     "execution_count": 51,
     "metadata": {},
     "output_type": "execute_result"
    }
   ],
   "source": [
    "len(bookstoadd)"
   ]
  },
  {
   "cell_type": "code",
   "execution_count": 52,
   "metadata": {},
   "outputs": [],
   "source": [
    "bookstoadd.to_csv('bookstoadd.csv')"
   ]
  }
 ],
 "metadata": {
  "kernelspec": {
   "display_name": "Python 3",
   "language": "python",
   "name": "python3"
  },
  "language_info": {
   "codemirror_mode": {
    "name": "ipython",
    "version": 3
   },
   "file_extension": ".py",
   "mimetype": "text/x-python",
   "name": "python",
   "nbconvert_exporter": "python",
   "pygments_lexer": "ipython3",
   "version": "3.8.3"
  }
 },
 "nbformat": 4,
 "nbformat_minor": 4
}
